{
  "nbformat": 4,
  "nbformat_minor": 0,
  "metadata": {
    "colab": {
      "name": "text_image_classification.ipynb",
      "provenance": [],
      "collapsed_sections": [],
      "authorship_tag": "ABX9TyOhPq292MxLGJ65VIfvcW4c",
      "include_colab_link": true
    },
    "kernelspec": {
      "name": "python3",
      "display_name": "Python 3"
    },
    "language_info": {
      "name": "python"
    }
  },
  "cells": [
    {
      "cell_type": "markdown",
      "metadata": {
        "id": "view-in-github",
        "colab_type": "text"
      },
      "source": [
        "<a href=\"https://colab.research.google.com/github/JeongJeong-code/P6_market_place/blob/main/text_image_classification.ipynb\" target=\"_parent\"><img src=\"https://colab.research.google.com/assets/colab-badge.svg\" alt=\"Open In Colab\"/></a>"
      ]
    },
    {
      "cell_type": "code",
      "metadata": {
        "colab": {
          "base_uri": "https://localhost:8080/"
        },
        "id": "swm-HL5HhbeE",
        "outputId": "d0ce360e-46d6-4b55-c58b-a834685bb638"
      },
      "source": [
        "import sys\n",
        "import numpy as np\n",
        "import matplotlib.pyplot as plt\n",
        "from enum import Enum\n",
        "from google.colab import files\n",
        "import pandas as pd\n",
        "import seaborn as sns\n",
        "import os.path\n",
        "import missingno as mi\n",
        "import re\n",
        "import sklearn as sk\n",
        "from mpl_toolkits.mplot3d import Axes3D\n",
        "from sklearn.preprocessing import StandardScaler\n",
        "from sklearn.decomposition import PCA\n",
        "from sklearn.metrics.cluster import adjusted_rand_score\n",
        "import statsmodels.api as sm\n",
        "from statsmodels.formula.api import ols\n",
        "from sklearn.preprocessing import StandardScaler\n",
        "from sklearn.preprocessing import OneHotEncoder\n",
        "from sklearn.compose import make_column_transformer\n",
        "from sklearn.manifold import TSNE\n",
        "from sklearn.metrics.cluster import homogeneity_score\n",
        "from sklearn.decomposition import KernelPCA\n",
        "from sklearn.cluster import (AgglomerativeClustering,\n",
        "                             KMeans, DBSCAN, SpectralClustering)\n",
        "from sklearn.metrics import davies_bouldin_score, silhouette_score\n",
        "! {sys.executable} -m pip install ipynb\n",
        "\n",
        "import cv2 as cv\n",
        "from tqdm import tqdm"
      ],
      "execution_count": null,
      "outputs": [
        {
          "output_type": "stream",
          "name": "stdout",
          "text": [
            "Requirement already satisfied: ipynb in /usr/local/lib/python3.7/dist-packages (0.5.1)\n"
          ]
        }
      ]
    },
    {
      "cell_type": "code",
      "metadata": {
        "id": "wHwcv6RcrBew",
        "colab": {
          "base_uri": "https://localhost:8080/"
        },
        "outputId": "25a3cba8-2642-4185-932e-1dee7f0136cc"
      },
      "source": [
        "from google.colab import drive\n",
        "drive.mount('/content/drive')"
      ],
      "execution_count": null,
      "outputs": [
        {
          "output_type": "stream",
          "name": "stdout",
          "text": [
            "Mounted at /content/drive\n"
          ]
        }
      ]
    },
    {
      "cell_type": "code",
      "metadata": {
        "colab": {
          "base_uri": "https://localhost:8080/"
        },
        "id": "x8aLtI58hdrl",
        "outputId": "5c06fab5-9957-4858-d055-847ea40d39e6"
      },
      "source": [
        "import nltk\n",
        "nltk.download('punkt')\n",
        "nltk.download('stopwords')\n",
        "nltk.download('wordnet')"
      ],
      "execution_count": null,
      "outputs": [
        {
          "output_type": "stream",
          "name": "stdout",
          "text": [
            "[nltk_data] Downloading package punkt to /root/nltk_data...\n",
            "[nltk_data]   Package punkt is already up-to-date!\n",
            "[nltk_data] Downloading package stopwords to /root/nltk_data...\n",
            "[nltk_data]   Package stopwords is already up-to-date!\n",
            "[nltk_data] Downloading package wordnet to /root/nltk_data...\n",
            "[nltk_data]   Package wordnet is already up-to-date!\n"
          ]
        },
        {
          "output_type": "execute_result",
          "data": {
            "text/plain": [
              "True"
            ]
          },
          "metadata": {},
          "execution_count": 33
        }
      ]
    },
    {
      "cell_type": "code",
      "metadata": {
        "id": "S--MLIzxhfTs",
        "colab": {
          "base_uri": "https://localhost:8080/"
        },
        "outputId": "20cd0e78-6f5e-4b2b-f072-98fe1b13863c"
      },
      "source": [
        "url = 'https://raw.githubusercontent.com/JeongJeong-code/P6_market_place/main/df1_test.csv'\n",
        "df1_test= pd.read_csv(url)\n",
        "print(len(df1_test))\n",
        "df1_test =df1_test[df1_test['image'] !='9743e6d1c9f3180483825fe4d2e97836.jpg']\n",
        "print(len(df1_test))"
      ],
      "execution_count": null,
      "outputs": [
        {
          "output_type": "stream",
          "name": "stdout",
          "text": [
            "928\n",
            "927\n"
          ]
        }
      ]
    },
    {
      "cell_type": "code",
      "metadata": {
        "id": "yd7HOkJkhhal"
      },
      "source": [
        "from sklearn.feature_extraction.text import TfidfVectorizer\n",
        "from sklearn.feature_extraction.text import CountVectorizer\n",
        "import nltk.stem\n",
        "import string"
      ],
      "execution_count": null,
      "outputs": []
    },
    {
      "cell_type": "code",
      "metadata": {
        "id": "gm9yRAUGiTM2"
      },
      "source": [
        "from nltk.tokenize import RegexpTokenizer\n",
        "\n",
        "tokenizer = RegexpTokenizer(r'\\w+')\n",
        "tokenize_desc = pd.Series(df1_test.description.str.lower().apply(tokenizer.tokenize),name ='tokenize_desc')"
      ],
      "execution_count": null,
      "outputs": []
    },
    {
      "cell_type": "code",
      "metadata": {
        "id": "B4VsnOXWo0Iz"
      },
      "source": [
        ""
      ],
      "execution_count": null,
      "outputs": []
    },
    {
      "cell_type": "code",
      "metadata": {
        "id": "hMdR9zDOicJR"
      },
      "source": [
        "all_words = [word for tokens in tokenize_desc for word in tokens]\n",
        "from collections import Counter\n",
        "count_all_words = Counter(all_words)\n",
        "#count_all_words.most_common(100)"
      ],
      "execution_count": null,
      "outputs": []
    },
    {
      "cell_type": "code",
      "metadata": {
        "id": "fh9xEv1Ciwh1"
      },
      "source": [
        "stopword_list = nltk_stop_words = nltk.corpus.stopwords.words('english') + list(count_all_words.most_common(100))\n"
      ],
      "execution_count": null,
      "outputs": []
    },
    {
      "cell_type": "code",
      "metadata": {
        "id": "SeWFg7J8jScq"
      },
      "source": [
        "from sklearn import preprocessing\n",
        "le = preprocessing.LabelEncoder()\n",
        "y = pd.Series(le.fit_transform(df1_test.categories),name='class_labels')\n",
        "\n",
        "\n"
      ],
      "execution_count": null,
      "outputs": []
    },
    {
      "cell_type": "code",
      "metadata": {
        "id": "v4rdo5P7oq5k"
      },
      "source": [
        ""
      ],
      "execution_count": null,
      "outputs": []
    },
    {
      "cell_type": "code",
      "metadata": {
        "id": "o8FFLp9Wjkiu"
      },
      "source": [
        "list_labels = y\n",
        "list_tokens = tokenize_desc"
      ],
      "execution_count": null,
      "outputs": []
    },
    {
      "cell_type": "code",
      "metadata": {
        "colab": {
          "base_uri": "https://localhost:8080/"
        },
        "id": "U6PDb0ZzkKSU",
        "outputId": "5a44399c-d15d-448f-c01c-59ef51dd7a35"
      },
      "source": [
        "list_tokens"
      ],
      "execution_count": null,
      "outputs": [
        {
          "output_type": "execute_result",
          "data": {
            "text/plain": [
              "0      [key, features, of, elegance, polyester, multi...\n",
              "1      [specifications, of, sathiyas, cotton, bath, t...\n",
              "2      [key, features, of, eurospa, cotton, terry, fa...\n",
              "3      [key, features, of, santosh, royal, fashion, c...\n",
              "4      [key, features, of, jaipur, print, cotton, flo...\n",
              "                             ...                        \n",
              "923    [oren, empower, extra, large, self, adhesive, ...\n",
              "924    [wallmantra, large, vinyl, sticker, sticker, p...\n",
              "925    [buy, uberlyfe, extra, large, pigmented, polyv...\n",
              "926    [buy, wallmantra, medium, vinyl, sticker, stic...\n",
              "927    [buy, uberlyfe, large, vinyl, sticker, for, rs...\n",
              "Name: tokenize_desc, Length: 927, dtype: object"
            ]
          },
          "metadata": {},
          "execution_count": 41
        }
      ]
    },
    {
      "cell_type": "code",
      "metadata": {
        "id": "cPJbC2-skiCg"
      },
      "source": [
        "from sklearn.model_selection import train_test_split\n",
        "#X_train,X_test,y_train,y_test = train_test_split(df1_test.description,y, test_size=0.1, random_state=40)\n",
        "X_train =df1_test.description\n",
        "y_train = y"
      ],
      "execution_count": null,
      "outputs": []
    },
    {
      "cell_type": "code",
      "metadata": {
        "colab": {
          "base_uri": "https://localhost:8080/"
        },
        "id": "FeIaKG1SnCER",
        "outputId": "472d0fb1-8935-4668-ee32-94161389692d"
      },
      "source": [
        "X_train[:10]"
      ],
      "execution_count": null,
      "outputs": [
        {
          "output_type": "execute_result",
          "data": {
            "text/plain": [
              "0    Key Features of Elegance Polyester Multicolor ...\n",
              "1    Specifications of Sathiyas Cotton Bath Towel (...\n",
              "2    Key Features of Eurospa Cotton Terry Face Towe...\n",
              "3    Key Features of SANTOSH ROYAL FASHION Cotton P...\n",
              "4    Key Features of Jaipur Print Cotton Floral Kin...\n",
              "5    Maserati Time R8851116001 Analog Watch  - For ...\n",
              "6    Camerii WM64 Elegance Analog Watch  - For Men,...\n",
              "7    T STAR UFT-TSW-005-BK-BR Analog Watch  - For B...\n",
              "8    Alfajr WY16B Youth Digital Watch  - For Men, B...\n",
              "9    TAG Heuer CAU1116.BA0858 Formula 1 Analog Watc...\n",
              "Name: description, dtype: object"
            ]
          },
          "metadata": {},
          "execution_count": 43
        }
      ]
    },
    {
      "cell_type": "code",
      "metadata": {
        "id": "aellkceluJK0",
        "colab": {
          "base_uri": "https://localhost:8080/",
          "height": 206
        },
        "outputId": "694f6316-a799-40e5-d06f-4f54de5f05f6"
      },
      "source": [
        "df1_test.head()"
      ],
      "execution_count": null,
      "outputs": [
        {
          "output_type": "execute_result",
          "data": {
            "text/html": [
              "<div>\n",
              "<style scoped>\n",
              "    .dataframe tbody tr th:only-of-type {\n",
              "        vertical-align: middle;\n",
              "    }\n",
              "\n",
              "    .dataframe tbody tr th {\n",
              "        vertical-align: top;\n",
              "    }\n",
              "\n",
              "    .dataframe thead th {\n",
              "        text-align: right;\n",
              "    }\n",
              "</style>\n",
              "<table border=\"1\" class=\"dataframe\">\n",
              "  <thead>\n",
              "    <tr style=\"text-align: right;\">\n",
              "      <th></th>\n",
              "      <th>Unnamed: 0</th>\n",
              "      <th>product_name</th>\n",
              "      <th>image</th>\n",
              "      <th>description</th>\n",
              "      <th>product_specifications</th>\n",
              "      <th>categories</th>\n",
              "    </tr>\n",
              "  </thead>\n",
              "  <tbody>\n",
              "    <tr>\n",
              "      <th>0</th>\n",
              "      <td>0</td>\n",
              "      <td>Elegance Polyester Multicolor Abstract Eyelet ...</td>\n",
              "      <td>55b85ea15a1536d46b7190ad6fff8ce7.jpg</td>\n",
              "      <td>Key Features of Elegance Polyester Multicolor ...</td>\n",
              "      <td>{\"product_specification\"=&gt;[{\"key\"=&gt;\"Brand\", \"v...</td>\n",
              "      <td>curtains &amp; accessories</td>\n",
              "    </tr>\n",
              "    <tr>\n",
              "      <th>1</th>\n",
              "      <td>1</td>\n",
              "      <td>Sathiyas Cotton Bath Towel</td>\n",
              "      <td>7b72c92c2f6c40268628ec5f14c6d590.jpg</td>\n",
              "      <td>Specifications of Sathiyas Cotton Bath Towel (...</td>\n",
              "      <td>{\"product_specification\"=&gt;[{\"key\"=&gt;\"Machine Wa...</td>\n",
              "      <td>baby bath &amp; skin</td>\n",
              "    </tr>\n",
              "    <tr>\n",
              "      <th>2</th>\n",
              "      <td>2</td>\n",
              "      <td>Eurospa Cotton Terry Face Towel Set</td>\n",
              "      <td>64d5d4a258243731dc7bbb1eef49ad74.jpg</td>\n",
              "      <td>Key Features of Eurospa Cotton Terry Face Towe...</td>\n",
              "      <td>{\"product_specification\"=&gt;[{\"key\"=&gt;\"Material\",...</td>\n",
              "      <td>baby bath &amp; skin</td>\n",
              "    </tr>\n",
              "    <tr>\n",
              "      <th>3</th>\n",
              "      <td>3</td>\n",
              "      <td>SANTOSH ROYAL FASHION Cotton Printed King size...</td>\n",
              "      <td>d4684dcdc759dd9cdf41504698d737d8.jpg</td>\n",
              "      <td>Key Features of SANTOSH ROYAL FASHION Cotton P...</td>\n",
              "      <td>{\"product_specification\"=&gt;[{\"key\"=&gt;\"Brand\", \"v...</td>\n",
              "      <td>bed linen</td>\n",
              "    </tr>\n",
              "    <tr>\n",
              "      <th>4</th>\n",
              "      <td>4</td>\n",
              "      <td>Jaipur Print Cotton Floral King sized Double B...</td>\n",
              "      <td>6325b6870c54cd47be6ebfbffa620ec7.jpg</td>\n",
              "      <td>Key Features of Jaipur Print Cotton Floral Kin...</td>\n",
              "      <td>{\"product_specification\"=&gt;[{\"key\"=&gt;\"Machine Wa...</td>\n",
              "      <td>bed linen</td>\n",
              "    </tr>\n",
              "  </tbody>\n",
              "</table>\n",
              "</div>"
            ],
            "text/plain": [
              "   Unnamed: 0  ...              categories\n",
              "0           0  ...  curtains & accessories\n",
              "1           1  ...        baby bath & skin\n",
              "2           2  ...        baby bath & skin\n",
              "3           3  ...               bed linen\n",
              "4           4  ...               bed linen\n",
              "\n",
              "[5 rows x 6 columns]"
            ]
          },
          "metadata": {},
          "execution_count": 65
        }
      ]
    },
    {
      "cell_type": "code",
      "metadata": {
        "id": "0ooaiubzms9F"
      },
      "source": [
        "img_path = \"/content/drive/MyDrive/P6_market_place/Images\"\n",
        "train = df1_test\n",
        "labels = train.categories.unique()\n",
        "\n",
        "dico = []\n",
        "prob = []\n",
        "for leaf in train.image:\n",
        "    img = cv2.imread(img_path +'/'+ str(leaf),cv2.IMREAD_GRAYSCALE)\n",
        "    orb = cv.ORB_create()\n",
        "    kp = orb.detect(img,None)\n",
        "\n",
        "    kp, des = orb.compute(img, kp)\n",
        "    if len(kp)==0:\n",
        "      prob.append(leaf)\n",
        "      des= []\n",
        "    \n",
        "\n",
        "\n",
        "    for d in des:\n",
        "      dico.append(d)"
      ],
      "execution_count": null,
      "outputs": []
    },
    {
      "cell_type": "code",
      "metadata": {
        "id": "yM2xmrrRt6dm",
        "colab": {
          "base_uri": "https://localhost:8080/"
        },
        "outputId": "f7abe950-a0b1-44bd-825b-f2ad1b35c374"
      },
      "source": [
        "np.shape(dico)"
      ],
      "execution_count": null,
      "outputs": [
        {
          "output_type": "execute_result",
          "data": {
            "text/plain": [
              "(444480, 32)"
            ]
          },
          "metadata": {},
          "execution_count": 75
        }
      ]
    },
    {
      "cell_type": "code",
      "metadata": {
        "id": "WN4VXyBsms0q",
        "colab": {
          "base_uri": "https://localhost:8080/"
        },
        "outputId": "f5a206a2-8cc9-4dbb-8843-1a44332d8ae8"
      },
      "source": [
        "from sklearn.cluster import MiniBatchKMeans\n",
        "from sklearn.neural_network import MLPClassifier\n",
        "k = np.size(labels) * 10\n",
        "\n",
        "batch_size = np.size(os.listdir(img_path)) * 3\n",
        "kmeans = MiniBatchKMeans(n_clusters=k, batch_size=batch_size, verbose=1).fit(dico)\n"
      ],
      "execution_count": null,
      "outputs": [
        {
          "output_type": "stream",
          "name": "stdout",
          "text": [
            "Init 1/3 with method k-means++\n",
            "Inertia for init 1/3: 1181997842.0\n",
            "Init 2/3 with method k-means++\n",
            "Inertia for init 2/3: 1177235343.0\n",
            "Init 3/3 with method k-means++\n",
            "Inertia for init 3/3: 1182251282.0\n",
            "Minibatch step 1/14110: mean batch inertia: 122904.86571428571\n",
            "Minibatch step 2/14110: mean batch inertia: 101215.81560036541, ewa inertia: 101215.81560036541\n",
            "Minibatch step 3/14110: mean batch inertia: 99827.99707424539, ewa inertia: 101196.14489067353\n",
            "Minibatch step 4/14110: mean batch inertia: 97417.94023781223, ewa inertia: 101142.59324434212\n",
            "Minibatch step 5/14110: mean batch inertia: 97286.80270576729, ewa inertia: 101087.94190853019\n",
            "Minibatch step 6/14110: mean batch inertia: 97095.0101900156, ewa inertia: 101031.34675637151\n",
            "Minibatch step 7/14110: mean batch inertia: 97161.26748822714, ewa inertia: 100976.4928944757\n",
            "Minibatch step 8/14110: mean batch inertia: 96747.58149965109, ewa inertia: 100916.55300550992\n",
            "Minibatch step 9/14110: mean batch inertia: 95599.43172301307, ewa inertia: 100841.18901001915\n",
            "Minibatch step 10/14110: mean batch inertia: 96444.21492168932, ewa inertia: 100778.86702830007\n",
            "Minibatch step 11/14110: mean batch inertia: 96484.57734444724, ewa inertia: 100718.00047830518\n",
            "Minibatch step 12/14110: mean batch inertia: 96168.10021507657, ewa inertia: 100653.51094633792\n",
            "Minibatch step 13/14110: mean batch inertia: 94815.78754961258, ewa inertia: 100570.7680227948\n",
            "Minibatch step 14/14110: mean batch inertia: 96419.36499402495, ewa inertia: 100511.92672455877\n",
            "Minibatch step 15/14110: mean batch inertia: 95333.50970057688, ewa inertia: 100438.52870023133\n",
            "Minibatch step 16/14110: mean batch inertia: 96051.4855893881, ewa inertia: 100376.3474785406\n",
            "Minibatch step 17/14110: mean batch inertia: 96104.40852368672, ewa inertia: 100315.79772407284\n",
            "Minibatch step 18/14110: mean batch inertia: 96118.51311565586, ewa inertia: 100256.30610793395\n",
            "Minibatch step 19/14110: mean batch inertia: 95426.0920723656, ewa inertia: 100187.84345503297\n",
            "Minibatch step 20/14110: mean batch inertia: 95515.84433708421, ewa inertia: 100121.62331414263\n",
            "Minibatch step 21/14110: mean batch inertia: 95079.87939060514, ewa inertia: 100050.16247168077\n",
            "Minibatch step 22/14110: mean batch inertia: 95575.94525493917, ewa inertia: 99986.74565866633\n",
            "Minibatch step 23/14110: mean batch inertia: 95018.82299941123, ewa inertia: 99916.331146565\n",
            "Minibatch step 24/14110: mean batch inertia: 94704.91959998672, ewa inertia: 99842.4654633447\n",
            "Minibatch step 25/14110: mean batch inertia: 94578.87868685518, ewa inertia: 99767.86025706618\n",
            "Minibatch step 26/14110: mean batch inertia: 94142.31136139801, ewa inertia: 99688.12465972295\n",
            "Minibatch step 27/14110: mean batch inertia: 95690.49827785541, ewa inertia: 99631.46296618426\n",
            "Minibatch step 28/14110: mean batch inertia: 95472.2439969201, ewa inertia: 99572.51088610353\n",
            "Minibatch step 29/14110: mean batch inertia: 94745.40986164949, ewa inertia: 99504.09235650595\n",
            "Minibatch step 30/14110: mean batch inertia: 94808.61855317788, ewa inertia: 99437.5394893171\n",
            "Minibatch step 31/14110: mean batch inertia: 95843.71510971645, ewa inertia: 99386.60121840905\n",
            "Minibatch step 32/14110: mean batch inertia: 96004.3664850299, ewa inertia: 99338.66198406543\n",
            "Minibatch step 33/14110: mean batch inertia: 95640.78724325933, ewa inertia: 99286.24892058897\n",
            "Minibatch step 34/14110: mean batch inertia: 95487.846921985, ewa inertia: 99232.4110004277\n",
            "Minibatch step 35/14110: mean batch inertia: 95656.9052788576, ewa inertia: 99181.73237514138\n",
            "Minibatch step 36/14110: mean batch inertia: 94416.73955098561, ewa inertia: 99114.19415687742\n",
            "Minibatch step 37/14110: mean batch inertia: 94501.1581624876, ewa inertia: 99048.80974952444\n",
            "Minibatch step 38/14110: mean batch inertia: 94982.24513469952, ewa inertia: 98991.17093690163\n",
            "Minibatch step 39/14110: mean batch inertia: 94812.16970400076, ewa inertia: 98931.93846629596\n",
            "Minibatch step 40/14110: mean batch inertia: 94888.48183528596, ewa inertia: 98874.6271824045\n",
            "Minibatch step 41/14110: mean batch inertia: 95410.87370845453, ewa inertia: 98825.53251494766\n",
            "Minibatch step 42/14110: mean batch inertia: 95160.89486265811, ewa inertia: 98773.59054845318\n",
            "Minibatch step 43/14110: mean batch inertia: 94961.27015319276, ewa inertia: 98719.55535124533\n",
            "Minibatch step 44/14110: mean batch inertia: 94816.75940832452, ewa inertia: 98664.2377686256\n",
            "Minibatch step 45/14110: mean batch inertia: 94236.22218705995, ewa inertia: 98601.475809928\n",
            "Minibatch step 46/14110: mean batch inertia: 95038.9316554285, ewa inertia: 98550.98089974433\n",
            "Minibatch step 47/14110: mean batch inertia: 94981.07214062159, ewa inertia: 98500.38160487577\n",
            "Minibatch step 48/14110: mean batch inertia: 94503.42997166535, ewa inertia: 98443.72947511268\n",
            "Minibatch step 49/14110: mean batch inertia: 95078.80493148678, ewa inertia: 98396.03559252861\n",
            "Minibatch step 50/14110: mean batch inertia: 95461.28187468022, ewa inertia: 98354.43887990773\n",
            "Minibatch step 51/14110: mean batch inertia: 94032.19844769506, ewa inertia: 98293.17616063978\n",
            "Minibatch step 52/14110: mean batch inertia: 94829.71846777249, ewa inertia: 98244.08568553497\n",
            "Minibatch step 53/14110: mean batch inertia: 95203.03773298585, ewa inertia: 98200.98237605479\n",
            "Minibatch step 54/14110: mean batch inertia: 94550.91637216602, ewa inertia: 98149.2469456888\n",
            "Minibatch step 55/14110: mean batch inertia: 94437.47209756642, ewa inertia: 98096.63686439586\n",
            "Minibatch step 56/14110: mean batch inertia: 95388.27363955884, ewa inertia: 98058.24897308786\n",
            "Minibatch step 57/14110: mean batch inertia: 94160.86598929465, ewa inertia: 98003.00811285333\n",
            "Minibatch step 58/14110: mean batch inertia: 94511.02390355812, ewa inertia: 97953.51330763429\n",
            "Minibatch step 59/14110: mean batch inertia: 95163.43216919297, ewa inertia: 97913.96716016752\n",
            "Minibatch step 60/14110: mean batch inertia: 94371.86102518816, ewa inertia: 97863.76193508395\n",
            "Minibatch step 61/14110: mean batch inertia: 94312.0345617663, ewa inertia: 97813.42034016336\n",
            "Minibatch step 62/14110: mean batch inertia: 94333.19890828925, ewa inertia: 97764.09225860125\n",
            "Minibatch step 63/14110: mean batch inertia: 95011.90027453794, ewa inertia: 97725.08314572668\n",
            "Minibatch step 64/14110: mean batch inertia: 94752.95384120305, ewa inertia: 97682.95667773703\n",
            "Minibatch step 65/14110: mean batch inertia: 94039.42062070903, ewa inertia: 97631.31380175521\n",
            "Minibatch step 66/14110: mean batch inertia: 96068.47093420343, ewa inertia: 97609.16232606654\n",
            "Minibatch step 67/14110: mean batch inertia: 95118.40503491125, ewa inertia: 97573.85874518394\n",
            "Minibatch step 68/14110: mean batch inertia: 94603.50980042995, ewa inertia: 97531.7575117185\n",
            "Minibatch step 69/14110: mean batch inertia: 93970.7744667006, ewa inertia: 97481.2847284418\n",
            "Minibatch step 70/14110: mean batch inertia: 94258.13643313752, ewa inertia: 97435.60035889526\n",
            "Minibatch step 71/14110: mean batch inertia: 94872.68338620523, ewa inertia: 97399.2739986505\n",
            "Minibatch step 72/14110: mean batch inertia: 94486.67960470048, ewa inertia: 97357.99136861258\n",
            "Minibatch step 73/14110: mean batch inertia: 94929.29650575812, ewa inertia: 97323.56745029888\n",
            "Minibatch step 74/14110: mean batch inertia: 93906.9296640556, ewa inertia: 97275.14059278791\n",
            "Minibatch step 75/14110: mean batch inertia: 94528.69851581278, ewa inertia: 97236.21297814308\n",
            "Minibatch step 76/14110: mean batch inertia: 93725.66800850497, ewa inertia: 97186.45509578429\n",
            "Minibatch step 77/14110: mean batch inertia: 94068.95004737392, ewa inertia: 97142.26809610378\n",
            "Minibatch step 78/14110: mean batch inertia: 95251.38218263561, ewa inertia: 97115.46699267112\n",
            "Minibatch step 79/14110: mean batch inertia: 93766.84085243051, ewa inertia: 97068.0041209544\n",
            "Minibatch step 80/14110: mean batch inertia: 94933.6922539339, ewa inertia: 97037.7527384156\n",
            "Minibatch step 81/14110: mean batch inertia: 94643.89267494051, ewa inertia: 97003.82256277278\n",
            "Minibatch step 82/14110: mean batch inertia: 94386.94426087986, ewa inertia: 96966.73136359458\n",
            "Minibatch step 83/14110: mean batch inertia: 95105.09395848014, ewa inertia: 96940.34482366998\n",
            "Minibatch step 84/14110: mean batch inertia: 94645.56095187865, ewa inertia: 96907.81893754147\n",
            "Minibatch step 85/14110: mean batch inertia: 94446.6731839635, ewa inertia: 96872.93506568296\n",
            "Minibatch step 86/14110: mean batch inertia: 94934.23612612675, ewa inertia: 96845.45626834584\n",
            "Minibatch step 87/14110: mean batch inertia: 94243.98525347971, ewa inertia: 96808.58344949946\n",
            "Minibatch step 88/14110: mean batch inertia: 93878.70560039804, ewa inertia: 96767.05584663378\n",
            "Minibatch step 89/14110: mean batch inertia: 94147.1530787536, ewa inertia: 96729.92177917613\n",
            "Minibatch step 90/14110: mean batch inertia: 94397.03682611503, ewa inertia: 96696.85585463878\n",
            "Minibatch step 91/14110: mean batch inertia: 94024.2538914928, ewa inertia: 96658.97483752485\n",
            "Minibatch step 92/14110: mean batch inertia: 94526.6180843588, ewa inertia: 96628.75116644565\n",
            "Minibatch step 93/14110: mean batch inertia: 94071.73036721534, ewa inertia: 96592.50837758595\n",
            "Minibatch step 94/14110: mean batch inertia: 94210.75448252968, ewa inertia: 96558.74979276712\n",
            "Minibatch step 95/14110: mean batch inertia: 94731.94557203943, ewa inertia: 96532.85697262276\n",
            "Minibatch step 96/14110: mean batch inertia: 95231.33187244396, ewa inertia: 96514.4093716429\n",
            "Minibatch step 97/14110: mean batch inertia: 94651.24619444103, ewa inertia: 96488.00120567772\n",
            "Minibatch step 98/14110: mean batch inertia: 94455.20891725102, ewa inertia: 96459.18874481416\n",
            "Minibatch step 99/14110: mean batch inertia: 95298.21792392888, ewa inertia: 96442.73333688542\n",
            "Minibatch step 100/14110: mean batch inertia: 94951.18960384895, ewa inertia: 96421.59244330811\n",
            "Minibatch step 101/14110: mean batch inertia: 94661.87779510423, ewa inertia: 96396.65053964138\n",
            "Minibatch step 102/14110: mean batch inertia: 94452.41457568538, ewa inertia: 96369.09326143844\n",
            "Minibatch step 103/14110: mean batch inertia: 94689.95819372067, ewa inertia: 96345.29347938561\n",
            "Minibatch step 104/14110: mean batch inertia: 94917.1585757479, ewa inertia: 96325.05133204316\n",
            "Minibatch step 105/14110: mean batch inertia: 94566.71742095915, ewa inertia: 96300.12899871546\n",
            "Minibatch step 106/14110: mean batch inertia: 94986.29977389055, ewa inertia: 96281.50700111286\n",
            "Minibatch step 107/14110: mean batch inertia: 95291.53452907945, ewa inertia: 96267.47529542957\n",
            "Minibatch step 108/14110: mean batch inertia: 93918.88190514166, ewa inertia: 96234.18672210739\n",
            "Minibatch step 109/14110: mean batch inertia: 94669.09857236783, ewa inertia: 96212.00342216124\n",
            "Minibatch step 110/14110: mean batch inertia: 95316.35054852204, ewa inertia: 96199.30858682761\n",
            "Minibatch step 111/14110: mean batch inertia: 94865.27821260184, ewa inertia: 96180.40026148272\n",
            "Minibatch step 112/14110: mean batch inertia: 94429.49794315212, ewa inertia: 96155.58326231856\n",
            "Minibatch step 113/14110: mean batch inertia: 94511.15768606565, ewa inertia: 96132.27544684299\n",
            "Minibatch step 114/14110: mean batch inertia: 93914.82299870292, ewa inertia: 96100.84564349192\n",
            "Minibatch step 115/14110: mean batch inertia: 93717.76107862782, ewa inertia: 96067.06819797987\n",
            "Minibatch step 116/14110: mean batch inertia: 94855.23649302454, ewa inertia: 96049.89189631294\n",
            "Minibatch step 117/14110: mean batch inertia: 94733.19339848327, ewa inertia: 96031.22923011049\n",
            "Minibatch step 118/14110: mean batch inertia: 94980.24263855343, ewa inertia: 96016.33272041309\n",
            "Minibatch step 119/14110: mean batch inertia: 94615.04024527459, ewa inertia: 95996.47103320177\n",
            "Minibatch step 120/14110: mean batch inertia: 94378.55744329789, ewa inertia: 95973.53899422508\n",
            "Minibatch step 121/14110: mean batch inertia: 94700.42204656295, ewa inertia: 95955.49404568899\n",
            "Minibatch step 122/14110: mean batch inertia: 93287.76422268868, ewa inertia: 95917.68208548169\n",
            "Minibatch step 123/14110: mean batch inertia: 94581.42234149661, ewa inertia: 95898.74216141945\n",
            "Minibatch step 124/14110: mean batch inertia: 94630.17464475839, ewa inertia: 95880.76169576409\n",
            "Minibatch step 125/14110: mean batch inertia: 94216.65522064971, ewa inertia: 95857.1749264911\n",
            "Minibatch step 126/14110: mean batch inertia: 94710.76005052464, ewa inertia: 95840.92583211229\n",
            "Minibatch step 127/14110: mean batch inertia: 93789.75747874902, ewa inertia: 95811.85291195105\n",
            "Minibatch step 128/14110: mean batch inertia: 94269.75907864208, ewa inertia: 95789.99552963358\n",
            "Minibatch step 129/14110: mean batch inertia: 94127.64244974252, ewa inertia: 95766.43361269379\n",
            "Minibatch step 130/14110: mean batch inertia: 94830.24452860802, ewa inertia: 95753.1642238341\n",
            "Minibatch step 131/14110: mean batch inertia: 94958.67902399739, ewa inertia: 95741.90332233555\n",
            "Minibatch step 132/14110: mean batch inertia: 94373.2626328931, ewa inertia: 95722.50443612109\n",
            "Minibatch step 133/14110: mean batch inertia: 94111.28507052107, ewa inertia: 95699.6672799698\n",
            "Minibatch step 134/14110: mean batch inertia: 93598.92305998798, ewa inertia: 95669.89167969469\n",
            "Minibatch step 135/14110: mean batch inertia: 94274.81601798862, ewa inertia: 95650.11810856622\n",
            "Minibatch step 136/14110: mean batch inertia: 94772.20256963241, ewa inertia: 95637.6746792739\n",
            "Minibatch step 137/14110: mean batch inertia: 93735.31070480116, ewa inertia: 95610.7108877076\n",
            "Minibatch step 138/14110: mean batch inertia: 93838.30104673027, ewa inertia: 95585.58904448335\n",
            "Minibatch step 139/14110: mean batch inertia: 94301.32174300015, ewa inertia: 95567.3860526809\n",
            "Minibatch step 140/14110: mean batch inertia: 94289.34260478074, ewa inertia: 95549.27127674723\n",
            "Minibatch step 141/14110: mean batch inertia: 94210.87178358082, ewa inertia: 95530.30102423485\n",
            "Minibatch step 142/14110: mean batch inertia: 94543.83335894124, ewa inertia: 95516.31899510122\n",
            "Minibatch step 143/14110: mean batch inertia: 94037.13518589172, ewa inertia: 95495.35328903499\n",
            "Minibatch step 144/14110: mean batch inertia: 95358.74356231144, ewa inertia: 95493.41700541801\n",
            "Minibatch step 145/14110: mean batch inertia: 94048.72286144436, ewa inertia: 95472.94015014854\n",
            "Minibatch step 146/14110: mean batch inertia: 93998.77796032355, ewa inertia: 95452.0456196829\n",
            "Minibatch step 147/14110: mean batch inertia: 94066.75423054578, ewa inertia: 95432.41072921162\n",
            "Minibatch step 148/14110: mean batch inertia: 94756.47544487177, ewa inertia: 95422.83013456002\n",
            "Minibatch step 149/14110: mean batch inertia: 94361.1293445403, ewa inertia: 95407.78176358998\n",
            "Minibatch step 150/14110: mean batch inertia: 93923.40995106773, ewa inertia: 95386.74252362495\n",
            "Minibatch step 151/14110: mean batch inertia: 94208.4392718443, ewa inertia: 95370.04144869438\n",
            "Minibatch step 152/14110: mean batch inertia: 93789.0588364942, ewa inertia: 95347.63286327259\n",
            "Minibatch step 153/14110: mean batch inertia: 94059.39213118686, ewa inertia: 95329.37355272357\n",
            "Minibatch step 154/14110: mean batch inertia: 93762.80791347015, ewa inertia: 95307.16931108602\n",
            "Minibatch step 155/14110: mean batch inertia: 94894.63033911325, ewa inertia: 95301.32205209535\n",
            "Minibatch step 156/14110: mean batch inertia: 94143.42663296782, ewa inertia: 95284.91023440122\n",
            "Minibatch step 157/14110: mean batch inertia: 94907.94739312257, ewa inertia: 95279.56722558856\n",
            "Minibatch step 158/14110: mean batch inertia: 94093.21229686617, ewa inertia: 95262.75202752397\n",
            "Minibatch step 159/14110: mean batch inertia: 94995.83835863942, ewa inertia: 95258.9688374349\n",
            "Minibatch step 160/14110: mean batch inertia: 94284.14199002368, ewa inertia: 95245.15180332391\n",
            "Minibatch step 161/14110: mean batch inertia: 93202.2088464024, ewa inertia: 95216.19546856807\n",
            "Minibatch step 162/14110: mean batch inertia: 93622.40649503985, ewa inertia: 95193.60536790409\n",
            "Minibatch step 163/14110: mean batch inertia: 94937.52537427926, ewa inertia: 95189.97573253197\n",
            "Minibatch step 164/14110: mean batch inertia: 94542.71516757894, ewa inertia: 95180.80156859873\n",
            "Minibatch step 165/14110: mean batch inertia: 94215.41483064867, ewa inertia: 95167.11833703409\n",
            "Minibatch step 166/14110: mean batch inertia: 93675.79350925105, ewa inertia: 95145.98054618355\n",
            "Minibatch step 167/14110: mean batch inertia: 93814.54682294914, ewa inertia: 95127.10902533929\n",
            "Minibatch step 168/14110: mean batch inertia: 94575.50685348267, ewa inertia: 95119.29070760986\n",
            "Minibatch step 169/14110: mean batch inertia: 93752.19991555752, ewa inertia: 95099.91378938404\n",
            "Minibatch step 170/14110: mean batch inertia: 94210.434606508, ewa inertia: 95087.30645891969\n",
            "Minibatch step 171/14110: mean batch inertia: 95003.78183553166, ewa inertia: 95086.12259475599\n",
            "Minibatch step 172/14110: mean batch inertia: 94348.07179131378, ewa inertia: 95075.66158503524\n",
            "Minibatch step 173/14110: mean batch inertia: 94296.20567278932, ewa inertia: 95064.61370616718\n",
            "Minibatch step 174/14110: mean batch inertia: 93667.66941374514, ewa inertia: 95044.81364937677\n",
            "Minibatch step 175/14110: mean batch inertia: 94785.40868172246, ewa inertia: 95041.13688637402\n",
            "Minibatch step 176/14110: mean batch inertia: 94440.80526760832, ewa inertia: 95032.62788554333\n",
            "Minibatch step 177/14110: mean batch inertia: 94244.8977258487, ewa inertia: 95021.4627288638\n",
            "Minibatch step 178/14110: mean batch inertia: 93831.98321494933, ewa inertia: 95004.60324344673\n",
            "Minibatch step 179/14110: mean batch inertia: 94305.58164227553, ewa inertia: 94994.69542716802\n",
            "Minibatch step 180/14110: mean batch inertia: 94545.6069891951, ewa inertia: 94988.3301221061\n",
            "Minibatch step 181/14110: mean batch inertia: 94302.64624624589, ewa inertia: 94978.61135253457\n",
            "Minibatch step 182/14110: mean batch inertia: 94738.13717503956, ewa inertia: 94975.20291141285\n",
            "Minibatch step 183/14110: mean batch inertia: 94732.15763171983, ewa inertia: 94971.75802791487\n",
            "Minibatch step 184/14110: mean batch inertia: 93391.51110349265, ewa inertia: 94949.35987000968\n",
            "Minibatch step 185/14110: mean batch inertia: 93753.48052421755, ewa inertia: 94932.40967443665\n",
            "Minibatch step 186/14110: mean batch inertia: 94474.31727929358, ewa inertia: 94925.91674877863\n",
            "Minibatch step 187/14110: mean batch inertia: 94242.37095343052, ewa inertia: 94916.2282840058\n",
            "Minibatch step 188/14110: mean batch inertia: 94790.04983160069, ewa inertia: 94914.43985154152\n",
            "Minibatch step 189/14110: mean batch inertia: 93742.23153895825, ewa inertia: 94897.82516526859\n",
            "Minibatch step 190/14110: mean batch inertia: 94312.54166278582, ewa inertia: 94889.52945394315\n",
            "Minibatch step 191/14110: mean batch inertia: 95211.11973118827, ewa inertia: 94894.08762121384\n",
            "Minibatch step 192/14110: mean batch inertia: 94253.2176734726, ewa inertia: 94885.00403682941\n",
            "Minibatch step 193/14110: mean batch inertia: 94577.4909219212, ewa inertia: 94880.64539692372\n",
            "Minibatch step 194/14110: mean batch inertia: 93603.90635441602, ewa inertia: 94862.54910941582\n",
            "Minibatch step 195/14110: mean batch inertia: 95115.90574332415, ewa inertia: 94866.14014433885\n",
            "Minibatch step 196/14110: mean batch inertia: 94732.6877483577, ewa inertia: 94864.24861220433\n",
            "Minibatch step 197/14110: mean batch inertia: 94539.54844542171, ewa inertia: 94859.64636587496\n",
            "Minibatch step 198/14110: mean batch inertia: 94024.3505892406, ewa inertia: 94847.80702202719\n",
            "Minibatch step 199/14110: mean batch inertia: 94949.16808925076, ewa inertia: 94849.24369698857\n",
            "Minibatch step 200/14110: mean batch inertia: 94080.10101721938, ewa inertia: 94838.34199616773\n",
            "Minibatch step 201/14110: mean batch inertia: 93428.27096846617, ewa inertia: 94818.35588320784\n",
            "Minibatch step 202/14110: mean batch inertia: 94133.98615351299, ewa inertia: 94808.65574012618\n",
            "Minibatch step 203/14110: mean batch inertia: 94596.01164885597, ewa inertia: 94805.64175803245\n",
            "Minibatch step 204/14110: mean batch inertia: 94445.79746032163, ewa inertia: 94800.5413846181\n",
            "Minibatch step 205/14110: mean batch inertia: 95157.36006945613, ewa inertia: 94805.59887349722\n",
            "Minibatch step 206/14110: mean batch inertia: 94585.63668298672, ewa inertia: 94802.48116587818\n",
            "Minibatch step 207/14110: mean batch inertia: 94754.88738175343, ewa inertia: 94801.80657947293\n",
            "Minibatch step 208/14110: mean batch inertia: 94117.21388285111, ewa inertia: 94792.10327609502\n",
            "Minibatch step 209/14110: mean batch inertia: 94310.15805045329, ewa inertia: 94785.27226437227\n",
            "Minibatch step 210/14110: mean batch inertia: 93595.40160897373, ewa inertia: 94768.40723498067\n",
            "Minibatch step 211/14110: mean batch inertia: 94529.51098827139, ewa inertia: 94765.02115918828\n",
            "Minibatch step 212/14110: mean batch inertia: 94027.11934302557, ewa inertia: 94754.56226118853\n",
            "Minibatch step 213/14110: mean batch inertia: 94309.27869129275, ewa inertia: 94748.2508856959\n",
            "Minibatch step 214/14110: mean batch inertia: 94111.93519556915, ewa inertia: 94739.23185260383\n",
            "Minibatch step 215/14110: mean batch inertia: 93302.83265898815, ewa inertia: 94718.87256858543\n",
            "Minibatch step 216/14110: mean batch inertia: 94728.5907152787, ewa inertia: 94719.0103119854\n",
            "Minibatch step 217/14110: mean batch inertia: 94126.80694414867, ewa inertia: 94710.61651963573\n",
            "Minibatch step 218/14110: mean batch inertia: 94130.14569473486, ewa inertia: 94702.3890224044\n",
            "Minibatch step 219/14110: mean batch inertia: 94389.48823976086, ewa inertia: 94697.95401858949\n",
            "Minibatch step 220/14110: mean batch inertia: 94713.46104478136, ewa inertia: 94698.1738126077\n",
            "Minibatch step 221/14110: mean batch inertia: 94868.81405258417, ewa inertia: 94700.59243907733\n",
            "Minibatch step 222/14110: mean batch inertia: 94510.12057772123, ewa inertia: 94697.89272249429\n",
            "Minibatch step 223/14110: mean batch inertia: 95026.96555370608, ewa inertia: 94702.55694624431\n",
            "Minibatch step 224/14110: mean batch inertia: 93744.9938599875, ewa inertia: 94688.98460582162\n",
            "Minibatch step 225/14110: mean batch inertia: 94632.86643134207, ewa inertia: 94688.18919612082\n",
            "Minibatch step 226/14110: mean batch inertia: 93875.71187269379, ewa inertia: 94676.67327724556\n",
            "Minibatch step 227/14110: mean batch inertia: 92735.60121043137, ewa inertia: 94649.16084359612\n",
            "Minibatch step 228/14110: mean batch inertia: 94802.2026345961, ewa inertia: 94651.33003256776\n",
            "Minibatch step 229/14110: mean batch inertia: 94326.38031228732, ewa inertia: 94646.72424910846\n",
            "Minibatch step 230/14110: mean batch inertia: 93239.66361156193, ewa inertia: 94626.78080491953\n",
            "Minibatch step 231/14110: mean batch inertia: 93571.35483686649, ewa inertia: 94611.82137223572\n",
            "Minibatch step 232/14110: mean batch inertia: 94354.0239634576, ewa inertia: 94608.16739450596\n",
            "Minibatch step 233/14110: mean batch inertia: 94119.3342215398, ewa inertia: 94601.23875415983\n",
            "Minibatch step 234/14110: mean batch inertia: 94855.75292596074, ewa inertia: 94604.84619583303\n",
            "Minibatch step 235/14110: mean batch inertia: 94716.19631820913, ewa inertia: 94606.42445400597\n",
            "Minibatch step 236/14110: mean batch inertia: 94733.90710109922, ewa inertia: 94608.23137190951\n",
            "Minibatch step 237/14110: mean batch inertia: 94024.60371876677, ewa inertia: 94599.95913031808\n",
            "Minibatch step 238/14110: mean batch inertia: 94006.21687842293, ewa inertia: 94591.54352608092\n",
            "Minibatch step 239/14110: mean batch inertia: 94977.14736639365, ewa inertia: 94597.00901098122\n",
            "Minibatch step 240/14110: mean batch inertia: 93629.43028864269, ewa inertia: 94583.29471059327\n",
            "Minibatch step 241/14110: mean batch inertia: 93559.68294067678, ewa inertia: 94568.78620707912\n",
            "Minibatch step 242/14110: mean batch inertia: 94696.75771208848, ewa inertia: 94570.60005397371\n",
            "Minibatch step 243/14110: mean batch inertia: 94652.19053961575, ewa inertia: 94571.75650398967\n",
            "Minibatch step 244/14110: mean batch inertia: 94259.78807091141, ewa inertia: 94567.33471514292\n",
            "Minibatch step 245/14110: mean batch inertia: 94179.90755595105, ewa inertia: 94561.84338682312\n",
            "Minibatch step 246/14110: mean batch inertia: 94146.63852528014, ewa inertia: 94555.95834195569\n",
            "Minibatch step 247/14110: mean batch inertia: 94404.32778441656, ewa inertia: 94553.80915557315\n",
            "Minibatch step 248/14110: mean batch inertia: 94010.91131766245, ewa inertia: 94546.1142116299\n",
            "Minibatch step 249/14110: mean batch inertia: 94520.29895098202, ewa inertia: 94545.74831040559\n",
            "Minibatch step 250/14110: mean batch inertia: 93822.8554769013, ewa inertia: 94535.50214723758\n",
            "Minibatch step 251/14110: mean batch inertia: 93592.17914558755, ewa inertia: 94522.13164341311\n",
            "Minibatch step 252/14110: mean batch inertia: 93618.60313291616, ewa inertia: 94509.32518010843\n",
            "Minibatch step 253/14110: mean batch inertia: 94113.50694241465, ewa inertia: 94503.71491803316\n",
            "Minibatch step 254/14110: mean batch inertia: 94933.33810024867, ewa inertia: 94509.80432578728\n",
            "Minibatch step 255/14110: mean batch inertia: 93237.10021041117, ewa inertia: 94491.76522866754\n",
            "Minibatch step 256/14110: mean batch inertia: 94098.00924755844, ewa inertia: 94486.1841966752\n",
            "Minibatch step 257/14110: mean batch inertia: 94774.56639962306, ewa inertia: 94490.27167820663\n",
            "Minibatch step 258/14110: mean batch inertia: 93832.2329520546, ewa inertia: 94480.94474640355\n",
            "Minibatch step 259/14110: mean batch inertia: 93862.24533234017, ewa inertia: 94472.17540348765\n",
            "Minibatch step 260/14110: mean batch inertia: 94566.79253155227, ewa inertia: 94473.51649097352\n",
            "Minibatch step 261/14110: mean batch inertia: 92925.79042148957, ewa inertia: 94451.57927827432\n",
            "Minibatch step 262/14110: mean batch inertia: 93489.21825081958, ewa inertia: 94437.93893262857\n",
            "Minibatch step 263/14110: mean batch inertia: 92970.70553707842, ewa inertia: 94417.1426097442\n",
            "Minibatch step 264/14110: mean batch inertia: 93956.45768499696, ewa inertia: 94410.61293800142\n",
            "Minibatch step 265/14110: mean batch inertia: 95313.97455908077, ewa inertia: 94423.41703584316\n",
            "Minibatch step 266/14110: mean batch inertia: 94696.81015768362, ewa inertia: 94427.29206462413\n",
            "Minibatch step 267/14110: mean batch inertia: 94338.6971047772, ewa inertia: 94426.0363343521\n",
            "Minibatch step 268/14110: mean batch inertia: 94348.00805494493, ewa inertia: 94424.9303744567\n",
            "Minibatch step 269/14110: mean batch inertia: 94125.44610169549, ewa inertia: 94420.68553402844\n",
            "Minibatch step 270/14110: mean batch inertia: 94739.1340311038, ewa inertia: 94425.1991702279\n",
            "Minibatch step 271/14110: mean batch inertia: 94540.62510984004, ewa inertia: 94426.83519835859\n",
            "Minibatch step 272/14110: mean batch inertia: 94754.42636348709, ewa inertia: 94431.4784212192\n",
            "Minibatch step 273/14110: mean batch inertia: 93564.13946722647, ewa inertia: 94419.18490268826\n",
            "Minibatch step 274/14110: mean batch inertia: 94750.10528666025, ewa inertia: 94423.87531334479\n",
            "Converged (lack of improvement in inertia) at step 274/14110\n"
          ]
        }
      ]
    },
    {
      "cell_type": "code",
      "metadata": {
        "id": "EaguVVCGmsyZ"
      },
      "source": [
        "kmeans.verbose = False\n",
        "histo_list = []\n",
        "\n",
        "for leaf in train.image:\n",
        "    img = cv2.imread(img_path +'/'+ str(leaf) )\n",
        "    kp, des = orb.detectAndCompute(img, None)\n",
        "\n",
        "    histo = np.zeros(k)\n",
        "    nkp = np.size(kp)\n",
        "\n",
        "    for d in des:\n",
        "        idx = kmeans.predict([d])\n",
        "        histo[idx] += 1/nkp # Because we need normalized histograms, I prefere to add 1/nkp directly\n",
        "\n",
        "    histo_list.append(histo)"
      ],
      "execution_count": null,
      "outputs": []
    },
    {
      "cell_type": "code",
      "metadata": {
        "colab": {
          "base_uri": "https://localhost:8080/"
        },
        "id": "CEN-RdQClKIS",
        "outputId": "bb679189-ae32-4ab1-a025-ff7bb92752d2"
      },
      "source": [
        "from sklearn.feature_extraction.text import CountVectorizer\n",
        "\n",
        "count_vectorizer = CountVectorizer(analyzer='word', token_pattern=r'\\w+',stop_words=stopword_list)\n",
        "\n",
        "bow = dict()\n",
        "bow[\"train\"] = (count_vectorizer.fit_transform(X_train), y_train)\n",
        "#bow[\"test\"]  = (count_vectorizer.transform(X_test), y_test)\n",
        "print(bow[\"train\"][0].shape)\n",
        "#print(bow[\"test\"][0].shape)"
      ],
      "execution_count": null,
      "outputs": [
        {
          "output_type": "stream",
          "name": "stdout",
          "text": [
            "(927, 4814)\n"
          ]
        }
      ]
    },
    {
      "cell_type": "code",
      "metadata": {
        "id": "VIF_E3Cryphn"
      },
      "source": [
        "X_train_word =count_vectorizer.fit_transform(X_train)"
      ],
      "execution_count": null,
      "outputs": []
    },
    {
      "cell_type": "code",
      "metadata": {
        "id": "bSfGAYT81dp7",
        "colab": {
          "base_uri": "https://localhost:8080/"
        },
        "outputId": "8361f936-7813-4580-c5ab-32348a1a5b29"
      },
      "source": [
        "np.shape(X_train_word)"
      ],
      "execution_count": null,
      "outputs": [
        {
          "output_type": "execute_result",
          "data": {
            "text/plain": [
              "(927, 4814)"
            ]
          },
          "metadata": {},
          "execution_count": 106
        }
      ]
    },
    {
      "cell_type": "code",
      "metadata": {
        "id": "tquh7ljzy6y9",
        "colab": {
          "base_uri": "https://localhost:8080/"
        },
        "outputId": "ad78519b-fbcc-4a5d-b093-49cd87247f0c"
      },
      "source": [
        "from scipy.sparse import hstack\n",
        "np.shape(X_train_fin)"
      ],
      "execution_count": null,
      "outputs": [
        {
          "output_type": "execute_result",
          "data": {
            "text/plain": [
              "(927, 4814)"
            ]
          },
          "metadata": {},
          "execution_count": 93
        }
      ]
    },
    {
      "cell_type": "code",
      "metadata": {
        "id": "cLjY3NrGywYp"
      },
      "source": [
        "\n",
        "X_train_word_df = pd.DataFrame.sparse.from_spmatrix(X_train_word)\n",
        "X_train_image = pd.DataFrame(histo_list)\n",
        "X = pd.concat([X_train_word_df,X_train_image],axis=1)"
      ],
      "execution_count": null,
      "outputs": []
    },
    {
      "cell_type": "code",
      "metadata": {
        "id": "TWbxFCqt0kji",
        "colab": {
          "base_uri": "https://localhost:8080/",
          "height": 206
        },
        "outputId": "38c85175-782f-47ce-8629-1ea86eadc20d"
      },
      "source": [
        "X_train_word_df.head()"
      ],
      "execution_count": null,
      "outputs": [
        {
          "output_type": "execute_result",
          "data": {
            "text/html": [
              "<div>\n",
              "<style scoped>\n",
              "    .dataframe tbody tr th:only-of-type {\n",
              "        vertical-align: middle;\n",
              "    }\n",
              "\n",
              "    .dataframe tbody tr th {\n",
              "        vertical-align: top;\n",
              "    }\n",
              "\n",
              "    .dataframe thead th {\n",
              "        text-align: right;\n",
              "    }\n",
              "</style>\n",
              "<table border=\"1\" class=\"dataframe\">\n",
              "  <thead>\n",
              "    <tr style=\"text-align: right;\">\n",
              "      <th></th>\n",
              "      <th>0</th>\n",
              "    </tr>\n",
              "  </thead>\n",
              "  <tbody>\n",
              "    <tr>\n",
              "      <th>0</th>\n",
              "      <td>(0, 2635)\\t1\\n  (0, 2031)\\t2\\n  (0, 1850)\\t4...</td>\n",
              "    </tr>\n",
              "    <tr>\n",
              "      <th>1</th>\n",
              "      <td>(0, 2031)\\t1\\n  (0, 4131)\\t1\\n  (0, 2212)\\t1...</td>\n",
              "    </tr>\n",
              "    <tr>\n",
              "      <th>2</th>\n",
              "      <td>(0, 2635)\\t1\\n  (0, 2031)\\t2\\n  (0, 2366)\\t1...</td>\n",
              "    </tr>\n",
              "    <tr>\n",
              "      <th>3</th>\n",
              "      <td>(0, 2635)\\t1\\n  (0, 2031)\\t1\\n  (0, 3050)\\t2...</td>\n",
              "    </tr>\n",
              "    <tr>\n",
              "      <th>4</th>\n",
              "      <td>(0, 2635)\\t1\\n  (0, 2031)\\t1\\n  (0, 2106)\\t3...</td>\n",
              "    </tr>\n",
              "  </tbody>\n",
              "</table>\n",
              "</div>"
            ],
            "text/plain": [
              "                                                   0\n",
              "0    (0, 2635)\\t1\\n  (0, 2031)\\t2\\n  (0, 1850)\\t4...\n",
              "1    (0, 2031)\\t1\\n  (0, 4131)\\t1\\n  (0, 2212)\\t1...\n",
              "2    (0, 2635)\\t1\\n  (0, 2031)\\t2\\n  (0, 2366)\\t1...\n",
              "3    (0, 2635)\\t1\\n  (0, 2031)\\t1\\n  (0, 3050)\\t2...\n",
              "4    (0, 2635)\\t1\\n  (0, 2031)\\t1\\n  (0, 2106)\\t3..."
            ]
          },
          "metadata": {},
          "execution_count": 108
        }
      ]
    },
    {
      "cell_type": "code",
      "metadata": {
        "colab": {
          "base_uri": "https://localhost:8080/",
          "height": 394
        },
        "id": "A_iBw8eGtbE4",
        "outputId": "5383a988-326f-4674-f8c2-0d50add64c23"
      },
      "source": [
        "from sklearn.manifold import TSNE\n",
        "tsne_2d = TSNE(n_components=2, perplexity=40)# représentation du DataSet via TSNE\n",
        "X_tsne = tsne_2d.fit_transform(X)\n",
        "plt.scatter(X_tsne[:, 0], X_tsne[:, 1])"
      ],
      "execution_count": null,
      "outputs": [
        {
          "output_type": "stream",
          "name": "stderr",
          "text": [
            "/usr/local/lib/python3.7/dist-packages/sklearn/manifold/_t_sne.py:783: FutureWarning: The default initialization in TSNE will change from 'random' to 'pca' in 1.2.\n",
            "  FutureWarning,\n",
            "/usr/local/lib/python3.7/dist-packages/sklearn/manifold/_t_sne.py:793: FutureWarning: The default learning rate in TSNE will change from 200.0 to 'auto' in 1.2.\n",
            "  FutureWarning,\n",
            "/usr/local/lib/python3.7/dist-packages/sklearn/utils/validation.py:617: UserWarning: pandas.DataFrame with sparse columns found.It will be converted to a dense numpy array.\n",
            "  \"pandas.DataFrame with sparse columns found.\"\n"
          ]
        },
        {
          "output_type": "execute_result",
          "data": {
            "text/plain": [
              "<matplotlib.collections.PathCollection at 0x7f7509a101d0>"
            ]
          },
          "metadata": {},
          "execution_count": 115
        },
        {
          "output_type": "display_data",
          "data": {
            "image/png": "[encoded data removed]",
            "text/plain": [
              "<Figure size 432x288 with 1 Axes>"
            ]
          },
          "metadata": {
            "needs_background": "light"
          }
        }
      ]
    },
    {
      "cell_type": "code",
      "metadata": {
        "id": "BqtkPN-PmswE",
        "colab": {
          "base_uri": "https://localhost:8080/"
        },
        "outputId": "bf9aced3-685f-486e-ae6c-61af2ad3f3c2"
      },
      "source": [
        "np.shape(X_tsne)"
      ],
      "execution_count": null,
      "outputs": [
        {
          "output_type": "execute_result",
          "data": {
            "text/plain": [
              "(927, 2)"
            ]
          },
          "metadata": {},
          "execution_count": 117
        }
      ]
    },
    {
      "cell_type": "code",
      "metadata": {
        "id": "femwVVTvmstr"
      },
      "source": [
        ""
      ],
      "execution_count": null,
      "outputs": []
    },
    {
      "cell_type": "code",
      "metadata": {
        "id": "16k79GriuN67",
        "colab": {
          "base_uri": "https://localhost:8080/"
        },
        "outputId": "fab72e23-f8c0-4644-c2b0-6d2da3e41a6a"
      },
      "source": [
        "from sklearn.naive_bayes import MultinomialNB\n",
        "from sklearn.naive_bayes import GaussianNB\n",
        "gb= GaussianNB()\n",
        "nb_classifier_tsne = MultinomialNB()\n",
        "from sklearn.model_selection import cross_val_score\n",
        "cross_val_score(gb, X_tsne,y_train, cv=5, scoring='accuracy',error_score = 'raise')\n",
        "\n"
      ],
      "execution_count": null,
      "outputs": [
        {
          "output_type": "execute_result",
          "data": {
            "text/plain": [
              "array([0.58602151, 0.66129032, 0.69189189, 0.71891892, 0.64324324])"
            ]
          },
          "metadata": {},
          "execution_count": 116
        }
      ]
    },
    {
      "cell_type": "code",
      "metadata": {
        "colab": {
          "base_uri": "https://localhost:8080/"
        },
        "id": "K9cBwMxNx5hc",
        "outputId": "f44624fb-5e73-4a52-c2d5-e079d67d70f3"
      },
      "source": [
        "labels_=gb.fit(X_tsne,y_train).predict(X_tsne)\n",
        "pd.Series(labels_).nunique()"
      ],
      "execution_count": null,
      "outputs": [
        {
          "output_type": "execute_result",
          "data": {
            "text/plain": [
              "17"
            ]
          },
          "metadata": {},
          "execution_count": 54
        }
      ]
    },
    {
      "cell_type": "code",
      "metadata": {
        "colab": {
          "base_uri": "https://localhost:8080/"
        },
        "id": "Kx_M5qhsyDyO",
        "outputId": "4a319e1b-6e71-4684-b954-42fa97dc86a0"
      },
      "source": [
        "df1_test.categories.nunique()"
      ],
      "execution_count": null,
      "outputs": [
        {
          "output_type": "execute_result",
          "data": {
            "text/plain": [
              "24"
            ]
          },
          "metadata": {},
          "execution_count": 49
        }
      ]
    },
    {
      "cell_type": "code",
      "metadata": {
        "colab": {
          "base_uri": "https://localhost:8080/",
          "height": 283
        },
        "id": "BKHWdgokw9kl",
        "outputId": "57a5f802-a2dc-44ab-df83-43bf445ea068"
      },
      "source": [
        "results = np.c_[X_tsne,labels_]\n",
        "pd_result = pd.DataFrame(results)\n",
        "plt.scatter(pd_result[0], pd_result[1], c=pd_result[2], cmap='Set1')"
      ],
      "execution_count": null,
      "outputs": [
        {
          "output_type": "execute_result",
          "data": {
            "text/plain": [
              "<matplotlib.collections.PathCollection at 0x7f752216a490>"
            ]
          },
          "metadata": {},
          "execution_count": 50
        },
        {
          "output_type": "display_data",
          "data": {
            "image/png": "[encoded data removed]",
            "text/plain": [
              "<Figure size 432x288 with 1 Axes>"
            ]
          },
          "metadata": {
            "needs_background": "light"
          }
        }
      ]
    },
    {
      "cell_type": "code",
      "metadata": {
        "id": "eNPhzLlJlm-Z"
      },
      "source": [
        "from sklearn.feature_extraction.text import TfidfVectorizer\n",
        "\n",
        "tfidf_vectorizer = TfidfVectorizer(analyzer='word', token_pattern=r'\\w+',stop_words=stopword_list)\n",
        "\n",
        "tfidf = dict()\n",
        "tfidf[\"train\"] = (tfidf_vectorizer.fit_transform(X_train), y_train)\n",
        "tfidf[\"test\"]  = (tfidf_vectorizer.transform(X_test), y_test)"
      ],
      "execution_count": null,
      "outputs": []
    },
    {
      "cell_type": "code",
      "metadata": {
        "id": "Ctmojs2irIaD"
      },
      "source": [
        "from sklearn.naive_bayes import MultinomialNB\n",
        "nb_classifier = MultinomialNB()"
      ],
      "execution_count": null,
      "outputs": []
    },
    {
      "cell_type": "code",
      "metadata": {
        "id": "9y8DovnvrhFy"
      },
      "source": [
        "nb_classifier.fit(*bow[\"train\"])"
      ],
      "execution_count": null,
      "outputs": []
    },
    {
      "cell_type": "code",
      "metadata": {
        "id": "Lf_tL5NHrmJH"
      },
      "source": [
        "from sklearn.model_selection import cross_val_score\n",
        "cross_val_score(nb_classifier, *bow[\"train\"], cv=5, scoring='accuracy')"
      ],
      "execution_count": null,
      "outputs": []
    },
    {
      "cell_type": "code",
      "metadata": {
        "id": "bkCW9QHABuPG"
      },
      "source": [
        "nb_classifier_tfidf = MultinomialNB()\n",
        "nb_classifier_tfidf.fit(*tfidf[\"train\"])\n",
        "cross_val_score(nb_classifier_tfidf, *tfidf[\"train\"], cv=5, scoring='accuracy')"
      ],
      "execution_count": null,
      "outputs": []
    },
    {
      "cell_type": "code",
      "metadata": {
        "id": "E4QoOOsgsQmy"
      },
      "source": [
        "#concat tfidf et vector_count\n",
        "#kmeans pour retrouver les cat\n",
        "#tsne pour reduc_dimension\n",
        "#commencer le traitement d'image"
      ],
      "execution_count": null,
      "outputs": []
    },
    {
      "cell_type": "markdown",
      "metadata": {
        "id": "A0VP1KeRUH-z"
      },
      "source": [
        "Implémentation Kmeans\n"
      ]
    },
    {
      "cell_type": "code",
      "metadata": {
        "id": "g6f6Bh-7UHU2"
      },
      "source": [
        "from sklearn.cluster import KMeans\n",
        "kmeans = KMeans()"
      ],
      "execution_count": null,
      "outputs": []
    },
    {
      "cell_type": "code",
      "metadata": {
        "id": "1onJfVSbULuN"
      },
      "source": [
        "kmeans= KMeans(n_clusters=24).fit(*bow[\"train\"])"
      ],
      "execution_count": null,
      "outputs": []
    },
    {
      "cell_type": "code",
      "metadata": {
        "id": "OJkApp1zUn50"
      },
      "source": [
        "pd.crosstab(index=y_train, columns=kmeans.labels_)"
      ],
      "execution_count": null,
      "outputs": []
    },
    {
      "cell_type": "code",
      "metadata": {
        "id": "Yv4dhD5kVjx_"
      },
      "source": [
        ""
      ],
      "execution_count": null,
      "outputs": []
    }
  ]
}