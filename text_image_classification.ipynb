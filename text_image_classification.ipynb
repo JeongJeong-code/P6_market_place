{
  "nbformat": 4,
  "nbformat_minor": 0,
  "metadata": {
    "colab": {
      "name": "text_image_classification.ipynb",
      "provenance": [],
      "collapsed_sections": [],
      "authorship_tag": "ABX9TyNoceyvXtsuqsi3EUJ1D/JD",
      "include_colab_link": true
    },
    "kernelspec": {
      "name": "python3",
      "display_name": "Python 3"
    },
    "language_info": {
      "name": "python"
    }
  },
  "cells": [
    {
      "cell_type": "markdown",
      "metadata": {
        "id": "view-in-github",
        "colab_type": "text"
      },
      "source": [
        "<a href=\"https://colab.research.google.com/github/JeongJeong-code/P6_market_place/blob/main/text_image_classification.ipynb\" target=\"_parent\"><img src=\"https://colab.research.google.com/assets/colab-badge.svg\" alt=\"Open In Colab\"/></a>"
      ]
    },
    {
      "cell_type": "code",
      "metadata": {
        "colab": {
          "base_uri": "https://localhost:8080/"
        },
        "id": "swm-HL5HhbeE",
        "outputId": "0e706ab4-e096-48ca-cb76-be27770b1cac"
      },
      "source": [
        "import sys\n",
        "import numpy as np\n",
        "import matplotlib.pyplot as plt\n",
        "from enum import Enum\n",
        "from google.colab import files\n",
        "import pandas as pd\n",
        "import seaborn as sns\n",
        "import os.path\n",
        "import missingno as mi\n",
        "import re\n",
        "import sklearn as sk\n",
        "from mpl_toolkits.mplot3d import Axes3D\n",
        "from sklearn.preprocessing import StandardScaler\n",
        "from sklearn.decomposition import PCA\n",
        "from sklearn.metrics.cluster import adjusted_rand_score\n",
        "import statsmodels.api as sm\n",
        "from statsmodels.formula.api import ols\n",
        "from sklearn.preprocessing import StandardScaler\n",
        "from sklearn.preprocessing import OneHotEncoder\n",
        "from sklearn.compose import make_column_transformer\n",
        "from sklearn.manifold import TSNE\n",
        "from sklearn.metrics.cluster import homogeneity_score\n",
        "from sklearn.decomposition import KernelPCA\n",
        "from sklearn.cluster import (AgglomerativeClustering,\n",
        "                             KMeans, DBSCAN, SpectralClustering)\n",
        "from sklearn.metrics import davies_bouldin_score, silhouette_score\n",
        "! {sys.executable} -m pip install ipynb\n",
        "\n",
        "import cv2 as cv\n",
        "from tqdm import tqdm"
      ],
      "execution_count": 321,
      "outputs": [
        {
          "output_type": "stream",
          "name": "stdout",
          "text": [
            "Requirement already satisfied: ipynb in /usr/local/lib/python3.7/dist-packages (0.5.1)\n"
          ]
        }
      ]
    },
    {
      "cell_type": "code",
      "metadata": {
        "id": "wHwcv6RcrBew",
        "colab": {
          "base_uri": "https://localhost:8080/"
        },
        "outputId": "66b518f2-da3a-4b1c-d9f9-bd402bceb652"
      },
      "source": [
        "from google.colab import drive\n",
        "drive.mount('/content/drive')"
      ],
      "execution_count": 322,
      "outputs": [
        {
          "output_type": "stream",
          "name": "stdout",
          "text": [
            "Drive already mounted at /content/drive; to attempt to forcibly remount, call drive.mount(\"/content/drive\", force_remount=True).\n"
          ]
        }
      ]
    },
    {
      "cell_type": "code",
      "metadata": {
        "colab": {
          "base_uri": "https://localhost:8080/"
        },
        "id": "x8aLtI58hdrl",
        "outputId": "5fcb89d9-af2f-4e67-dd22-51f55014c179"
      },
      "source": [
        "import nltk\n",
        "nltk.download('punkt')\n",
        "nltk.download('stopwords')\n",
        "nltk.download('wordnet')"
      ],
      "execution_count": 323,
      "outputs": [
        {
          "output_type": "stream",
          "name": "stdout",
          "text": [
            "[nltk_data] Downloading package punkt to /root/nltk_data...\n",
            "[nltk_data]   Package punkt is already up-to-date!\n",
            "[nltk_data] Downloading package stopwords to /root/nltk_data...\n",
            "[nltk_data]   Package stopwords is already up-to-date!\n",
            "[nltk_data] Downloading package wordnet to /root/nltk_data...\n",
            "[nltk_data]   Package wordnet is already up-to-date!\n"
          ]
        },
        {
          "output_type": "execute_result",
          "data": {
            "text/plain": [
              "True"
            ]
          },
          "metadata": {},
          "execution_count": 323
        }
      ]
    },
    {
      "cell_type": "code",
      "metadata": {
        "id": "S--MLIzxhfTs",
        "colab": {
          "base_uri": "https://localhost:8080/"
        },
        "outputId": "d2b2f305-8b64-491f-8ed6-e4abbb60965c"
      },
      "source": [
        "url = 'https://raw.githubusercontent.com/JeongJeong-code/P6_market_place/main/df_cat_prime.csv'\n",
        "df1_test= pd.read_csv(url)\n",
        "print(len(df1_test))\n",
        "df1_test =df1_test[df1_test['image'] !='9743e6d1c9f3180483825fe4d2e97836.jpg']\n",
        "print(len(df1_test))\n",
        "df1_test.reset_index(inplace=True,drop=True)"
      ],
      "execution_count": 324,
      "outputs": [
        {
          "output_type": "stream",
          "name": "stdout",
          "text": [
            "1049\n",
            "1048\n"
          ]
        }
      ]
    },
    {
      "cell_type": "code",
      "metadata": {
        "id": "yd7HOkJkhhal"
      },
      "source": [
        "from sklearn.feature_extraction.text import TfidfVectorizer\n",
        "from sklearn.feature_extraction.text import CountVectorizer\n",
        "import nltk.stem as stem\n",
        "import string"
      ],
      "execution_count": 325,
      "outputs": []
    },
    {
      "cell_type": "code",
      "metadata": {
        "colab": {
          "base_uri": "https://localhost:8080/"
        },
        "id": "UmPqQNnnqHsH",
        "outputId": "f9f7c76e-0dcf-45f7-ca95-5f692b8cd73e"
      },
      "source": [
        "df1_test.iloc[343]"
      ],
      "execution_count": 326,
      "outputs": [
        {
          "output_type": "execute_result",
          "data": {
            "text/plain": [
              "Unnamed: 0                                                              344\n",
              "product_name                   Anna Andre Paris Majesty Deodorant Combo Set\n",
              "image                                  6e44d107ee32412243b19b0ed9b415f3.jpg\n",
              "product_specifications    {\"product_specification\"=>[{\"key\"=>\"Number of ...\n",
              "categories                                         beauty and personal care\n",
              "description               flipkart anna andre paris majesty deodorant co...\n",
              "Name: 343, dtype: object"
            ]
          },
          "metadata": {},
          "execution_count": 326
        }
      ]
    },
    {
      "cell_type": "code",
      "metadata": {
        "colab": {
          "base_uri": "https://localhost:8080/"
        },
        "id": "-gvMCILgpW9M",
        "outputId": "7bafb3db-dd10-4744-9847-fc48edf348f0"
      },
      "source": [
        "df1_test.info()"
      ],
      "execution_count": 327,
      "outputs": [
        {
          "output_type": "stream",
          "name": "stdout",
          "text": [
            "<class 'pandas.core.frame.DataFrame'>\n",
            "RangeIndex: 1048 entries, 0 to 1047\n",
            "Data columns (total 6 columns):\n",
            " #   Column                  Non-Null Count  Dtype \n",
            "---  ------                  --------------  ----- \n",
            " 0   Unnamed: 0              1048 non-null   int64 \n",
            " 1   product_name            1048 non-null   object\n",
            " 2   image                   1048 non-null   object\n",
            " 3   product_specifications  1048 non-null   object\n",
            " 4   categories              1048 non-null   object\n",
            " 5   description             1048 non-null   object\n",
            "dtypes: int64(1), object(5)\n",
            "memory usage: 49.2+ KB\n"
          ]
        }
      ]
    },
    {
      "cell_type": "code",
      "metadata": {
        "colab": {
          "base_uri": "https://localhost:8080/"
        },
        "id": "3qabwQfB_eD0",
        "outputId": "7a35814d-0a50-4f4b-c39b-f2cf0b1d1f23"
      },
      "source": [
        "lemma=1\n",
        "from nltk.tokenize import word_tokenize\n",
        "from nltk.stem import WordNetLemmatizer\n",
        "stemmer = stem.PorterStemmer()\n",
        "lemmatizer = stem.WordNetLemmatizer()\n",
        "for i in range(len(df1_test)):\n",
        "  df1_test.description[i] = nltk.word_tokenize(df1_test.description[i])\n",
        "  if lemma ==1:\n",
        "      df1_test.description[i] = [lemmatizer.lemmatize(t) for t in df1_test.description[i]]\n",
        "  else :\n",
        "      df1_test.description[i] = [stemmer.stem(t) for t in df1_test.description[i]]\n",
        "\n",
        "  df1_test.description[i] = \" \".join(df1_test.description[i])"
      ],
      "execution_count": 328,
      "outputs": [
        {
          "output_type": "stream",
          "name": "stderr",
          "text": [
            "/usr/local/lib/python3.7/dist-packages/ipykernel_launcher.py:9: SettingWithCopyWarning: \n",
            "A value is trying to be set on a copy of a slice from a DataFrame\n",
            "\n",
            "See the caveats in the documentation: https://pandas.pydata.org/pandas-docs/stable/user_guide/indexing.html#returning-a-view-versus-a-copy\n",
            "  if __name__ == '__main__':\n",
            "/usr/local/lib/python3.7/dist-packages/ipykernel_launcher.py:13: SettingWithCopyWarning: \n",
            "A value is trying to be set on a copy of a slice from a DataFrame\n",
            "\n",
            "See the caveats in the documentation: https://pandas.pydata.org/pandas-docs/stable/user_guide/indexing.html#returning-a-view-versus-a-copy\n",
            "  del sys.path[0]\n",
            "/usr/local/lib/python3.7/dist-packages/ipykernel_launcher.py:7: SettingWithCopyWarning: \n",
            "A value is trying to be set on a copy of a slice from a DataFrame\n",
            "\n",
            "See the caveats in the documentation: https://pandas.pydata.org/pandas-docs/stable/user_guide/indexing.html#returning-a-view-versus-a-copy\n",
            "  import sys\n"
          ]
        }
      ]
    },
    {
      "cell_type": "code",
      "metadata": {
        "id": "gm9yRAUGiTM2"
      },
      "source": [
        "from nltk.tokenize import RegexpTokenizer\n",
        "\n",
        "tokenizer = RegexpTokenizer(r'\\w+')\n",
        "tokenize_desc = pd.Series(df1_test.description.str.lower().apply(tokenizer.tokenize),name ='tokenize_desc')"
      ],
      "execution_count": 329,
      "outputs": []
    },
    {
      "cell_type": "code",
      "metadata": {
        "id": "hMdR9zDOicJR"
      },
      "source": [
        "all_words = [word for tokens in tokenize_desc for word in tokens]\n",
        "from collections import Counter\n",
        "count_all_words = Counter(all_words)\n",
        "most_common_words= [word for word, word_count in count_all_words.most_common(20)]"
      ],
      "execution_count": 386,
      "outputs": []
    },
    {
      "cell_type": "code",
      "metadata": {
        "id": "fh9xEv1Ciwh1"
      },
      "source": [
        "stopword_list  = nltk.corpus.stopwords.words('english') + most_common_words\n"
      ],
      "execution_count": 387,
      "outputs": []
    },
    {
      "cell_type": "code",
      "metadata": {
        "colab": {
          "base_uri": "https://localhost:8080/"
        },
        "id": "jXRKwrDBPdPV",
        "outputId": "cd39e977-9313-4351-9b6e-b6b8dd9317ac"
      },
      "source": [
        "stopword_list"
      ],
      "execution_count": 388,
      "outputs": [
        {
          "output_type": "execute_result",
          "data": {
            "text/plain": [
              "['i',\n",
              " 'me',\n",
              " 'my',\n",
              " 'myself',\n",
              " 'we',\n",
              " 'our',\n",
              " 'ours',\n",
              " 'ourselves',\n",
              " 'you',\n",
              " \"you're\",\n",
              " \"you've\",\n",
              " \"you'll\",\n",
              " \"you'd\",\n",
              " 'your',\n",
              " 'yours',\n",
              " 'yourself',\n",
              " 'yourselves',\n",
              " 'he',\n",
              " 'him',\n",
              " 'his',\n",
              " 'himself',\n",
              " 'she',\n",
              " \"she's\",\n",
              " 'her',\n",
              " 'hers',\n",
              " 'herself',\n",
              " 'it',\n",
              " \"it's\",\n",
              " 'its',\n",
              " 'itself',\n",
              " 'they',\n",
              " 'them',\n",
              " 'their',\n",
              " 'theirs',\n",
              " 'themselves',\n",
              " 'what',\n",
              " 'which',\n",
              " 'who',\n",
              " 'whom',\n",
              " 'this',\n",
              " 'that',\n",
              " \"that'll\",\n",
              " 'these',\n",
              " 'those',\n",
              " 'am',\n",
              " 'is',\n",
              " 'are',\n",
              " 'was',\n",
              " 'were',\n",
              " 'be',\n",
              " 'been',\n",
              " 'being',\n",
              " 'have',\n",
              " 'has',\n",
              " 'had',\n",
              " 'having',\n",
              " 'do',\n",
              " 'does',\n",
              " 'did',\n",
              " 'doing',\n",
              " 'a',\n",
              " 'an',\n",
              " 'the',\n",
              " 'and',\n",
              " 'but',\n",
              " 'if',\n",
              " 'or',\n",
              " 'because',\n",
              " 'as',\n",
              " 'until',\n",
              " 'while',\n",
              " 'of',\n",
              " 'at',\n",
              " 'by',\n",
              " 'for',\n",
              " 'with',\n",
              " 'about',\n",
              " 'against',\n",
              " 'between',\n",
              " 'into',\n",
              " 'through',\n",
              " 'during',\n",
              " 'before',\n",
              " 'after',\n",
              " 'above',\n",
              " 'below',\n",
              " 'to',\n",
              " 'from',\n",
              " 'up',\n",
              " 'down',\n",
              " 'in',\n",
              " 'out',\n",
              " 'on',\n",
              " 'off',\n",
              " 'over',\n",
              " 'under',\n",
              " 'again',\n",
              " 'further',\n",
              " 'then',\n",
              " 'once',\n",
              " 'here',\n",
              " 'there',\n",
              " 'when',\n",
              " 'where',\n",
              " 'why',\n",
              " 'how',\n",
              " 'all',\n",
              " 'any',\n",
              " 'both',\n",
              " 'each',\n",
              " 'few',\n",
              " 'more',\n",
              " 'most',\n",
              " 'other',\n",
              " 'some',\n",
              " 'such',\n",
              " 'no',\n",
              " 'nor',\n",
              " 'not',\n",
              " 'only',\n",
              " 'own',\n",
              " 'same',\n",
              " 'so',\n",
              " 'than',\n",
              " 'too',\n",
              " 'very',\n",
              " 's',\n",
              " 't',\n",
              " 'can',\n",
              " 'will',\n",
              " 'just',\n",
              " 'don',\n",
              " \"don't\",\n",
              " 'should',\n",
              " \"should've\",\n",
              " 'now',\n",
              " 'd',\n",
              " 'll',\n",
              " 'm',\n",
              " 'o',\n",
              " 're',\n",
              " 've',\n",
              " 'y',\n",
              " 'ain',\n",
              " 'aren',\n",
              " \"aren't\",\n",
              " 'couldn',\n",
              " \"couldn't\",\n",
              " 'didn',\n",
              " \"didn't\",\n",
              " 'doesn',\n",
              " \"doesn't\",\n",
              " 'hadn',\n",
              " \"hadn't\",\n",
              " 'hasn',\n",
              " \"hasn't\",\n",
              " 'haven',\n",
              " \"haven't\",\n",
              " 'isn',\n",
              " \"isn't\",\n",
              " 'ma',\n",
              " 'mightn',\n",
              " \"mightn't\",\n",
              " 'mustn',\n",
              " \"mustn't\",\n",
              " 'needn',\n",
              " \"needn't\",\n",
              " 'shan',\n",
              " \"shan't\",\n",
              " 'shouldn',\n",
              " \"shouldn't\",\n",
              " 'wasn',\n",
              " \"wasn't\",\n",
              " 'weren',\n",
              " \"weren't\",\n",
              " 'won',\n",
              " \"won't\",\n",
              " 'wouldn',\n",
              " \"wouldn't\",\n",
              " 'only',\n",
              " 'product',\n",
              " 'with',\n",
              " 'your',\n",
              " 'free',\n",
              " 'delivery',\n",
              " 'genuine',\n",
              " 'shipping',\n",
              " 'cash',\n",
              " 'price',\n",
              " 'replacement',\n",
              " 'flipkart',\n",
              " 'guarantee',\n",
              " 'this',\n",
              " 'feature',\n",
              " 'online',\n",
              " 'from',\n",
              " 'specification',\n",
              " 'color',\n",
              " 'watch']"
            ]
          },
          "metadata": {},
          "execution_count": 388
        }
      ]
    },
    {
      "cell_type": "code",
      "metadata": {
        "id": "SeWFg7J8jScq"
      },
      "source": [
        "from sklearn import preprocessing\n",
        "le = preprocessing.LabelEncoder()\n",
        "y = pd.Series(le.fit_transform(df1_test.categories),name='class_labels')"
      ],
      "execution_count": 333,
      "outputs": []
    },
    {
      "cell_type": "code",
      "metadata": {
        "id": "v4rdo5P7oq5k"
      },
      "source": [
        ""
      ],
      "execution_count": 333,
      "outputs": []
    },
    {
      "cell_type": "code",
      "metadata": {
        "id": "o8FFLp9Wjkiu"
      },
      "source": [
        "list_labels = y\n",
        "list_tokens = tokenize_desc"
      ],
      "execution_count": 334,
      "outputs": []
    },
    {
      "cell_type": "code",
      "metadata": {
        "colab": {
          "base_uri": "https://localhost:8080/"
        },
        "id": "U6PDb0ZzkKSU",
        "outputId": "a4c33d75-54b4-41a6-aff8-98dc8d289fb8"
      },
      "source": [
        "list_tokens"
      ],
      "execution_count": 335,
      "outputs": [
        {
          "output_type": "execute_result",
          "data": {
            "text/plain": [
              "0       [feature, elegance, polyester, multicolor, abs...\n",
              "1       [specification, sathiyas, cotton, bath, towel,...\n",
              "2       [feature, eurospa, cotton, terry, face, towel,...\n",
              "3       [feature, santosh, royal, fashion, cotton, pri...\n",
              "4       [feature, jaipur, print, cotton, floral, king,...\n",
              "                              ...                        \n",
              "1043    [oren, empower, extra, large, self, adhesive, ...\n",
              "1044    [wallmantra, large, vinyl, sticker, sticker, p...\n",
              "1045    [uberlyfe, extra, large, pigmented, polyvinyl,...\n",
              "1046    [wallmantra, medium, vinyl, sticker, sticker, ...\n",
              "1047    [uberlyfe, large, vinyl, sticker, online, uber...\n",
              "Name: tokenize_desc, Length: 1048, dtype: object"
            ]
          },
          "metadata": {},
          "execution_count": 335
        }
      ]
    },
    {
      "cell_type": "code",
      "metadata": {
        "id": "cPJbC2-skiCg"
      },
      "source": [
        "from sklearn.model_selection import train_test_split\n",
        "#X_train,X_test,y_train,y_test = train_test_split(df1_test.description,y, test_size=0.1, random_state=40)\n",
        "X_train =df1_test.description\n",
        "y_train = y"
      ],
      "execution_count": 336,
      "outputs": []
    },
    {
      "cell_type": "code",
      "metadata": {
        "id": "0ooaiubzms9F"
      },
      "source": [
        "img_path = \"/content/drive/MyDrive/P6_market_place/Images\"\n",
        "train = df1_test\n",
        "labels = train.categories.unique()\n",
        "\n",
        "dico = []\n",
        "prob = []\n",
        "for leaf in train.image:\n",
        "    img = cv.imread(img_path +'/'+ str(leaf),cv.IMREAD_GRAYSCALE)\n",
        "    orb = cv.ORB_create()\n",
        "    kp = orb.detect(img,None)\n",
        "\n",
        "    kp, des = orb.compute(img, kp)\n",
        "    if len(kp)==0:\n",
        "      prob.append(leaf)\n",
        "      des= []\n",
        "    \n",
        "\n",
        "\n",
        "    for d in des:\n",
        "      dico.append(d)"
      ],
      "execution_count": 337,
      "outputs": []
    },
    {
      "cell_type": "code",
      "metadata": {
        "id": "WN4VXyBsms0q",
        "colab": {
          "base_uri": "https://localhost:8080/"
        },
        "outputId": "d67d7dca-6d34-430c-823b-be05c6080b54"
      },
      "source": [
        "from sklearn.cluster import MiniBatchKMeans\n",
        "from sklearn.neural_network import MLPClassifier\n",
        "k = np.size(labels) * 10\n",
        "\n",
        "batch_size = np.size(os.listdir(img_path)) * 3\n",
        "kmeans = MiniBatchKMeans(n_clusters=k, batch_size=batch_size, verbose=1).fit(dico)\n"
      ],
      "execution_count": 338,
      "outputs": [
        {
          "output_type": "stream",
          "name": "stdout",
          "text": [
            "Init 1/3 with method k-means++\n",
            "Inertia for init 1/3: 1383320269.0\n",
            "Init 2/3 with method k-means++\n",
            "Inertia for init 2/3: 1383511438.0\n",
            "Init 3/3 with method k-means++\n",
            "Inertia for init 3/3: 1392207810.0\n",
            "Minibatch step 1/15982: mean batch inertia: 147870.20031746032\n",
            "Minibatch step 2/15982: mean batch inertia: 110816.98160464654, ewa inertia: 110816.98160464654\n",
            "Minibatch step 3/15982: mean batch inertia: 109798.93108227299, ewa inertia: 110804.24186840889\n",
            "Minibatch step 4/15982: mean batch inertia: 109323.01310681284, ewa inertia: 110785.70598702026\n",
            "Minibatch step 5/15982: mean batch inertia: 108960.74579707936, ewa inertia: 110762.86870050736\n",
            "Minibatch step 6/15982: mean batch inertia: 108192.8797742933, ewa inertia: 110730.70823269745\n",
            "Minibatch step 7/15982: mean batch inertia: 108931.35222436082, ewa inertia: 110708.19135319094\n",
            "Minibatch step 8/15982: mean batch inertia: 108864.64847166481, ewa inertia: 110685.12152557701\n",
            "Minibatch step 9/15982: mean batch inertia: 107608.93918776425, ewa inertia: 110646.62662700236\n",
            "Minibatch step 10/15982: mean batch inertia: 107930.24683312363, ewa inertia: 110612.6342451561\n",
            "Minibatch step 11/15982: mean batch inertia: 107836.44570026906, ewa inertia: 110577.89342529445\n",
            "Minibatch step 12/15982: mean batch inertia: 107271.55760613387, ewa inertia: 110536.51841951281\n",
            "Minibatch step 13/15982: mean batch inertia: 107917.08541095698, ewa inertia: 110503.73921564444\n",
            "Minibatch step 14/15982: mean batch inertia: 108092.96319516852, ewa inertia: 110473.57111499134\n",
            "Minibatch step 15/15982: mean batch inertia: 106866.0020392462, ewa inertia: 110428.42652002868\n",
            "Minibatch step 16/15982: mean batch inertia: 107022.74723527613, ewa inertia: 110385.8083445607\n",
            "Minibatch step 17/15982: mean batch inertia: 108180.82793848278, ewa inertia: 110358.21554030859\n",
            "Minibatch step 18/15982: mean batch inertia: 107643.32623758339, ewa inertia: 110324.24181025196\n",
            "Minibatch step 19/15982: mean batch inertia: 106860.17584158912, ewa inertia: 110280.89299230951\n",
            "Minibatch step 20/15982: mean batch inertia: 106439.42122492497, ewa inertia: 110232.82137306733\n",
            "Minibatch step 21/15982: mean batch inertia: 107728.40927005513, ewa inertia: 110201.48152408973\n",
            "Minibatch step 22/15982: mean batch inertia: 107264.23777716504, ewa inertia: 110164.72528284321\n",
            "Minibatch step 23/15982: mean batch inertia: 107572.69422507918, ewa inertia: 110132.28898300347\n",
            "Minibatch step 24/15982: mean batch inertia: 106978.29373157164, ewa inertia: 110092.82034493986\n",
            "Minibatch step 25/15982: mean batch inertia: 107812.67262841148, ewa inertia: 110064.28690789222\n",
            "Minibatch step 26/15982: mean batch inertia: 107449.95144580837, ewa inertia: 110031.57149397934\n",
            "Minibatch step 27/15982: mean batch inertia: 107419.68855181962, ewa inertia: 109998.88677054425\n",
            "Minibatch step 28/15982: mean batch inertia: 106896.51524510878, ewa inertia: 109960.06414428295\n",
            "Minibatch step 29/15982: mean batch inertia: 107050.03491806125, ewa inertia: 109923.64846159221\n",
            "Minibatch step 30/15982: mean batch inertia: 107343.74069191149, ewa inertia: 109891.36387081712\n",
            "Minibatch step 31/15982: mean batch inertia: 107476.21267047165, ewa inertia: 109861.14101979916\n",
            "Minibatch step 32/15982: mean batch inertia: 107511.2989953273, ewa inertia: 109831.73543831376\n",
            "Minibatch step 33/15982: mean batch inertia: 106848.12775838978, ewa inertia: 109794.39900554986\n",
            "Minibatch step 34/15982: mean batch inertia: 106052.63366346949, ewa inertia: 109747.57509801908\n",
            "Minibatch step 35/15982: mean batch inertia: 107010.61145045659, ewa inertia: 109713.32513282022\n",
            "Minibatch step 36/15982: mean batch inertia: 106461.54208911286, ewa inertia: 109672.63279253998\n",
            "Minibatch step 37/15982: mean batch inertia: 106489.88157004892, ewa inertia: 109632.80430643493\n",
            "Minibatch step 38/15982: mean batch inertia: 107344.67276787046, ewa inertia: 109604.17096099899\n",
            "Minibatch step 39/15982: mean batch inertia: 106193.78086264743, ewa inertia: 109561.49383509449\n",
            "Minibatch step 40/15982: mean batch inertia: 106859.60167736167, ewa inertia: 109527.68274942083\n",
            "Minibatch step 41/15982: mean batch inertia: 107848.21659102985, ewa inertia: 109506.66615406751\n",
            "Minibatch step 42/15982: mean batch inertia: 105945.98584815305, ewa inertia: 109462.10831835403\n",
            "Minibatch step 43/15982: mean batch inertia: 106978.54604950239, ewa inertia: 109431.02938117008\n",
            "Minibatch step 44/15982: mean batch inertia: 106786.67486752057, ewa inertia: 109397.93831320993\n",
            "Minibatch step 45/15982: mean batch inertia: 107651.75065338983, ewa inertia: 109376.08677468738\n",
            "Minibatch step 46/15982: mean batch inertia: 106864.21558510243, ewa inertia: 109344.65358378478\n",
            "Minibatch step 47/15982: mean batch inertia: 106655.7720386699, ewa inertia: 109311.00531102599\n",
            "Minibatch step 48/15982: mean batch inertia: 107988.21856160293, ewa inertia: 109294.45214994413\n",
            "Minibatch step 49/15982: mean batch inertia: 107150.68031351348, ewa inertia: 109267.62530083438\n",
            "Minibatch step 50/15982: mean batch inertia: 106329.70384024688, ewa inertia: 109230.8605787776\n",
            "Minibatch step 51/15982: mean batch inertia: 106045.343067348, ewa inertia: 109190.99747573493\n",
            "Minibatch step 52/15982: mean batch inertia: 107487.2507522619, ewa inertia: 109169.67703691997\n",
            "Minibatch step 53/15982: mean batch inertia: 106960.33998963621, ewa inertia: 109142.02971429315\n",
            "Minibatch step 54/15982: mean batch inertia: 107476.10858476242, ewa inertia: 109121.18261946188\n",
            "Minibatch step 55/15982: mean batch inertia: 106498.29640678347, ewa inertia: 109088.36020269913\n",
            "Minibatch step 56/15982: mean batch inertia: 106356.66439187304, ewa inertia: 109054.17615844337\n",
            "Minibatch step 57/15982: mean batch inertia: 107119.30366785664, ewa inertia: 109029.96344537871\n",
            "Minibatch step 58/15982: mean batch inertia: 107503.5521630057, ewa inertia: 109010.8621564935\n",
            "Minibatch step 59/15982: mean batch inertia: 106818.46225777772, ewa inertia: 108983.42678288162\n",
            "Minibatch step 60/15982: mean batch inertia: 106492.06418222336, ewa inertia: 108952.25023347941\n",
            "Minibatch step 61/15982: mean batch inertia: 106073.01292937869, ewa inertia: 108916.2198764257\n",
            "Minibatch step 62/15982: mean batch inertia: 106701.67716865968, ewa inertia: 108888.50741092039\n",
            "Minibatch step 63/15982: mean batch inertia: 107309.37280549186, ewa inertia: 108868.74635003512\n",
            "Minibatch step 64/15982: mean batch inertia: 106899.31709635833, ewa inertia: 108844.10119866085\n",
            "Minibatch step 65/15982: mean batch inertia: 107495.5878538982, ewa inertia: 108827.22609870492\n",
            "Minibatch step 66/15982: mean batch inertia: 107133.06451542891, ewa inertia: 108806.02560694094\n",
            "Minibatch step 67/15982: mean batch inertia: 106948.66424683164, ewa inertia: 108782.78285689488\n",
            "Minibatch step 68/15982: mean batch inertia: 106649.50017597887, ewa inertia: 108756.08726755236\n",
            "Minibatch step 69/15982: mean batch inertia: 106988.72344907669, ewa inertia: 108733.97073365888\n",
            "Minibatch step 70/15982: mean batch inertia: 106383.84044714412, ewa inertia: 108704.56154490417\n",
            "Minibatch step 71/15982: mean batch inertia: 107035.51454291253, ewa inertia: 108683.67533335935\n",
            "Minibatch step 72/15982: mean batch inertia: 107058.7447081542, ewa inertia: 108663.34118774021\n",
            "Minibatch step 73/15982: mean batch inertia: 107281.10286146568, ewa inertia: 108646.04405826844\n",
            "Minibatch step 74/15982: mean batch inertia: 106180.46846487238, ewa inertia: 108615.1902037263\n",
            "Minibatch step 75/15982: mean batch inertia: 106888.26466566771, ewa inertia: 108593.57970859525\n",
            "Minibatch step 76/15982: mean batch inertia: 106663.21279610175, ewa inertia: 108569.42337767985\n",
            "Minibatch step 77/15982: mean batch inertia: 106060.36975509654, ewa inertia: 108538.0254454011\n",
            "Minibatch step 78/15982: mean batch inertia: 106419.0261065423, ewa inertia: 108511.50859572465\n",
            "Minibatch step 79/15982: mean batch inertia: 106218.65571974414, ewa inertia: 108482.81616815865\n",
            "Minibatch step 80/15982: mean batch inertia: 106718.92548984537, ewa inertia: 108460.74309663626\n",
            "Minibatch step 81/15982: mean batch inertia: 106946.07886196405, ewa inertia: 108441.78880859823\n",
            "Minibatch step 82/15982: mean batch inertia: 106003.61163197046, ewa inertia: 108411.27781386049\n",
            "Minibatch step 83/15982: mean batch inertia: 106702.54233007084, ewa inertia: 108389.89494642416\n",
            "Minibatch step 84/15982: mean batch inertia: 105469.3951021138, ewa inertia: 108353.34823594081\n",
            "Minibatch step 85/15982: mean batch inertia: 106361.03903394265, ewa inertia: 108328.41676821942\n",
            "Minibatch step 86/15982: mean batch inertia: 106220.12107309655, ewa inertia: 108302.03386238463\n",
            "Minibatch step 87/15982: mean batch inertia: 107525.63521103337, ewa inertia: 108292.31812253076\n",
            "Minibatch step 88/15982: mean batch inertia: 105778.77434214066, ewa inertia: 108260.86400106997\n",
            "Minibatch step 89/15982: mean batch inertia: 107096.21041977034, ewa inertia: 108246.28969546537\n",
            "Minibatch step 90/15982: mean batch inertia: 106670.73275857941, ewa inertia: 108226.57340500414\n",
            "Minibatch step 91/15982: mean batch inertia: 106625.23111572939, ewa inertia: 108206.53444039167\n",
            "Minibatch step 92/15982: mean batch inertia: 107519.42373734505, ewa inertia: 108197.93603694263\n",
            "Minibatch step 93/15982: mean batch inertia: 106127.20793448864, ewa inertia: 108172.0232465011\n",
            "Minibatch step 94/15982: mean batch inertia: 107385.54353489335, ewa inertia: 108162.18135372472\n",
            "Minibatch step 95/15982: mean batch inertia: 105984.95544731322, ewa inertia: 108134.9358652466\n",
            "Minibatch step 96/15982: mean batch inertia: 106987.58832287857, ewa inertia: 108120.57812489732\n",
            "Minibatch step 97/15982: mean batch inertia: 106697.57617634804, ewa inertia: 108102.77088538243\n",
            "Minibatch step 98/15982: mean batch inertia: 106997.5348306078, ewa inertia: 108088.94012206694\n",
            "Minibatch step 99/15982: mean batch inertia: 105958.93021637527, ewa inertia: 108062.2854877578\n",
            "Minibatch step 100/15982: mean batch inertia: 107057.21037353596, ewa inertia: 108049.70812389145\n",
            "Minibatch step 101/15982: mean batch inertia: 106448.8472976745, ewa inertia: 108029.67518423768\n",
            "Minibatch step 102/15982: mean batch inertia: 106704.62988542284, ewa inertia: 108013.09375999708\n",
            "Minibatch step 103/15982: mean batch inertia: 106316.68887533162, ewa inertia: 107991.86519588564\n",
            "Minibatch step 104/15982: mean batch inertia: 105974.07160422848, ewa inertia: 107966.61482021686\n",
            "Minibatch step 105/15982: mean batch inertia: 107059.38032992659, ewa inertia: 107955.26181969479\n",
            "Minibatch step 106/15982: mean batch inertia: 106294.7099547709, ewa inertia: 107934.48191506024\n",
            "Minibatch step 107/15982: mean batch inertia: 105216.86805525378, ewa inertia: 107900.47409029238\n",
            "Minibatch step 108/15982: mean batch inertia: 106512.14671688886, ewa inertia: 107883.10076337002\n",
            "Minibatch step 109/15982: mean batch inertia: 106583.99803870448, ewa inertia: 107866.84398073092\n",
            "Minibatch step 110/15982: mean batch inertia: 106751.6257279507, ewa inertia: 107852.88830164075\n",
            "Minibatch step 111/15982: mean batch inertia: 105566.51571087114, ewa inertia: 107824.27696742181\n",
            "Minibatch step 112/15982: mean batch inertia: 106590.15845089768, ewa inertia: 107808.8333877163\n",
            "Minibatch step 113/15982: mean batch inertia: 106446.00012628995, ewa inertia: 107791.779090405\n",
            "Minibatch step 114/15982: mean batch inertia: 106217.71179886835, ewa inertia: 107772.08144114912\n",
            "Minibatch step 115/15982: mean batch inertia: 106603.16981030998, ewa inertia: 107757.45385093159\n",
            "Minibatch step 116/15982: mean batch inertia: 106510.317126112, ewa inertia: 107741.84736325999\n",
            "Minibatch step 117/15982: mean batch inertia: 106366.88159050132, ewa inertia: 107724.64124146567\n",
            "Minibatch step 118/15982: mean batch inertia: 107204.88450140477, ewa inertia: 107718.1370811803\n",
            "Minibatch step 119/15982: mean batch inertia: 107241.0735971533, ewa inertia: 107712.1671780944\n",
            "Minibatch step 120/15982: mean batch inertia: 105993.30825790516, ewa inertia: 107690.65762744666\n",
            "Minibatch step 121/15982: mean batch inertia: 106491.11498498444, ewa inertia: 107675.64672520268\n",
            "Minibatch step 122/15982: mean batch inertia: 106235.14416165357, ewa inertia: 107657.62048553582\n",
            "Minibatch step 123/15982: mean batch inertia: 106531.86021263945, ewa inertia: 107643.53288513845\n",
            "Minibatch step 124/15982: mean batch inertia: 107104.90949605014, ewa inertia: 107636.7926303499\n",
            "Minibatch step 125/15982: mean batch inertia: 106055.59382717735, ewa inertia: 107617.00573839415\n",
            "Minibatch step 126/15982: mean batch inertia: 107639.29132421967, ewa inertia: 107617.28461697538\n",
            "Minibatch step 127/15982: mean batch inertia: 106394.46749784965, ewa inertia: 107601.98246131396\n",
            "Minibatch step 128/15982: mean batch inertia: 106117.71179434084, ewa inertia: 107583.40851396366\n",
            "Minibatch step 129/15982: mean batch inertia: 106135.27233439633, ewa inertia: 107565.28674833568\n",
            "Minibatch step 130/15982: mean batch inertia: 106445.25053540088, ewa inertia: 107551.27077799254\n",
            "Minibatch step 131/15982: mean batch inertia: 106583.06201175954, ewa inertia: 107539.15475424548\n",
            "Minibatch step 132/15982: mean batch inertia: 105663.17329931587, ewa inertia: 107515.67899503974\n",
            "Minibatch step 133/15982: mean batch inertia: 106780.24438425594, ewa inertia: 107506.47587323438\n",
            "Minibatch step 134/15982: mean batch inertia: 106561.37837171702, ewa inertia: 107494.64906049415\n",
            "Minibatch step 135/15982: mean batch inertia: 105852.18153921544, ewa inertia: 107474.09546070697\n",
            "Minibatch step 136/15982: mean batch inertia: 107324.82871396482, ewa inertia: 107472.22755833792\n",
            "Minibatch step 137/15982: mean batch inertia: 105382.74049834261, ewa inertia: 107446.08002102881\n",
            "Minibatch step 138/15982: mean batch inertia: 106732.84108321629, ewa inertia: 107437.15465264831\n",
            "Minibatch step 139/15982: mean batch inertia: 107052.37340605803, ewa inertia: 107432.33955606614\n",
            "Minibatch step 140/15982: mean batch inertia: 106752.60372403038, ewa inertia: 107423.8334406808\n",
            "Minibatch step 141/15982: mean batch inertia: 107022.13997094896, ewa inertia: 107418.80670699685\n",
            "Minibatch step 142/15982: mean batch inertia: 105571.99932498523, ewa inertia: 107395.69602789842\n",
            "Minibatch step 143/15982: mean batch inertia: 107387.86636894445, ewa inertia: 107395.5980486845\n",
            "Minibatch step 144/15982: mean batch inertia: 106031.51232584647, ewa inertia: 107378.52807825318\n",
            "Minibatch step 145/15982: mean batch inertia: 107294.2915157346, ewa inertia: 107377.47395415572\n",
            "Minibatch step 146/15982: mean batch inertia: 106982.9113584919, ewa inertia: 107372.53645519321\n",
            "Minibatch step 147/15982: mean batch inertia: 106291.43118499407, ewa inertia: 107359.00766100787\n",
            "Minibatch step 148/15982: mean batch inertia: 106508.675806179, ewa inertia: 107348.36673179374\n",
            "Minibatch step 149/15982: mean batch inertia: 106687.0383108575, ewa inertia: 107340.0909640749\n",
            "Minibatch step 150/15982: mean batch inertia: 106249.73511203451, ewa inertia: 107326.4464094532\n",
            "Minibatch step 151/15982: mean batch inertia: 106456.61069539351, ewa inertia: 107315.56141178003\n",
            "Minibatch step 152/15982: mean batch inertia: 105711.21985189347, ewa inertia: 107295.48491473113\n",
            "Minibatch step 153/15982: mean batch inertia: 107189.12838546779, ewa inertia: 107294.15398458553\n",
            "Minibatch step 154/15982: mean batch inertia: 106489.05221588822, ewa inertia: 107284.0790580939\n",
            "Minibatch step 155/15982: mean batch inertia: 105948.20550310185, ewa inertia: 107267.36213062967\n",
            "Minibatch step 156/15982: mean batch inertia: 106594.79574402787, ewa inertia: 107258.94573264223\n",
            "Minibatch step 157/15982: mean batch inertia: 105857.98120646454, ewa inertia: 107241.41426622719\n",
            "Minibatch step 158/15982: mean batch inertia: 106433.47897452021, ewa inertia: 107231.30388144054\n",
            "Minibatch step 159/15982: mean batch inertia: 106254.04696376316, ewa inertia: 107219.07463044168\n",
            "Minibatch step 160/15982: mean batch inertia: 105843.08017576514, ewa inertia: 107201.85563587137\n",
            "Minibatch step 161/15982: mean batch inertia: 106343.74064677703, ewa inertia: 107191.1173096465\n",
            "Minibatch step 162/15982: mean batch inertia: 106349.08889739703, ewa inertia: 107180.58028850569\n",
            "Minibatch step 163/15982: mean batch inertia: 106883.34240545084, ewa inertia: 107176.86069684816\n",
            "Minibatch step 164/15982: mean batch inertia: 106658.7753531551, ewa inertia: 107170.37745217397\n",
            "Minibatch step 165/15982: mean batch inertia: 106794.64343780764, ewa inertia: 107165.6755713406\n",
            "Minibatch step 166/15982: mean batch inertia: 106110.99160189938, ewa inertia: 107152.47740947195\n",
            "Minibatch step 167/15982: mean batch inertia: 105645.07605821163, ewa inertia: 107133.6140081011\n",
            "Minibatch step 168/15982: mean batch inertia: 105918.43461231407, ewa inertia: 107118.4074297992\n",
            "Minibatch step 169/15982: mean batch inertia: 106152.87681554578, ewa inertia: 107106.32492005668\n",
            "Minibatch step 170/15982: mean batch inertia: 105305.51638430823, ewa inertia: 107083.78986383328\n",
            "Minibatch step 171/15982: mean batch inertia: 107157.39151980357, ewa inertia: 107084.71090425624\n",
            "Minibatch step 172/15982: mean batch inertia: 105546.95938302959, ewa inertia: 107065.46770527058\n",
            "Minibatch step 173/15982: mean batch inertia: 106747.97015564445, ewa inertia: 107061.49458709083\n",
            "Minibatch step 174/15982: mean batch inertia: 106181.62464560459, ewa inertia: 107050.48402255436\n",
            "Minibatch step 175/15982: mean batch inertia: 106606.17109066051, ewa inertia: 107044.92395511673\n",
            "Minibatch step 176/15982: mean batch inertia: 106801.49646551991, ewa inertia: 107041.87773890024\n",
            "Minibatch step 177/15982: mean batch inertia: 106063.14340002587, ewa inertia: 107029.62999966729\n",
            "Minibatch step 178/15982: mean batch inertia: 106115.28745750045, ewa inertia: 107018.18805001737\n",
            "Minibatch step 179/15982: mean batch inertia: 106737.75511097901, ewa inertia: 107014.67875298625\n",
            "Minibatch step 180/15982: mean batch inertia: 106430.71021788883, ewa inertia: 107007.3710556326\n",
            "Minibatch step 181/15982: mean batch inertia: 107476.775354848, ewa inertia: 107013.24511279321\n",
            "Minibatch step 182/15982: mean batch inertia: 106590.60727505044, ewa inertia: 107007.95628433277\n",
            "Minibatch step 183/15982: mean batch inertia: 106338.9787405129, ewa inertia: 106999.58479660217\n",
            "Minibatch step 184/15982: mean batch inertia: 106968.61319977875, ewa inertia: 106999.19722254202\n",
            "Minibatch step 185/15982: mean batch inertia: 105768.55213328426, ewa inertia: 106983.79710880035\n",
            "Minibatch step 186/15982: mean batch inertia: 106675.26248638655, ewa inertia: 106979.93615138876\n",
            "Minibatch step 187/15982: mean batch inertia: 106129.10965640076, ewa inertia: 106969.28903231958\n",
            "Minibatch step 188/15982: mean batch inertia: 105418.82584993305, ewa inertia: 106949.88676145414\n",
            "Minibatch step 189/15982: mean batch inertia: 106777.09216035611, ewa inertia: 106947.72443493604\n",
            "Minibatch step 190/15982: mean batch inertia: 106969.8137022073, ewa inertia: 106948.00085681543\n",
            "Minibatch step 191/15982: mean batch inertia: 106568.76779661824, ewa inertia: 106943.25518943122\n",
            "Minibatch step 192/15982: mean batch inertia: 106557.0921723944, ewa inertia: 106938.42280157455\n",
            "Minibatch step 193/15982: mean batch inertia: 106362.48201667074, ewa inertia: 106931.21556231979\n",
            "Minibatch step 194/15982: mean batch inertia: 107214.69150574837, ewa inertia: 106934.76293906546\n",
            "Minibatch step 195/15982: mean batch inertia: 105550.9277087757, ewa inertia: 106917.44582616899\n",
            "Minibatch step 196/15982: mean batch inertia: 106347.86978245096, ewa inertia: 106910.31823436014\n",
            "Minibatch step 197/15982: mean batch inertia: 105724.23305305648, ewa inertia: 106895.47573682871\n",
            "Minibatch step 198/15982: mean batch inertia: 106644.69085487942, ewa inertia: 106892.33745127391\n",
            "Minibatch step 199/15982: mean batch inertia: 106308.42295018218, ewa inertia: 106885.03043009395\n",
            "Minibatch step 200/15982: mean batch inertia: 106895.30505372456, ewa inertia: 106885.15900524038\n",
            "Minibatch step 201/15982: mean batch inertia: 106210.07177575566, ewa inertia: 106876.71106179158\n",
            "Minibatch step 202/15982: mean batch inertia: 106735.2853631059, ewa inertia: 106874.94128115801\n",
            "Minibatch step 203/15982: mean batch inertia: 107039.12874552049, ewa inertia: 106876.99589921824\n",
            "Minibatch step 204/15982: mean batch inertia: 105543.91404717197, ewa inertia: 106860.3139067188\n",
            "Minibatch step 205/15982: mean batch inertia: 106829.92530632265, ewa inertia: 106859.9336281912\n",
            "Minibatch step 206/15982: mean batch inertia: 106488.33603526751, ewa inertia: 106855.28350993442\n",
            "Minibatch step 207/15982: mean batch inertia: 105937.1838764308, ewa inertia: 106843.7945445897\n",
            "Minibatch step 208/15982: mean batch inertia: 106656.86015302753, ewa inertia: 106841.45527478933\n",
            "Minibatch step 209/15982: mean batch inertia: 106205.91206911702, ewa inertia: 106833.5021795058\n",
            "Minibatch step 210/15982: mean batch inertia: 106812.76926469458, ewa inertia: 106833.2427308239\n",
            "Minibatch step 211/15982: mean batch inertia: 107611.52164477465, ewa inertia: 106842.98200001058\n",
            "Minibatch step 212/15982: mean batch inertia: 106558.83502281674, ewa inertia: 106839.4262260459\n",
            "Minibatch step 213/15982: mean batch inertia: 106034.56775305007, ewa inertia: 106829.35434412131\n",
            "Minibatch step 214/15982: mean batch inertia: 106823.09861670574, ewa inertia: 106829.27606085785\n",
            "Minibatch step 215/15982: mean batch inertia: 106494.96436537126, ewa inertia: 106825.09253290117\n",
            "Minibatch step 216/15982: mean batch inertia: 106881.93283069548, ewa inertia: 106825.80382412458\n",
            "Minibatch step 217/15982: mean batch inertia: 106241.97079897107, ewa inertia: 106818.49782252267\n",
            "Minibatch step 218/15982: mean batch inertia: 106370.10676013246, ewa inertia: 106812.88672195288\n",
            "Minibatch step 219/15982: mean batch inertia: 106046.90861323394, ewa inertia: 106803.30138325461\n",
            "Minibatch step 220/15982: mean batch inertia: 106854.83222525501, ewa inertia: 106803.9462327201\n",
            "Minibatch step 221/15982: mean batch inertia: 106106.36621461048, ewa inertia: 106795.21681778434\n",
            "Minibatch step 222/15982: mean batch inertia: 106311.24689394751, ewa inertia: 106789.16048851468\n",
            "Minibatch step 223/15982: mean batch inertia: 106515.0955623745, ewa inertia: 106785.73087987122\n",
            "Minibatch step 224/15982: mean batch inertia: 106390.60768089624, ewa inertia: 106780.78636560038\n",
            "Minibatch step 225/15982: mean batch inertia: 106248.04632178984, ewa inertia: 106774.11973413933\n",
            "Minibatch step 226/15982: mean batch inertia: 105366.2353185112, ewa inertia: 106756.50167323368\n",
            "Minibatch step 227/15982: mean batch inertia: 106605.91732976584, ewa inertia: 106754.61728265075\n",
            "Minibatch step 228/15982: mean batch inertia: 106760.55414624671, ewa inertia: 106754.69157569871\n",
            "Minibatch step 229/15982: mean batch inertia: 106333.88071623085, ewa inertia: 106749.4256097788\n",
            "Minibatch step 230/15982: mean batch inertia: 106808.36357566762, ewa inertia: 106750.1631509158\n",
            "Minibatch step 231/15982: mean batch inertia: 106980.65120987006, ewa inertia: 106753.04744497829\n",
            "Minibatch step 232/15982: mean batch inertia: 106476.60754735016, ewa inertia: 106749.58811628689\n",
            "Minibatch step 233/15982: mean batch inertia: 106648.34095814016, ewa inertia: 106748.32112406867\n",
            "Minibatch step 234/15982: mean batch inertia: 107860.72497310479, ewa inertia: 106762.24158411953\n",
            "Minibatch step 235/15982: mean batch inertia: 107115.96098845787, ewa inertia: 106766.66797732338\n",
            "Minibatch step 236/15982: mean batch inertia: 106233.71119182243, ewa inertia: 106759.99863358833\n",
            "Minibatch step 237/15982: mean batch inertia: 105921.60722978176, ewa inertia: 106749.50712544243\n",
            "Minibatch step 238/15982: mean batch inertia: 106570.99086321187, ewa inertia: 106747.27319888871\n",
            "Minibatch step 239/15982: mean batch inertia: 106416.43636650444, ewa inertia: 106743.13315486372\n",
            "Minibatch step 240/15982: mean batch inertia: 106105.57552800255, ewa inertia: 106735.15485140626\n",
            "Minibatch step 241/15982: mean batch inertia: 106085.00306463064, ewa inertia: 106727.01894646251\n",
            "Minibatch step 242/15982: mean batch inertia: 106149.74250831865, ewa inertia: 106719.79499303727\n",
            "Minibatch step 243/15982: mean batch inertia: 105425.07188738821, ewa inertia: 106703.59301631385\n",
            "Minibatch step 244/15982: mean batch inertia: 105596.38492284578, ewa inertia: 106689.73757519283\n",
            "Minibatch step 245/15982: mean batch inertia: 105558.97618359838, ewa inertia: 106675.58739152312\n",
            "Minibatch step 246/15982: mean batch inertia: 106104.47905293449, ewa inertia: 106668.44062479903\n",
            "Minibatch step 247/15982: mean batch inertia: 106268.82450093977, ewa inertia: 106663.43988671934\n",
            "Minibatch step 248/15982: mean batch inertia: 106746.40582909687, ewa inertia: 106664.47811046106\n",
            "Minibatch step 249/15982: mean batch inertia: 106494.78238527219, ewa inertia: 106662.3545628256\n",
            "Minibatch step 250/15982: mean batch inertia: 105921.13887254053, ewa inertia: 106653.07909743178\n",
            "Minibatch step 251/15982: mean batch inertia: 106405.38701960351, ewa inertia: 106649.97951477813\n",
            "Minibatch step 252/15982: mean batch inertia: 106727.84996040768, ewa inertia: 106650.9539742143\n",
            "Minibatch step 253/15982: mean batch inertia: 106619.2146353262, ewa inertia: 106650.55679274155\n",
            "Minibatch step 254/15982: mean batch inertia: 106841.22083171715, ewa inertia: 106652.94273480745\n",
            "Minibatch step 255/15982: mean batch inertia: 105979.43740057468, ewa inertia: 106644.51458696586\n",
            "Minibatch step 256/15982: mean batch inertia: 105707.3402208963, ewa inertia: 106632.7869231908\n",
            "Minibatch step 257/15982: mean batch inertia: 106205.53506532688, ewa inertia: 106627.44035555332\n",
            "Minibatch step 258/15982: mean batch inertia: 106393.48751463747, ewa inertia: 106624.51270371306\n",
            "Minibatch step 259/15982: mean batch inertia: 106484.97929196456, ewa inertia: 106622.76660288313\n",
            "Minibatch step 260/15982: mean batch inertia: 106544.5759560924, ewa inertia: 106621.78813649618\n",
            "Minibatch step 261/15982: mean batch inertia: 106564.88969524644, ewa inertia: 106621.076117674\n",
            "Minibatch step 262/15982: mean batch inertia: 106556.83800181896, ewa inertia: 106620.27225123082\n",
            "Minibatch step 263/15982: mean batch inertia: 106192.9847800547, ewa inertia: 106614.92523793355\n",
            "Minibatch step 264/15982: mean batch inertia: 106724.81741329639, ewa inertia: 106616.30041264043\n",
            "Minibatch step 265/15982: mean batch inertia: 107208.69058909995, ewa inertia: 106623.71349718978\n",
            "Minibatch step 266/15982: mean batch inertia: 106711.30496225019, ewa inertia: 106624.80960404991\n",
            "Minibatch step 267/15982: mean batch inertia: 106754.25828290205, ewa inertia: 106626.42950599841\n",
            "Minibatch step 268/15982: mean batch inertia: 106829.82908020786, ewa inertia: 106628.97481870081\n",
            "Minibatch step 269/15982: mean batch inertia: 106705.5517380636, ewa inertia: 106629.93309113733\n",
            "Minibatch step 270/15982: mean batch inertia: 106669.298803693, ewa inertia: 106630.42570794144\n",
            "Minibatch step 271/15982: mean batch inertia: 106107.0149774285, ewa inertia: 106623.87582215076\n",
            "Minibatch step 272/15982: mean batch inertia: 106477.4232849626, ewa inertia: 106622.04313639096\n",
            "Minibatch step 273/15982: mean batch inertia: 106130.41643775384, ewa inertia: 106615.89099135455\n",
            "Converged (lack of improvement in inertia) at step 273/15982\n"
          ]
        }
      ]
    },
    {
      "cell_type": "code",
      "metadata": {
        "id": "EaguVVCGmsyZ"
      },
      "source": [
        "kmeans.verbose = False\n",
        "histo_list = []\n",
        "\n",
        "for leaf in train.image:\n",
        "    img = cv.imread(img_path +'/'+ str(leaf) )\n",
        "    kp, des = orb.detectAndCompute(img, None)\n",
        "\n",
        "    histo = np.zeros(k)\n",
        "    nkp = np.size(kp)\n",
        "\n",
        "    for d in des:\n",
        "        idx = kmeans.predict([d])\n",
        "        histo[idx] += 1/nkp # Because we need normalized histograms, I prefere to add 1/nkp directly\n",
        "\n",
        "    histo_list.append(histo)"
      ],
      "execution_count": 339,
      "outputs": []
    },
    {
      "cell_type": "code",
      "metadata": {
        "colab": {
          "base_uri": "https://localhost:8080/"
        },
        "id": "CEN-RdQClKIS",
        "outputId": "481a3101-df5c-4f6c-bc87-eb65b4490314"
      },
      "source": [
        "from sklearn.feature_extraction.text import CountVectorizer\n",
        "\n",
        "count_vectorizer = CountVectorizer(analyzer='word', token_pattern=r'\\w+',stop_words=stopword_list)\n",
        "\n",
        "bow = dict()\n",
        "bow[\"train\"] = (count_vectorizer.fit_transform(X_train), y_train)\n",
        "#bow[\"test\"]  = (count_vectorizer.transform(X_test), y_test)\n",
        "print(bow[\"train\"][0].shape)\n",
        "#print(bow[\"test\"][0].shape)"
      ],
      "execution_count": 340,
      "outputs": [
        {
          "output_type": "stream",
          "name": "stdout",
          "text": [
            "(1048, 4217)\n"
          ]
        }
      ]
    },
    {
      "cell_type": "code",
      "metadata": {
        "id": "VIF_E3Cryphn"
      },
      "source": [
        "X_train_word =count_vectorizer.fit_transform(X_train)"
      ],
      "execution_count": 341,
      "outputs": []
    },
    {
      "cell_type": "code",
      "metadata": {
        "id": "O2SB-DlemK0w"
      },
      "source": [
        ""
      ],
      "execution_count": 341,
      "outputs": []
    },
    {
      "cell_type": "code",
      "metadata": {
        "id": "jrJnUZZulpsc"
      },
      "source": [
        ""
      ],
      "execution_count": 342,
      "outputs": []
    },
    {
      "cell_type": "code",
      "metadata": {
        "id": "bSfGAYT81dp7",
        "colab": {
          "base_uri": "https://localhost:8080/"
        },
        "outputId": "8b87accd-5054-4441-94df-8f4cfc089991"
      },
      "source": [
        "np.shape(X_train_word)"
      ],
      "execution_count": 343,
      "outputs": [
        {
          "output_type": "execute_result",
          "data": {
            "text/plain": [
              "(1048, 4217)"
            ]
          },
          "metadata": {},
          "execution_count": 343
        }
      ]
    },
    {
      "cell_type": "code",
      "metadata": {
        "id": "cLjY3NrGywYp"
      },
      "source": [
        "\n",
        "X_train_word_df = pd.DataFrame.sparse.from_spmatrix(X_train_word)\n",
        "X_train_image = pd.DataFrame(histo_list)\n",
        "X = pd.concat([X_train_word_df,X_train_image],axis=1)"
      ],
      "execution_count": 344,
      "outputs": []
    },
    {
      "cell_type": "code",
      "metadata": {
        "id": "3LesmiQXNwUD"
      },
      "source": [
        "def plot_top_words(model, feature_names, n_top_words, title):\n",
        "    fig, axes = plt.subplots(2, 5, figsize=(30, 15), sharex=True)\n",
        "    axes = axes.flatten()\n",
        "    for topic_idx, topic in enumerate(model.components_):\n",
        "        top_features_ind = topic.argsort()[: -n_top_words - 1 : -1]\n",
        "        top_features = [feature_names[i] for i in top_features_ind]\n",
        "        weights = topic[top_features_ind]\n",
        "\n",
        "        ax = axes[topic_idx]\n",
        "        ax.barh(top_features, weights, height=0.7)\n",
        "        ax.set_title(f\"Topic {topic_idx +1}\", fontdict={\"fontsize\": 30})\n",
        "        ax.invert_yaxis()\n",
        "        ax.tick_params(axis=\"both\", which=\"major\", labelsize=20)\n",
        "        for i in \"top right left\".split():\n",
        "            ax.spines[i].set_visible(False)\n",
        "        fig.suptitle(title, fontsize=40)\n",
        "\n",
        "    plt.subplots_adjust(top=0.90, bottom=0.05, wspace=0.90, hspace=0.3)\n",
        "    plt.show()"
      ],
      "execution_count": 378,
      "outputs": []
    },
    {
      "cell_type": "code",
      "metadata": {
        "colab": {
          "base_uri": "https://localhost:8080/",
          "height": 952
        },
        "id": "wIiZ4u9SNxdj",
        "outputId": "33ee93cd-a28d-4a1f-d257-7a91c148373c"
      },
      "source": [
        "from sklearn.decomposition import NMF, LatentDirichletAllocation\n",
        "#n_samples = 2000\n",
        "#n_features = 1000\n",
        "n_components = 7\n",
        "n_top_words = 20\n",
        "nmf = NMF(n_components=n_components, random_state=1, alpha=0.1, l1_ratio=0.5).fit(X_train_word)\n",
        "tfidf_feature_names = count_vectorizer.get_feature_names_out()\n",
        "plot_top_words(\n",
        "    nmf, tfidf_feature_names, n_top_words, \"Topics in NMF model (Frobenius norm)\"\n",
        ")"
      ],
      "execution_count": 379,
      "outputs": [
        {
          "output_type": "stream",
          "name": "stderr",
          "text": [
            "/usr/local/lib/python3.7/dist-packages/sklearn/decomposition/_nmf.py:1425: FutureWarning: `alpha` was deprecated in version 1.0 and will be removed in 1.2. Use `alpha_W` and `alpha_H` instead\n",
            "  FutureWarning,\n",
            "/usr/local/lib/python3.7/dist-packages/sklearn/decomposition/_nmf.py:294: FutureWarning: The 'init' value, when 'init=None' and n_components is less than n_samples and n_features, will be changed from 'nndsvd' to 'nndsvda' in 1.1 (renaming of 0.26).\n",
            "  FutureWarning,\n",
            "/usr/local/lib/python3.7/dist-packages/sklearn/decomposition/_nmf.py:1641: ConvergenceWarning: Maximum number of iterations 200 reached. Increase it to improve convergence.\n",
            "  ConvergenceWarning,\n"
          ]
        },
        {
          "output_type": "display_data",
          "data": {
            "image/png": "[encoded data removed]",
            "text/plain": [
              "<Figure size 2160x1080 with 10 Axes>"
            ]
          },
          "metadata": {
            "needs_background": "light"
          }
        }
      ]
    },
    {
      "cell_type": "code",
      "metadata": {
        "id": "tddbUnMwkpNh"
      },
      "source": [
        ""
      ],
      "execution_count": 344,
      "outputs": []
    },
    {
      "cell_type": "code",
      "metadata": {
        "colab": {
          "base_uri": "https://localhost:8080/",
          "height": 389
        },
        "id": "A_iBw8eGtbE4",
        "outputId": "b58b295f-7f56-4227-ac2e-5fba9c79f4f7"
      },
      "source": [
        "from sklearn.manifold import TSNE\n",
        "tsne_2d = TSNE(n_components=2, perplexity=50)\n",
        "X_tsne = tsne_2d.fit_transform(X)\n",
        "plt.scatter(X_tsne[:, 0], X_tsne[:, 1])"
      ],
      "execution_count": 367,
      "outputs": [
        {
          "output_type": "stream",
          "name": "stderr",
          "text": [
            "/usr/local/lib/python3.7/dist-packages/sklearn/manifold/_t_sne.py:783: FutureWarning: The default initialization in TSNE will change from 'random' to 'pca' in 1.2.\n",
            "  FutureWarning,\n",
            "/usr/local/lib/python3.7/dist-packages/sklearn/manifold/_t_sne.py:793: FutureWarning: The default learning rate in TSNE will change from 200.0 to 'auto' in 1.2.\n",
            "  FutureWarning,\n",
            "/usr/local/lib/python3.7/dist-packages/sklearn/utils/validation.py:617: UserWarning: pandas.DataFrame with sparse columns found.It will be converted to a dense numpy array.\n",
            "  \"pandas.DataFrame with sparse columns found.\"\n"
          ]
        },
        {
          "output_type": "execute_result",
          "data": {
            "text/plain": [
              "<matplotlib.collections.PathCollection at 0x7f0641a5fa10>"
            ]
          },
          "metadata": {},
          "execution_count": 367
        },
        {
          "output_type": "display_data",
          "data": {
            "image/png": "[encoded data removed]",
            "text/plain": [
              "<Figure size 432x288 with 1 Axes>"
            ]
          },
          "metadata": {
            "needs_background": "light"
          }
        }
      ]
    },
    {
      "cell_type": "code",
      "metadata": {
        "id": "BqtkPN-PmswE",
        "colab": {
          "base_uri": "https://localhost:8080/"
        },
        "outputId": "499427be-9b58-4c3a-84fb-37fafd00ebf6"
      },
      "source": [
        "np.shape(X_tsne)"
      ],
      "execution_count": 346,
      "outputs": [
        {
          "output_type": "execute_result",
          "data": {
            "text/plain": [
              "(1048, 2)"
            ]
          },
          "metadata": {},
          "execution_count": 346
        }
      ]
    },
    {
      "cell_type": "code",
      "metadata": {
        "id": "femwVVTvmstr"
      },
      "source": [
        ""
      ],
      "execution_count": 346,
      "outputs": []
    },
    {
      "cell_type": "code",
      "metadata": {
        "id": "16k79GriuN67",
        "colab": {
          "base_uri": "https://localhost:8080/"
        },
        "outputId": "fa43a63d-59c5-41ff-eabd-68d0c33e075a"
      },
      "source": [
        "from sklearn.naive_bayes import MultinomialNB\n",
        "from sklearn.naive_bayes import GaussianNB\n",
        "gb= GaussianNB()\n",
        "nb = MultinomialNB()\n",
        "from sklearn.model_selection import cross_val_score\n",
        "cross_val_score(gb, X_tsne,y_train, cv=5, scoring='accuracy',error_score = 'raise')\n",
        "\n"
      ],
      "execution_count": 368,
      "outputs": [
        {
          "output_type": "execute_result",
          "data": {
            "text/plain": [
              "array([0.72380952, 0.86190476, 0.6952381 , 0.46889952, 0.55980861])"
            ]
          },
          "metadata": {},
          "execution_count": 368
        }
      ]
    },
    {
      "cell_type": "code",
      "metadata": {
        "id": "K9cBwMxNx5hc"
      },
      "source": [
        "labels_=gb.fit(X_tsne,y_train).predict(X_tsne)\n",
        "gb_labels = pd.Series(labels_)"
      ],
      "execution_count": 369,
      "outputs": []
    },
    {
      "cell_type": "code",
      "metadata": {
        "colab": {
          "base_uri": "https://localhost:8080/"
        },
        "id": "Kx_M5qhsyDyO",
        "outputId": "e5099e34-4b74-4d76-8aaf-8a2d8afcb36a"
      },
      "source": [
        "df1_test.categories.nunique()"
      ],
      "execution_count": 370,
      "outputs": [
        {
          "output_type": "execute_result",
          "data": {
            "text/plain": [
              "7"
            ]
          },
          "metadata": {},
          "execution_count": 370
        }
      ]
    },
    {
      "cell_type": "code",
      "metadata": {
        "colab": {
          "base_uri": "https://localhost:8080/",
          "height": 284
        },
        "id": "BKHWdgokw9kl",
        "outputId": "2e8ea06c-ea93-44df-dfa1-c6f7ecdac61f"
      },
      "source": [
        "results = np.c_[X_tsne,labels_]\n",
        "pd_result = pd.DataFrame(results)\n",
        "plt.scatter(pd_result[0], pd_result[1], c=pd_result[2], cmap='Set1')"
      ],
      "execution_count": 371,
      "outputs": [
        {
          "output_type": "execute_result",
          "data": {
            "text/plain": [
              "<matplotlib.collections.PathCollection at 0x7f0641854810>"
            ]
          },
          "metadata": {},
          "execution_count": 371
        },
        {
          "output_type": "display_data",
          "data": {
            "image/png": "[encoded data removed]",
            "text/plain": [
              "<Figure size 432x288 with 1 Axes>"
            ]
          },
          "metadata": {
            "needs_background": "light"
          }
        }
      ]
    },
    {
      "cell_type": "code",
      "metadata": {
        "colab": {
          "base_uri": "https://localhost:8080/",
          "height": 300
        },
        "id": "le8GYes3exiZ",
        "outputId": "74f8c7f7-8581-498d-fb8e-e42fa64cd5ac"
      },
      "source": [
        "pd.crosstab(y_train,gb_labels)"
      ],
      "execution_count": 351,
      "outputs": [
        {
          "output_type": "execute_result",
          "data": {
            "text/html": [
              "<div>\n",
              "<style scoped>\n",
              "    .dataframe tbody tr th:only-of-type {\n",
              "        vertical-align: middle;\n",
              "    }\n",
              "\n",
              "    .dataframe tbody tr th {\n",
              "        vertical-align: top;\n",
              "    }\n",
              "\n",
              "    .dataframe thead th {\n",
              "        text-align: right;\n",
              "    }\n",
              "</style>\n",
              "<table border=\"1\" class=\"dataframe\">\n",
              "  <thead>\n",
              "    <tr style=\"text-align: right;\">\n",
              "      <th>col_0</th>\n",
              "      <th>0</th>\n",
              "      <th>1</th>\n",
              "      <th>2</th>\n",
              "      <th>3</th>\n",
              "      <th>4</th>\n",
              "      <th>5</th>\n",
              "      <th>6</th>\n",
              "    </tr>\n",
              "    <tr>\n",
              "      <th>class_labels</th>\n",
              "      <th></th>\n",
              "      <th></th>\n",
              "      <th></th>\n",
              "      <th></th>\n",
              "      <th></th>\n",
              "      <th></th>\n",
              "      <th></th>\n",
              "    </tr>\n",
              "  </thead>\n",
              "  <tbody>\n",
              "    <tr>\n",
              "      <th>0</th>\n",
              "      <td>99</td>\n",
              "      <td>0</td>\n",
              "      <td>15</td>\n",
              "      <td>4</td>\n",
              "      <td>31</td>\n",
              "      <td>1</td>\n",
              "      <td>0</td>\n",
              "    </tr>\n",
              "    <tr>\n",
              "      <th>1</th>\n",
              "      <td>9</td>\n",
              "      <td>89</td>\n",
              "      <td>36</td>\n",
              "      <td>10</td>\n",
              "      <td>6</td>\n",
              "      <td>0</td>\n",
              "      <td>0</td>\n",
              "    </tr>\n",
              "    <tr>\n",
              "      <th>2</th>\n",
              "      <td>0</td>\n",
              "      <td>31</td>\n",
              "      <td>104</td>\n",
              "      <td>9</td>\n",
              "      <td>2</td>\n",
              "      <td>3</td>\n",
              "      <td>0</td>\n",
              "    </tr>\n",
              "    <tr>\n",
              "      <th>3</th>\n",
              "      <td>2</td>\n",
              "      <td>2</td>\n",
              "      <td>14</td>\n",
              "      <td>111</td>\n",
              "      <td>6</td>\n",
              "      <td>14</td>\n",
              "      <td>0</td>\n",
              "    </tr>\n",
              "    <tr>\n",
              "      <th>4</th>\n",
              "      <td>15</td>\n",
              "      <td>0</td>\n",
              "      <td>0</td>\n",
              "      <td>0</td>\n",
              "      <td>135</td>\n",
              "      <td>0</td>\n",
              "      <td>0</td>\n",
              "    </tr>\n",
              "    <tr>\n",
              "      <th>5</th>\n",
              "      <td>11</td>\n",
              "      <td>1</td>\n",
              "      <td>27</td>\n",
              "      <td>63</td>\n",
              "      <td>4</td>\n",
              "      <td>44</td>\n",
              "      <td>0</td>\n",
              "    </tr>\n",
              "    <tr>\n",
              "      <th>6</th>\n",
              "      <td>7</td>\n",
              "      <td>0</td>\n",
              "      <td>0</td>\n",
              "      <td>0</td>\n",
              "      <td>1</td>\n",
              "      <td>0</td>\n",
              "      <td>142</td>\n",
              "    </tr>\n",
              "  </tbody>\n",
              "</table>\n",
              "</div>"
            ],
            "text/plain": [
              "col_0          0   1    2    3    4   5    6\n",
              "class_labels                                \n",
              "0             99   0   15    4   31   1    0\n",
              "1              9  89   36   10    6   0    0\n",
              "2              0  31  104    9    2   3    0\n",
              "3              2   2   14  111    6  14    0\n",
              "4             15   0    0    0  135   0    0\n",
              "5             11   1   27   63    4  44    0\n",
              "6              7   0    0    0    1   0  142"
            ]
          },
          "metadata": {},
          "execution_count": 351
        }
      ]
    },
    {
      "cell_type": "code",
      "metadata": {
        "id": "eNPhzLlJlm-Z"
      },
      "source": [
        "from sklearn.feature_extraction.text import TfidfVectorizer\n",
        "\n",
        "tfidf_vectorizer = TfidfVectorizer(analyzer='word', token_pattern=r'\\w+',stop_words=stopword_list)\n",
        "\n",
        "tfidf = dict()\n",
        "tfidf[\"train\"] = (tfidf_vectorizer.fit_transform(X_train), y_train)\n",
        "#tfidf[\"test\"]  = (tfidf_vectorizer.transform(X_test), y_test)"
      ],
      "execution_count": 352,
      "outputs": []
    },
    {
      "cell_type": "code",
      "metadata": {
        "id": "Ctmojs2irIaD"
      },
      "source": [
        "from sklearn.naive_bayes import MultinomialNB\n",
        "nb_classifier = MultinomialNB()"
      ],
      "execution_count": 353,
      "outputs": []
    },
    {
      "cell_type": "code",
      "metadata": {
        "id": "9y8DovnvrhFy",
        "colab": {
          "base_uri": "https://localhost:8080/"
        },
        "outputId": "e0e3d526-d61c-4587-a733-6d61baa9eada"
      },
      "source": [
        "nb_classifier.fit(*bow[\"train\"])"
      ],
      "execution_count": 354,
      "outputs": [
        {
          "output_type": "execute_result",
          "data": {
            "text/plain": [
              "MultinomialNB()"
            ]
          },
          "metadata": {},
          "execution_count": 354
        }
      ]
    },
    {
      "cell_type": "code",
      "metadata": {
        "id": "Lf_tL5NHrmJH",
        "colab": {
          "base_uri": "https://localhost:8080/"
        },
        "outputId": "49c85312-6ed6-4068-e803-a9007d648c9c"
      },
      "source": [
        "from sklearn.model_selection import cross_val_score\n",
        "cross_val_score(nb_classifier, *bow[\"train\"], cv=5, scoring='accuracy')"
      ],
      "execution_count": 355,
      "outputs": [
        {
          "output_type": "execute_result",
          "data": {
            "text/plain": [
              "array([0.81428571, 0.83333333, 0.89047619, 0.66507177, 0.76555024])"
            ]
          },
          "metadata": {},
          "execution_count": 355
        }
      ]
    },
    {
      "cell_type": "code",
      "metadata": {
        "id": "bkCW9QHABuPG",
        "colab": {
          "base_uri": "https://localhost:8080/"
        },
        "outputId": "02780c6f-6aeb-4c00-bc25-03710ad05b3b"
      },
      "source": [
        "nb_classifier_tfidf = MultinomialNB()\n",
        "nb_classifier_tfidf.fit(*tfidf[\"train\"])\n",
        "cross_val_score(nb_classifier_tfidf, *tfidf[\"train\"], cv=5, scoring='accuracy')"
      ],
      "execution_count": 356,
      "outputs": [
        {
          "output_type": "execute_result",
          "data": {
            "text/plain": [
              "array([0.94285714, 0.96666667, 0.9       , 0.6937799 , 0.78947368])"
            ]
          },
          "metadata": {},
          "execution_count": 356
        }
      ]
    },
    {
      "cell_type": "code",
      "metadata": {
        "id": "E4QoOOsgsQmy"
      },
      "source": [
        "#concat tfidf et vector_count\n",
        "#kmeans pour retrouver les cat\n",
        "#tsne pour reduc_dimension\n",
        "#commencer le traitement d'image"
      ],
      "execution_count": 357,
      "outputs": []
    },
    {
      "cell_type": "markdown",
      "metadata": {
        "id": "A0VP1KeRUH-z"
      },
      "source": [
        "Implémentation Kmeans\n"
      ]
    },
    {
      "cell_type": "code",
      "metadata": {
        "id": "g6f6Bh-7UHU2"
      },
      "source": [
        "from sklearn.cluster import KMeans\n",
        "kmeans = KMeans()"
      ],
      "execution_count": 358,
      "outputs": []
    },
    {
      "cell_type": "code",
      "metadata": {
        "id": "1onJfVSbULuN"
      },
      "source": [
        "kmeans= KMeans(n_clusters=df1_test.categories.nunique()).fit(X_tsne)"
      ],
      "execution_count": 359,
      "outputs": []
    },
    {
      "cell_type": "code",
      "metadata": {
        "id": "OJkApp1zUn50",
        "colab": {
          "base_uri": "https://localhost:8080/",
          "height": 300
        },
        "outputId": "4b15f296-1d95-4dfd-f4ab-fd6fba3405a6"
      },
      "source": [
        "pd.crosstab(index=y_train, columns=kmeans.labels_)"
      ],
      "execution_count": 360,
      "outputs": [
        {
          "output_type": "execute_result",
          "data": {
            "text/html": [
              "<div>\n",
              "<style scoped>\n",
              "    .dataframe tbody tr th:only-of-type {\n",
              "        vertical-align: middle;\n",
              "    }\n",
              "\n",
              "    .dataframe tbody tr th {\n",
              "        vertical-align: top;\n",
              "    }\n",
              "\n",
              "    .dataframe thead th {\n",
              "        text-align: right;\n",
              "    }\n",
              "</style>\n",
              "<table border=\"1\" class=\"dataframe\">\n",
              "  <thead>\n",
              "    <tr style=\"text-align: right;\">\n",
              "      <th>col_0</th>\n",
              "      <th>0</th>\n",
              "      <th>1</th>\n",
              "      <th>2</th>\n",
              "      <th>3</th>\n",
              "      <th>4</th>\n",
              "      <th>5</th>\n",
              "      <th>6</th>\n",
              "    </tr>\n",
              "    <tr>\n",
              "      <th>class_labels</th>\n",
              "      <th></th>\n",
              "      <th></th>\n",
              "      <th></th>\n",
              "      <th></th>\n",
              "      <th></th>\n",
              "      <th></th>\n",
              "      <th></th>\n",
              "    </tr>\n",
              "  </thead>\n",
              "  <tbody>\n",
              "    <tr>\n",
              "      <th>0</th>\n",
              "      <td>0</td>\n",
              "      <td>34</td>\n",
              "      <td>0</td>\n",
              "      <td>88</td>\n",
              "      <td>17</td>\n",
              "      <td>10</td>\n",
              "      <td>1</td>\n",
              "    </tr>\n",
              "    <tr>\n",
              "      <th>1</th>\n",
              "      <td>0</td>\n",
              "      <td>30</td>\n",
              "      <td>87</td>\n",
              "      <td>0</td>\n",
              "      <td>30</td>\n",
              "      <td>2</td>\n",
              "      <td>1</td>\n",
              "    </tr>\n",
              "    <tr>\n",
              "      <th>2</th>\n",
              "      <td>0</td>\n",
              "      <td>11</td>\n",
              "      <td>19</td>\n",
              "      <td>0</td>\n",
              "      <td>114</td>\n",
              "      <td>3</td>\n",
              "      <td>2</td>\n",
              "    </tr>\n",
              "    <tr>\n",
              "      <th>3</th>\n",
              "      <td>0</td>\n",
              "      <td>18</td>\n",
              "      <td>1</td>\n",
              "      <td>0</td>\n",
              "      <td>15</td>\n",
              "      <td>18</td>\n",
              "      <td>97</td>\n",
              "    </tr>\n",
              "    <tr>\n",
              "      <th>4</th>\n",
              "      <td>0</td>\n",
              "      <td>59</td>\n",
              "      <td>0</td>\n",
              "      <td>8</td>\n",
              "      <td>0</td>\n",
              "      <td>83</td>\n",
              "      <td>0</td>\n",
              "    </tr>\n",
              "    <tr>\n",
              "      <th>5</th>\n",
              "      <td>0</td>\n",
              "      <td>28</td>\n",
              "      <td>0</td>\n",
              "      <td>26</td>\n",
              "      <td>36</td>\n",
              "      <td>28</td>\n",
              "      <td>32</td>\n",
              "    </tr>\n",
              "    <tr>\n",
              "      <th>6</th>\n",
              "      <td>149</td>\n",
              "      <td>1</td>\n",
              "      <td>0</td>\n",
              "      <td>0</td>\n",
              "      <td>0</td>\n",
              "      <td>0</td>\n",
              "      <td>0</td>\n",
              "    </tr>\n",
              "  </tbody>\n",
              "</table>\n",
              "</div>"
            ],
            "text/plain": [
              "col_0           0   1   2   3    4   5   6\n",
              "class_labels                              \n",
              "0               0  34   0  88   17  10   1\n",
              "1               0  30  87   0   30   2   1\n",
              "2               0  11  19   0  114   3   2\n",
              "3               0  18   1   0   15  18  97\n",
              "4               0  59   0   8    0  83   0\n",
              "5               0  28   0  26   36  28  32\n",
              "6             149   1   0   0    0   0   0"
            ]
          },
          "metadata": {},
          "execution_count": 360
        }
      ]
    },
    {
      "cell_type": "code",
      "metadata": {
        "id": "Yv4dhD5kVjx_"
      },
      "source": [
        ""
      ],
      "execution_count": 360,
      "outputs": []
    }
  ]
}