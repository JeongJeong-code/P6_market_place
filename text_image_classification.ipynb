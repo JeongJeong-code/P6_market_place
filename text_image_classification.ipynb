{
  "nbformat": 4,
  "nbformat_minor": 0,
  "metadata": {
    "colab": {
      "name": "text_image_classification.ipynb",
      "provenance": [],
      "collapsed_sections": [],
      "authorship_tag": "ABX9TyNoceyvXtsuqsi3EUJ1D/JD",
      "include_colab_link": true
    },
    "kernelspec": {
      "name": "python3",
      "display_name": "Python 3"
    },
    "language_info": {
      "name": "python"
    }
  },
  "cells": [
    {
      "cell_type": "markdown",
      "metadata": {
        "id": "view-in-github",
        "colab_type": "text"
      },
      "source": [
        "<a href=\"https://colab.research.google.com/github/JeongJeong-code/P6_market_place/blob/main/text_image_classification.ipynb\" target=\"_parent\"><img src=\"https://colab.research.google.com/assets/colab-badge.svg\" alt=\"Open In Colab\"/></a>"
      ]
    },
    {
      "cell_type": "code",
      "metadata": {
        "colab": {
          "base_uri": "https://localhost:8080/"
        },
        "id": "swm-HL5HhbeE",
        "outputId": "106e4a6d-951d-43ec-c890-09a6a3d29eae"
      },
      "source": [
        "import sys\n",
        "import numpy as np\n",
        "import matplotlib.pyplot as plt\n",
        "from enum import Enum\n",
        "from google.colab import files\n",
        "import pandas as pd\n",
        "import seaborn as sns\n",
        "import os.path\n",
        "import missingno as mi\n",
        "import re\n",
        "import sklearn as sk\n",
        "from mpl_toolkits.mplot3d import Axes3D\n",
        "from sklearn.preprocessing import StandardScaler\n",
        "from sklearn.decomposition import PCA\n",
        "from sklearn.metrics.cluster import adjusted_rand_score\n",
        "import statsmodels.api as sm\n",
        "from statsmodels.formula.api import ols\n",
        "from sklearn.preprocessing import StandardScaler\n",
        "from sklearn.preprocessing import OneHotEncoder\n",
        "from sklearn.compose import make_column_transformer\n",
        "from sklearn.manifold import TSNE\n",
        "from sklearn.metrics.cluster import homogeneity_score\n",
        "from sklearn.decomposition import KernelPCA\n",
        "from sklearn.cluster import (AgglomerativeClustering,\n",
        "                             KMeans, DBSCAN, SpectralClustering)\n",
        "from sklearn.metrics import davies_bouldin_score, silhouette_score\n",
        "! {sys.executable} -m pip install ipynb\n",
        "\n",
        "import cv2 as cv\n",
        "from tqdm import tqdm"
      ],
      "execution_count": 389,
      "outputs": [
        {
          "output_type": "stream",
          "name": "stdout",
          "text": [
            "Requirement already satisfied: ipynb in /usr/local/lib/python3.7/dist-packages (0.5.1)\n"
          ]
        }
      ]
    },
    {
      "cell_type": "code",
      "metadata": {
        "id": "wHwcv6RcrBew",
        "colab": {
          "base_uri": "https://localhost:8080/"
        },
        "outputId": "caae9761-d141-4a3d-8197-a05dada6389e"
      },
      "source": [
        "from google.colab import drive\n",
        "drive.mount('/content/drive')"
      ],
      "execution_count": 390,
      "outputs": [
        {
          "output_type": "stream",
          "name": "stdout",
          "text": [
            "Drive already mounted at /content/drive; to attempt to forcibly remount, call drive.mount(\"/content/drive\", force_remount=True).\n"
          ]
        }
      ]
    },
    {
      "cell_type": "code",
      "metadata": {
        "colab": {
          "base_uri": "https://localhost:8080/"
        },
        "id": "x8aLtI58hdrl",
        "outputId": "e4fbd91d-2a09-453f-8e99-4bec23a1fe65"
      },
      "source": [
        "import nltk\n",
        "nltk.download('punkt')\n",
        "nltk.download('stopwords')\n",
        "nltk.download('wordnet')"
      ],
      "execution_count": 391,
      "outputs": [
        {
          "output_type": "stream",
          "name": "stdout",
          "text": [
            "[nltk_data] Downloading package punkt to /root/nltk_data...\n",
            "[nltk_data]   Package punkt is already up-to-date!\n",
            "[nltk_data] Downloading package stopwords to /root/nltk_data...\n",
            "[nltk_data]   Package stopwords is already up-to-date!\n",
            "[nltk_data] Downloading package wordnet to /root/nltk_data...\n",
            "[nltk_data]   Package wordnet is already up-to-date!\n"
          ]
        },
        {
          "output_type": "execute_result",
          "data": {
            "text/plain": [
              "True"
            ]
          },
          "metadata": {},
          "execution_count": 391
        }
      ]
    },
    {
      "cell_type": "code",
      "metadata": {
        "id": "S--MLIzxhfTs",
        "colab": {
          "base_uri": "https://localhost:8080/"
        },
        "outputId": "8b971e76-0c9c-4297-af60-7e8f739c1bb1"
      },
      "source": [
        "url = 'https://raw.githubusercontent.com/JeongJeong-code/P6_market_place/main/df_cat_prime.csv'\n",
        "df1_test= pd.read_csv(url)\n",
        "print(len(df1_test))\n",
        "df1_test =df1_test[df1_test['image'] !='9743e6d1c9f3180483825fe4d2e97836.jpg']\n",
        "print(len(df1_test))\n",
        "df1_test.reset_index(inplace=True,drop=True)"
      ],
      "execution_count": 392,
      "outputs": [
        {
          "output_type": "stream",
          "name": "stdout",
          "text": [
            "1049\n",
            "1048\n"
          ]
        }
      ]
    },
    {
      "cell_type": "code",
      "metadata": {
        "id": "yd7HOkJkhhal"
      },
      "source": [
        "from sklearn.feature_extraction.text import TfidfVectorizer\n",
        "from sklearn.feature_extraction.text import CountVectorizer\n",
        "import nltk.stem as stem\n",
        "import string"
      ],
      "execution_count": 393,
      "outputs": []
    },
    {
      "cell_type": "code",
      "metadata": {
        "colab": {
          "base_uri": "https://localhost:8080/"
        },
        "id": "UmPqQNnnqHsH",
        "outputId": "6ce95d0c-0d9f-4c67-d303-40acdb81e350"
      },
      "source": [
        "df1_test.iloc[343]"
      ],
      "execution_count": 394,
      "outputs": [
        {
          "output_type": "execute_result",
          "data": {
            "text/plain": [
              "Unnamed: 0                                                              344\n",
              "product_name                   Anna Andre Paris Majesty Deodorant Combo Set\n",
              "image                                  6e44d107ee32412243b19b0ed9b415f3.jpg\n",
              "product_specifications    {\"product_specification\"=>[{\"key\"=>\"Number of ...\n",
              "categories                                         beauty and personal care\n",
              "description               flipkart anna andre paris majesty deodorant co...\n",
              "Name: 343, dtype: object"
            ]
          },
          "metadata": {},
          "execution_count": 394
        }
      ]
    },
    {
      "cell_type": "code",
      "metadata": {
        "colab": {
          "base_uri": "https://localhost:8080/"
        },
        "id": "-gvMCILgpW9M",
        "outputId": "31234e4d-be68-4c03-f993-9de7e68ea46f"
      },
      "source": [
        "df1_test.info()"
      ],
      "execution_count": 395,
      "outputs": [
        {
          "output_type": "stream",
          "name": "stdout",
          "text": [
            "<class 'pandas.core.frame.DataFrame'>\n",
            "RangeIndex: 1048 entries, 0 to 1047\n",
            "Data columns (total 6 columns):\n",
            " #   Column                  Non-Null Count  Dtype \n",
            "---  ------                  --------------  ----- \n",
            " 0   Unnamed: 0              1048 non-null   int64 \n",
            " 1   product_name            1048 non-null   object\n",
            " 2   image                   1048 non-null   object\n",
            " 3   product_specifications  1048 non-null   object\n",
            " 4   categories              1048 non-null   object\n",
            " 5   description             1048 non-null   object\n",
            "dtypes: int64(1), object(5)\n",
            "memory usage: 49.2+ KB\n"
          ]
        }
      ]
    },
    {
      "cell_type": "code",
      "metadata": {
        "colab": {
          "base_uri": "https://localhost:8080/"
        },
        "id": "3qabwQfB_eD0",
        "outputId": "c045fe67-c339-4fb4-e867-163660b37a7e"
      },
      "source": [
        "lemma=1\n",
        "from nltk.tokenize import word_tokenize\n",
        "from nltk.stem import WordNetLemmatizer\n",
        "stemmer = stem.PorterStemmer()\n",
        "lemmatizer = stem.WordNetLemmatizer()\n",
        "for i in range(len(df1_test)):\n",
        "  df1_test.description[i] = nltk.word_tokenize(df1_test.description[i])\n",
        "  if lemma ==1:\n",
        "      df1_test.description[i] = [lemmatizer.lemmatize(t) for t in df1_test.description[i]]\n",
        "  else :\n",
        "      df1_test.description[i] = [stemmer.stem(t) for t in df1_test.description[i]]\n",
        "\n",
        "  df1_test.description[i] = \" \".join(df1_test.description[i])"
      ],
      "execution_count": 396,
      "outputs": [
        {
          "output_type": "stream",
          "name": "stderr",
          "text": [
            "/usr/local/lib/python3.7/dist-packages/ipykernel_launcher.py:9: SettingWithCopyWarning: \n",
            "A value is trying to be set on a copy of a slice from a DataFrame\n",
            "\n",
            "See the caveats in the documentation: https://pandas.pydata.org/pandas-docs/stable/user_guide/indexing.html#returning-a-view-versus-a-copy\n",
            "  if __name__ == '__main__':\n",
            "/usr/local/lib/python3.7/dist-packages/ipykernel_launcher.py:13: SettingWithCopyWarning: \n",
            "A value is trying to be set on a copy of a slice from a DataFrame\n",
            "\n",
            "See the caveats in the documentation: https://pandas.pydata.org/pandas-docs/stable/user_guide/indexing.html#returning-a-view-versus-a-copy\n",
            "  del sys.path[0]\n",
            "/usr/local/lib/python3.7/dist-packages/ipykernel_launcher.py:7: SettingWithCopyWarning: \n",
            "A value is trying to be set on a copy of a slice from a DataFrame\n",
            "\n",
            "See the caveats in the documentation: https://pandas.pydata.org/pandas-docs/stable/user_guide/indexing.html#returning-a-view-versus-a-copy\n",
            "  import sys\n"
          ]
        }
      ]
    },
    {
      "cell_type": "code",
      "metadata": {
        "id": "gm9yRAUGiTM2"
      },
      "source": [
        "from nltk.tokenize import RegexpTokenizer\n",
        "\n",
        "tokenizer = RegexpTokenizer(r'\\w+')\n",
        "tokenize_desc = pd.Series(df1_test.description.str.lower().apply(tokenizer.tokenize),name ='tokenize_desc')"
      ],
      "execution_count": 397,
      "outputs": []
    },
    {
      "cell_type": "code",
      "metadata": {
        "id": "hMdR9zDOicJR"
      },
      "source": [
        "all_words = [word for tokens in tokenize_desc for word in tokens]\n",
        "from collections import Counter\n",
        "count_all_words = Counter(all_words)\n",
        "most_common_words= [word for word, word_count in count_all_words.most_common(20)]"
      ],
      "execution_count": 398,
      "outputs": []
    },
    {
      "cell_type": "code",
      "metadata": {
        "id": "fh9xEv1Ciwh1"
      },
      "source": [
        "stopword_list  = nltk.corpus.stopwords.words('english') + most_common_words\n"
      ],
      "execution_count": 399,
      "outputs": []
    },
    {
      "cell_type": "code",
      "metadata": {
        "colab": {
          "base_uri": "https://localhost:8080/"
        },
        "id": "jXRKwrDBPdPV",
        "outputId": "801bd6d0-b841-42c4-f59e-1d2bd4f4bd73"
      },
      "source": [
        "stopword_list"
      ],
      "execution_count": 400,
      "outputs": [
        {
          "output_type": "execute_result",
          "data": {
            "text/plain": [
              "['i',\n",
              " 'me',\n",
              " 'my',\n",
              " 'myself',\n",
              " 'we',\n",
              " 'our',\n",
              " 'ours',\n",
              " 'ourselves',\n",
              " 'you',\n",
              " \"you're\",\n",
              " \"you've\",\n",
              " \"you'll\",\n",
              " \"you'd\",\n",
              " 'your',\n",
              " 'yours',\n",
              " 'yourself',\n",
              " 'yourselves',\n",
              " 'he',\n",
              " 'him',\n",
              " 'his',\n",
              " 'himself',\n",
              " 'she',\n",
              " \"she's\",\n",
              " 'her',\n",
              " 'hers',\n",
              " 'herself',\n",
              " 'it',\n",
              " \"it's\",\n",
              " 'its',\n",
              " 'itself',\n",
              " 'they',\n",
              " 'them',\n",
              " 'their',\n",
              " 'theirs',\n",
              " 'themselves',\n",
              " 'what',\n",
              " 'which',\n",
              " 'who',\n",
              " 'whom',\n",
              " 'this',\n",
              " 'that',\n",
              " \"that'll\",\n",
              " 'these',\n",
              " 'those',\n",
              " 'am',\n",
              " 'is',\n",
              " 'are',\n",
              " 'was',\n",
              " 'were',\n",
              " 'be',\n",
              " 'been',\n",
              " 'being',\n",
              " 'have',\n",
              " 'has',\n",
              " 'had',\n",
              " 'having',\n",
              " 'do',\n",
              " 'does',\n",
              " 'did',\n",
              " 'doing',\n",
              " 'a',\n",
              " 'an',\n",
              " 'the',\n",
              " 'and',\n",
              " 'but',\n",
              " 'if',\n",
              " 'or',\n",
              " 'because',\n",
              " 'as',\n",
              " 'until',\n",
              " 'while',\n",
              " 'of',\n",
              " 'at',\n",
              " 'by',\n",
              " 'for',\n",
              " 'with',\n",
              " 'about',\n",
              " 'against',\n",
              " 'between',\n",
              " 'into',\n",
              " 'through',\n",
              " 'during',\n",
              " 'before',\n",
              " 'after',\n",
              " 'above',\n",
              " 'below',\n",
              " 'to',\n",
              " 'from',\n",
              " 'up',\n",
              " 'down',\n",
              " 'in',\n",
              " 'out',\n",
              " 'on',\n",
              " 'off',\n",
              " 'over',\n",
              " 'under',\n",
              " 'again',\n",
              " 'further',\n",
              " 'then',\n",
              " 'once',\n",
              " 'here',\n",
              " 'there',\n",
              " 'when',\n",
              " 'where',\n",
              " 'why',\n",
              " 'how',\n",
              " 'all',\n",
              " 'any',\n",
              " 'both',\n",
              " 'each',\n",
              " 'few',\n",
              " 'more',\n",
              " 'most',\n",
              " 'other',\n",
              " 'some',\n",
              " 'such',\n",
              " 'no',\n",
              " 'nor',\n",
              " 'not',\n",
              " 'only',\n",
              " 'own',\n",
              " 'same',\n",
              " 'so',\n",
              " 'than',\n",
              " 'too',\n",
              " 'very',\n",
              " 's',\n",
              " 't',\n",
              " 'can',\n",
              " 'will',\n",
              " 'just',\n",
              " 'don',\n",
              " \"don't\",\n",
              " 'should',\n",
              " \"should've\",\n",
              " 'now',\n",
              " 'd',\n",
              " 'll',\n",
              " 'm',\n",
              " 'o',\n",
              " 're',\n",
              " 've',\n",
              " 'y',\n",
              " 'ain',\n",
              " 'aren',\n",
              " \"aren't\",\n",
              " 'couldn',\n",
              " \"couldn't\",\n",
              " 'didn',\n",
              " \"didn't\",\n",
              " 'doesn',\n",
              " \"doesn't\",\n",
              " 'hadn',\n",
              " \"hadn't\",\n",
              " 'hasn',\n",
              " \"hasn't\",\n",
              " 'haven',\n",
              " \"haven't\",\n",
              " 'isn',\n",
              " \"isn't\",\n",
              " 'ma',\n",
              " 'mightn',\n",
              " \"mightn't\",\n",
              " 'mustn',\n",
              " \"mustn't\",\n",
              " 'needn',\n",
              " \"needn't\",\n",
              " 'shan',\n",
              " \"shan't\",\n",
              " 'shouldn',\n",
              " \"shouldn't\",\n",
              " 'wasn',\n",
              " \"wasn't\",\n",
              " 'weren',\n",
              " \"weren't\",\n",
              " 'won',\n",
              " \"won't\",\n",
              " 'wouldn',\n",
              " \"wouldn't\",\n",
              " 'only',\n",
              " 'product',\n",
              " 'with',\n",
              " 'your',\n",
              " 'free',\n",
              " 'delivery',\n",
              " 'genuine',\n",
              " 'shipping',\n",
              " 'cash',\n",
              " 'price',\n",
              " 'replacement',\n",
              " 'flipkart',\n",
              " 'guarantee',\n",
              " 'this',\n",
              " 'feature',\n",
              " 'online',\n",
              " 'from',\n",
              " 'specification',\n",
              " 'color',\n",
              " 'watch']"
            ]
          },
          "metadata": {},
          "execution_count": 400
        }
      ]
    },
    {
      "cell_type": "code",
      "metadata": {
        "id": "SeWFg7J8jScq"
      },
      "source": [
        "from sklearn import preprocessing\n",
        "le = preprocessing.LabelEncoder()\n",
        "y = pd.Series(le.fit_transform(df1_test.categories),name='class_labels')"
      ],
      "execution_count": 401,
      "outputs": []
    },
    {
      "cell_type": "code",
      "metadata": {
        "id": "v4rdo5P7oq5k"
      },
      "source": [
        ""
      ],
      "execution_count": 401,
      "outputs": []
    },
    {
      "cell_type": "code",
      "metadata": {
        "id": "o8FFLp9Wjkiu"
      },
      "source": [
        "list_labels = y\n",
        "list_tokens = tokenize_desc"
      ],
      "execution_count": 402,
      "outputs": []
    },
    {
      "cell_type": "code",
      "metadata": {
        "colab": {
          "base_uri": "https://localhost:8080/"
        },
        "id": "U6PDb0ZzkKSU",
        "outputId": "6c5476c9-df54-421b-9aa4-3d22481cc0fc"
      },
      "source": [
        "list_tokens"
      ],
      "execution_count": 403,
      "outputs": [
        {
          "output_type": "execute_result",
          "data": {
            "text/plain": [
              "0       [feature, elegance, polyester, multicolor, abs...\n",
              "1       [specification, sathiyas, cotton, bath, towel,...\n",
              "2       [feature, eurospa, cotton, terry, face, towel,...\n",
              "3       [feature, santosh, royal, fashion, cotton, pri...\n",
              "4       [feature, jaipur, print, cotton, floral, king,...\n",
              "                              ...                        \n",
              "1043    [oren, empower, extra, large, self, adhesive, ...\n",
              "1044    [wallmantra, large, vinyl, sticker, sticker, p...\n",
              "1045    [uberlyfe, extra, large, pigmented, polyvinyl,...\n",
              "1046    [wallmantra, medium, vinyl, sticker, sticker, ...\n",
              "1047    [uberlyfe, large, vinyl, sticker, online, uber...\n",
              "Name: tokenize_desc, Length: 1048, dtype: object"
            ]
          },
          "metadata": {},
          "execution_count": 403
        }
      ]
    },
    {
      "cell_type": "code",
      "metadata": {
        "id": "cPJbC2-skiCg"
      },
      "source": [
        "from sklearn.model_selection import train_test_split\n",
        "#X_train,X_test,y_train,y_test = train_test_split(df1_test.description,y, test_size=0.1, random_state=40)\n",
        "X_train =df1_test.description\n",
        "y_train = y"
      ],
      "execution_count": 404,
      "outputs": []
    },
    {
      "cell_type": "code",
      "metadata": {
        "id": "0ooaiubzms9F"
      },
      "source": [
        "img_path = \"/content/drive/MyDrive/P6_market_place/Images\"\n",
        "train = df1_test\n",
        "labels = train.categories.unique()\n",
        "\n",
        "dico = []\n",
        "prob = []\n",
        "for leaf in train.image:\n",
        "    img = cv.imread(img_path +'/'+ str(leaf),cv.IMREAD_GRAYSCALE)\n",
        "    orb = cv.ORB_create()\n",
        "    kp = orb.detect(img,None)\n",
        "\n",
        "    kp, des = orb.compute(img, kp)\n",
        "    if len(kp)==0:\n",
        "      prob.append(leaf)\n",
        "      des= []\n",
        "    \n",
        "\n",
        "\n",
        "    for d in des:\n",
        "      dico.append(d)"
      ],
      "execution_count": 405,
      "outputs": []
    },
    {
      "cell_type": "code",
      "metadata": {
        "id": "WN4VXyBsms0q",
        "colab": {
          "base_uri": "https://localhost:8080/"
        },
        "outputId": "97f04b23-5122-4d59-d664-9514a6f3de85"
      },
      "source": [
        "from sklearn.cluster import MiniBatchKMeans\n",
        "from sklearn.neural_network import MLPClassifier\n",
        "k = np.size(labels) * 10\n",
        "\n",
        "batch_size = np.size(os.listdir(img_path)) * 3\n",
        "kmeans = MiniBatchKMeans(n_clusters=k, batch_size=batch_size, verbose=1).fit(dico)\n"
      ],
      "execution_count": 406,
      "outputs": [
        {
          "output_type": "stream",
          "name": "stdout",
          "text": [
            "Init 1/3 with method k-means++\n",
            "Inertia for init 1/3: 1412442297.0\n",
            "Init 2/3 with method k-means++\n",
            "Inertia for init 2/3: 1415223899.0\n",
            "Init 3/3 with method k-means++\n",
            "Inertia for init 3/3: 1400604911.0\n",
            "Minibatch step 1/15982: mean batch inertia: 147224.30444444445\n",
            "Minibatch step 2/15982: mean batch inertia: 111958.69299346897, ewa inertia: 111958.69299346897\n",
            "Minibatch step 3/15982: mean batch inertia: 110366.15329476718, ewa inertia: 111938.76418319525\n",
            "Minibatch step 4/15982: mean batch inertia: 109571.32032723623, ewa inertia: 111909.13833494947\n",
            "Minibatch step 5/15982: mean batch inertia: 109106.50950080421, ewa inertia: 111874.0666451518\n",
            "Minibatch step 6/15982: mean batch inertia: 108974.26627744146, ewa inertia: 111837.77896490943\n",
            "Minibatch step 7/15982: mean batch inertia: 109433.79549209586, ewa inertia: 111807.6958652103\n",
            "Minibatch step 8/15982: mean batch inertia: 108011.87409883366, ewa inertia: 111760.19550344435\n",
            "Minibatch step 9/15982: mean batch inertia: 108755.3279449601, ewa inertia: 111722.59302765082\n",
            "Minibatch step 10/15982: mean batch inertia: 108358.61393820464, ewa inertia: 111680.49668236474\n",
            "Minibatch step 11/15982: mean batch inertia: 107871.52156121146, ewa inertia: 111632.83172142928\n",
            "Minibatch step 12/15982: mean batch inertia: 108670.83881862629, ewa inertia: 111595.76577284401\n",
            "Minibatch step 13/15982: mean batch inertia: 107134.32476972244, ewa inertia: 111539.93594871399\n",
            "Minibatch step 14/15982: mean batch inertia: 106473.98368343018, ewa inertia: 111476.54135853023\n",
            "Minibatch step 15/15982: mean batch inertia: 108637.12848790895, ewa inertia: 111441.0093586476\n",
            "Minibatch step 16/15982: mean batch inertia: 108158.71990171965, ewa inertia: 111399.9352655472\n",
            "Minibatch step 17/15982: mean batch inertia: 108401.057484584, ewa inertia: 111362.4077449588\n",
            "Minibatch step 18/15982: mean batch inertia: 107257.84142596537, ewa inertia: 111311.0437987452\n",
            "Minibatch step 19/15982: mean batch inertia: 108553.07349377553, ewa inertia: 111276.5309592894\n",
            "Minibatch step 20/15982: mean batch inertia: 108048.50539709222, ewa inertia: 111236.13591667904\n",
            "Minibatch step 21/15982: mean batch inertia: 107341.00379111964, ewa inertia: 111187.39279951552\n",
            "Minibatch step 22/15982: mean batch inertia: 107485.30014675284, ewa inertia: 111141.06535025145\n",
            "Minibatch step 23/15982: mean batch inertia: 106872.29465102745, ewa inertia: 111087.64657429491\n",
            "Minibatch step 24/15982: mean batch inertia: 106920.66666238398, ewa inertia: 111035.50159345294\n",
            "Minibatch step 25/15982: mean batch inertia: 108472.09171572159, ewa inertia: 111003.42345489933\n",
            "Minibatch step 26/15982: mean batch inertia: 106800.23134315133, ewa inertia: 110950.82531985296\n",
            "Minibatch step 27/15982: mean batch inertia: 108082.94924217169, ewa inertia: 110914.93713553502\n",
            "Minibatch step 28/15982: mean batch inertia: 107527.60945635138, ewa inertia: 110872.54860939126\n",
            "Minibatch step 29/15982: mean batch inertia: 108261.44944482429, ewa inertia: 110839.87369403504\n",
            "Minibatch step 30/15982: mean batch inertia: 107596.75096932847, ewa inertia: 110799.2897277278\n",
            "Minibatch step 31/15982: mean batch inertia: 106911.80002532838, ewa inertia: 110750.64224673671\n",
            "Minibatch step 32/15982: mean batch inertia: 106394.9507807393, ewa inertia: 110696.13575694089\n",
            "Minibatch step 33/15982: mean batch inertia: 106580.19216047187, ewa inertia: 110644.62943713093\n",
            "Minibatch step 34/15982: mean batch inertia: 106475.01241289794, ewa inertia: 110592.45145584873\n",
            "Minibatch step 35/15982: mean batch inertia: 107852.32474231004, ewa inertia: 110558.16190850206\n",
            "Minibatch step 36/15982: mean batch inertia: 107789.77500778853, ewa inertia: 110523.51871728143\n",
            "Minibatch step 37/15982: mean batch inertia: 107330.68619530523, ewa inertia: 110483.5640752602\n",
            "Minibatch step 38/15982: mean batch inertia: 107073.87822631013, ewa inertia: 110440.89576223033\n",
            "Minibatch step 39/15982: mean batch inertia: 108286.15791295517, ewa inertia: 110413.93168603002\n",
            "Minibatch step 40/15982: mean batch inertia: 107171.79529360955, ewa inertia: 110373.36006254161\n",
            "Minibatch step 41/15982: mean batch inertia: 107707.26582727605, ewa inertia: 110339.99694686558\n",
            "Minibatch step 42/15982: mean batch inertia: 107797.30230414774, ewa inertia: 110308.17803575144\n",
            "Minibatch step 43/15982: mean batch inertia: 107167.29070755273, ewa inertia: 110268.8734283336\n",
            "Minibatch step 44/15982: mean batch inertia: 108204.43720721862, ewa inertia: 110243.03937358047\n",
            "Minibatch step 45/15982: mean batch inertia: 107319.8192495572, ewa inertia: 110206.45862191224\n",
            "Minibatch step 46/15982: mean batch inertia: 106811.02471124471, ewa inertia: 110163.96865556616\n",
            "Minibatch step 47/15982: mean batch inertia: 107377.65492711667, ewa inertia: 110129.10113062937\n",
            "Minibatch step 48/15982: mean batch inertia: 105946.46558293418, ewa inertia: 110076.76023743713\n",
            "Minibatch step 49/15982: mean batch inertia: 106820.99108605669, ewa inertia: 110036.01801558497\n",
            "Minibatch step 50/15982: mean batch inertia: 107584.41166643078, ewa inertia: 110005.3389701345\n",
            "Minibatch step 51/15982: mean batch inertia: 107066.45364649394, ewa inertia: 109968.5621864356\n",
            "Minibatch step 52/15982: mean batch inertia: 106000.68485995696, ewa inertia: 109918.90874640316\n",
            "Minibatch step 53/15982: mean batch inertia: 107042.4740931056, ewa inertia: 109882.91346131417\n",
            "Minibatch step 54/15982: mean batch inertia: 106680.38556173859, ewa inertia: 109842.83749274713\n",
            "Minibatch step 55/15982: mean batch inertia: 107215.2470310513, ewa inertia: 109809.95620769606\n",
            "Minibatch step 56/15982: mean batch inertia: 107186.02041494017, ewa inertia: 109777.1206566408\n",
            "Minibatch step 57/15982: mean batch inertia: 107280.91577619572, ewa inertia: 109745.88351165327\n",
            "Minibatch step 58/15982: mean batch inertia: 106822.22794027044, ewa inertia: 109709.29731086011\n",
            "Minibatch step 59/15982: mean batch inertia: 106679.18726379807, ewa inertia: 109671.37895423414\n",
            "Minibatch step 60/15982: mean batch inertia: 107156.05466105329, ewa inertia: 109639.90255169514\n",
            "Minibatch step 61/15982: mean batch inertia: 106665.5199596229, ewa inertia: 109602.68156033951\n",
            "Minibatch step 62/15982: mean batch inertia: 107087.99632960418, ewa inertia: 109571.21315493505\n",
            "Minibatch step 63/15982: mean batch inertia: 106794.47972482299, ewa inertia: 109536.4655164589\n",
            "Minibatch step 64/15982: mean batch inertia: 107123.56375382257, ewa inertia: 109506.27081457744\n",
            "Minibatch step 65/15982: mean batch inertia: 107060.92116987132, ewa inertia: 109475.67006461686\n",
            "Minibatch step 66/15982: mean batch inertia: 106964.94140516962, ewa inertia: 109444.2511711703\n",
            "Minibatch step 67/15982: mean batch inertia: 107966.63438336807, ewa inertia: 109425.76048949664\n",
            "Minibatch step 68/15982: mean batch inertia: 106471.96138493127, ewa inertia: 109388.79707691135\n",
            "Minibatch step 69/15982: mean batch inertia: 106590.06042650214, ewa inertia: 109353.77409333512\n",
            "Minibatch step 70/15982: mean batch inertia: 107207.51020669019, ewa inertia: 109326.91605907126\n",
            "Minibatch step 71/15982: mean batch inertia: 107027.38680192543, ewa inertia: 109298.14008424194\n",
            "Minibatch step 72/15982: mean batch inertia: 105863.83709938798, ewa inertia: 109255.16371595208\n",
            "Minibatch step 73/15982: mean batch inertia: 107912.78908298045, ewa inertia: 109238.36543494309\n",
            "Minibatch step 74/15982: mean batch inertia: 107265.41887986485, ewa inertia: 109213.6762685704\n",
            "Minibatch step 75/15982: mean batch inertia: 107419.90695302103, ewa inertia: 109191.22930012524\n",
            "Minibatch step 76/15982: mean batch inertia: 106856.80877958097, ewa inertia: 109162.01670109808\n",
            "Minibatch step 77/15982: mean batch inertia: 105990.72717162211, ewa inertia: 109122.33164495318\n",
            "Minibatch step 78/15982: mean batch inertia: 107624.5627157089, ewa inertia: 109103.58878231113\n",
            "Minibatch step 79/15982: mean batch inertia: 107251.10284925422, ewa inertia: 109080.40704265043\n",
            "Minibatch step 80/15982: mean batch inertia: 107224.80775118095, ewa inertia: 109057.18634287517\n",
            "Minibatch step 81/15982: mean batch inertia: 106780.9741910052, ewa inertia: 109028.70215491155\n",
            "Minibatch step 82/15982: mean batch inertia: 106858.35943970317, ewa inertia: 109001.54280168751\n",
            "Minibatch step 83/15982: mean batch inertia: 107516.54695373977, ewa inertia: 108982.95977952791\n",
            "Minibatch step 84/15982: mean batch inertia: 106519.39064533607, ewa inertia: 108952.13103352458\n",
            "Minibatch step 85/15982: mean batch inertia: 107102.9939448069, ewa inertia: 108928.99120081512\n",
            "Minibatch step 86/15982: mean batch inertia: 105409.03641732261, ewa inertia: 108884.94299836874\n",
            "Minibatch step 87/15982: mean batch inertia: 106405.06516767574, ewa inertia: 108853.91016770828\n",
            "Minibatch step 88/15982: mean batch inertia: 106744.63804337774, ewa inertia: 108827.51504298035\n",
            "Minibatch step 89/15982: mean batch inertia: 106013.34321330975, ewa inertia: 108792.29890581475\n",
            "Minibatch step 90/15982: mean batch inertia: 106838.64540257526, ewa inertia: 108767.85116988805\n",
            "Minibatch step 91/15982: mean batch inertia: 106582.48799641886, ewa inertia: 108740.50385283295\n",
            "Minibatch step 92/15982: mean batch inertia: 107334.20832837703, ewa inertia: 108722.90567508044\n",
            "Minibatch step 93/15982: mean batch inertia: 106528.68053073055, ewa inertia: 108695.44746061004\n",
            "Minibatch step 94/15982: mean batch inertia: 106939.73539903887, ewa inertia: 108673.4767351086\n",
            "Minibatch step 95/15982: mean batch inertia: 106864.65848214358, ewa inertia: 108650.84144644838\n",
            "Minibatch step 96/15982: mean batch inertia: 106661.14435475956, ewa inertia: 108625.94266629567\n",
            "Minibatch step 97/15982: mean batch inertia: 106984.60378544153, ewa inertia: 108605.40319015068\n",
            "Minibatch step 98/15982: mean batch inertia: 106484.00743858788, ewa inertia: 108578.85635211402\n",
            "Minibatch step 99/15982: mean batch inertia: 106333.00358906157, ewa inertia: 108550.75207712855\n",
            "Minibatch step 100/15982: mean batch inertia: 107481.30283695296, ewa inertia: 108537.36914480841\n",
            "Minibatch step 101/15982: mean batch inertia: 106728.3554076082, ewa inertia: 108514.7314098869\n",
            "Minibatch step 102/15982: mean batch inertia: 107426.3730200212, ewa inertia: 108501.11185121647\n",
            "Minibatch step 103/15982: mean batch inertia: 106843.92356724308, ewa inertia: 108480.37403794497\n",
            "Minibatch step 104/15982: mean batch inertia: 106191.11487562332, ewa inertia: 108451.72658158926\n",
            "Minibatch step 105/15982: mean batch inertia: 106926.014402268, ewa inertia: 108432.634041178\n",
            "Minibatch step 106/15982: mean batch inertia: 106505.76738229136, ewa inertia: 108408.52151192738\n",
            "Minibatch step 107/15982: mean batch inertia: 106795.83675673911, ewa inertia: 108388.34060934538\n",
            "Minibatch step 108/15982: mean batch inertia: 106676.03539639451, ewa inertia: 108366.91307083728\n",
            "Minibatch step 109/15982: mean batch inertia: 106394.91530411609, ewa inertia: 108342.23577746417\n",
            "Minibatch step 110/15982: mean batch inertia: 108217.24031668008, ewa inertia: 108340.67160243916\n",
            "Minibatch step 111/15982: mean batch inertia: 107081.24284359197, ewa inertia: 108324.91129404069\n",
            "Minibatch step 112/15982: mean batch inertia: 106071.36170796663, ewa inertia: 108296.71070213086\n",
            "Minibatch step 113/15982: mean batch inertia: 107274.04245896911, ewa inertia: 108283.91318040657\n",
            "Minibatch step 114/15982: mean batch inertia: 107186.61073735627, ewa inertia: 108270.18169715484\n",
            "Minibatch step 115/15982: mean batch inertia: 107276.78397027709, ewa inertia: 108257.75046241612\n",
            "Minibatch step 116/15982: mean batch inertia: 106675.99522474654, ewa inertia: 108237.95660731997\n",
            "Minibatch step 117/15982: mean batch inertia: 106271.55592053944, ewa inertia: 108213.34935499156\n",
            "Minibatch step 118/15982: mean batch inertia: 107039.48987544303, ewa inertia: 108198.65984811458\n",
            "Minibatch step 119/15982: mean batch inertia: 106692.98656781208, ewa inertia: 108179.81807157249\n",
            "Minibatch step 120/15982: mean batch inertia: 105766.32545123501, ewa inertia: 108149.61597578364\n",
            "Minibatch step 121/15982: mean batch inertia: 106357.5601546792, ewa inertia: 108127.19044975887\n",
            "Minibatch step 122/15982: mean batch inertia: 106309.56497800275, ewa inertia: 108104.44494884304\n",
            "Minibatch step 123/15982: mean batch inertia: 106092.90847646528, ewa inertia: 108079.2728738553\n",
            "Minibatch step 124/15982: mean batch inertia: 106911.5429930559, ewa inertia: 108064.66007188598\n",
            "Minibatch step 125/15982: mean batch inertia: 106791.83221444183, ewa inertia: 108048.73208911558\n",
            "Minibatch step 126/15982: mean batch inertia: 107461.71555031186, ewa inertia: 108041.38624948665\n",
            "Minibatch step 127/15982: mean batch inertia: 106577.267862953, ewa inertia: 108023.06448484412\n",
            "Minibatch step 128/15982: mean batch inertia: 106440.27995054644, ewa inertia: 108003.2577492796\n",
            "Minibatch step 129/15982: mean batch inertia: 106157.04249594497, ewa inertia: 107980.15447999335\n",
            "Minibatch step 130/15982: mean batch inertia: 106855.7349512747, ewa inertia: 107966.08365747372\n",
            "Minibatch step 131/15982: mean batch inertia: 106710.325966259, ewa inertia: 107950.36928828193\n",
            "Minibatch step 132/15982: mean batch inertia: 106117.44124110675, ewa inertia: 107927.43229316192\n",
            "Minibatch step 133/15982: mean batch inertia: 107664.76628558265, ewa inertia: 107924.1453289282\n",
            "Minibatch step 134/15982: mean batch inertia: 105858.57576286107, ewa inertia: 107898.2970916611\n",
            "Minibatch step 135/15982: mean batch inertia: 106778.32583466601, ewa inertia: 107884.28193416714\n",
            "Minibatch step 136/15982: mean batch inertia: 107053.90123199561, ewa inertia: 107873.89067077695\n",
            "Minibatch step 137/15982: mean batch inertia: 107093.34271545985, ewa inertia: 107864.12300713646\n",
            "Minibatch step 138/15982: mean batch inertia: 106637.75865402527, ewa inertia: 107848.77646190464\n",
            "Minibatch step 139/15982: mean batch inertia: 107155.03072523818, ewa inertia: 107840.09502860943\n",
            "Minibatch step 140/15982: mean batch inertia: 107050.36427594317, ewa inertia: 107830.21245277787\n",
            "Minibatch step 141/15982: mean batch inertia: 106826.2579475957, ewa inertia: 107817.64911205013\n",
            "Minibatch step 142/15982: mean batch inertia: 107075.21082277449, ewa inertia: 107808.35834723029\n",
            "Minibatch step 143/15982: mean batch inertia: 107778.04080509867, ewa inertia: 107807.97895791546\n",
            "Minibatch step 144/15982: mean batch inertia: 106705.27319085726, ewa inertia: 107794.17985825261\n",
            "Minibatch step 145/15982: mean batch inertia: 107412.06941070608, ewa inertia: 107789.3981836614\n",
            "Minibatch step 146/15982: mean batch inertia: 106970.07153660357, ewa inertia: 107779.14524910992\n",
            "Minibatch step 147/15982: mean batch inertia: 106668.74259001773, ewa inertia: 107765.2498316591\n",
            "Minibatch step 148/15982: mean batch inertia: 107455.92367466478, ewa inertia: 107761.37896909882\n",
            "Minibatch step 149/15982: mean batch inertia: 106436.39286302279, ewa inertia: 107744.79828558755\n",
            "Minibatch step 150/15982: mean batch inertia: 106779.1808101877, ewa inertia: 107732.71468887725\n",
            "Minibatch step 151/15982: mean batch inertia: 107768.72558954844, ewa inertia: 107733.16532405315\n",
            "Minibatch step 152/15982: mean batch inertia: 106508.33544860709, ewa inertia: 107717.83798105174\n",
            "Minibatch step 153/15982: mean batch inertia: 106658.62813355206, ewa inertia: 107704.58318300301\n",
            "Minibatch step 154/15982: mean batch inertia: 106231.51270014203, ewa inertia: 107686.14939312845\n",
            "Minibatch step 155/15982: mean batch inertia: 106497.70317397724, ewa inertia: 107671.27734991263\n",
            "Minibatch step 156/15982: mean batch inertia: 107678.59560317615, ewa inertia: 107671.36892947007\n",
            "Minibatch step 157/15982: mean batch inertia: 107724.71472969883, ewa inertia: 107672.03649105899\n",
            "Minibatch step 158/15982: mean batch inertia: 107010.81762744744, ewa inertia: 107663.76209432459\n",
            "Minibatch step 159/15982: mean batch inertia: 105743.93447563214, ewa inertia: 107639.73765059967\n",
            "Minibatch step 160/15982: mean batch inertia: 106246.10487942197, ewa inertia: 107622.29793270084\n",
            "Minibatch step 161/15982: mean batch inertia: 106374.37266832888, ewa inertia: 107606.68157735991\n",
            "Minibatch step 162/15982: mean batch inertia: 106888.08959898549, ewa inertia: 107597.689221808\n",
            "Minibatch step 163/15982: mean batch inertia: 107534.90777898463, ewa inertia: 107596.90358395937\n",
            "Minibatch step 164/15982: mean batch inertia: 107060.51028523491, ewa inertia: 107590.19123619744\n",
            "Minibatch step 165/15982: mean batch inertia: 106855.2771661789, ewa inertia: 107580.99462836352\n",
            "Minibatch step 166/15982: mean batch inertia: 107092.60740122962, ewa inertia: 107574.88302160257\n",
            "Minibatch step 167/15982: mean batch inertia: 107273.48595033828, ewa inertia: 107571.11138246843\n",
            "Minibatch step 168/15982: mean batch inertia: 107344.13426712336, ewa inertia: 107568.27102384384\n",
            "Minibatch step 169/15982: mean batch inertia: 106747.76363648838, ewa inertia: 107558.00331367993\n",
            "Minibatch step 170/15982: mean batch inertia: 107343.7613532734, ewa inertia: 107555.32232093289\n",
            "Minibatch step 171/15982: mean batch inertia: 105843.79435249533, ewa inertia: 107533.90450874963\n",
            "Minibatch step 172/15982: mean batch inertia: 106537.76947110835, ewa inertia: 107521.43901970195\n",
            "Minibatch step 173/15982: mean batch inertia: 106185.4226974649, ewa inertia: 107504.72030566917\n",
            "Minibatch step 174/15982: mean batch inertia: 106831.55505727681, ewa inertia: 107496.29641361233\n",
            "Minibatch step 175/15982: mean batch inertia: 106026.50000415836, ewa inertia: 107477.90359501643\n",
            "Minibatch step 176/15982: mean batch inertia: 106293.23847745059, ewa inertia: 107463.07886795618\n",
            "Minibatch step 177/15982: mean batch inertia: 106418.52155756643, ewa inertia: 107450.00742962673\n",
            "Minibatch step 178/15982: mean batch inertia: 106274.42759896403, ewa inertia: 107435.296394526\n",
            "Minibatch step 179/15982: mean batch inertia: 106935.29679357879, ewa inertia: 107429.03947220731\n",
            "Minibatch step 180/15982: mean batch inertia: 106796.1186215758, ewa inertia: 107421.11919269353\n",
            "Minibatch step 181/15982: mean batch inertia: 106581.50115465444, ewa inertia: 107410.61233462517\n",
            "Minibatch step 182/15982: mean batch inertia: 106612.95842688897, ewa inertia: 107400.63060958288\n",
            "Minibatch step 183/15982: mean batch inertia: 106715.30779334107, ewa inertia: 107392.05457948938\n",
            "Minibatch step 184/15982: mean batch inertia: 107199.33256736778, ewa inertia: 107389.6428842467\n",
            "Minibatch step 185/15982: mean batch inertia: 107158.58401495597, ewa inertia: 107386.75144714663\n",
            "Minibatch step 186/15982: mean batch inertia: 107092.58366675793, ewa inertia: 107383.07027430755\n",
            "Minibatch step 187/15982: mean batch inertia: 105540.21290317543, ewa inertia: 107360.00902507102\n",
            "Minibatch step 188/15982: mean batch inertia: 105821.49800207127, ewa inertia: 107340.7563217906\n",
            "Minibatch step 189/15982: mean batch inertia: 106744.89461178768, ewa inertia: 107333.29979497516\n",
            "Minibatch step 190/15982: mean batch inertia: 106838.36974084555, ewa inertia: 107327.10631222835\n",
            "Minibatch step 191/15982: mean batch inertia: 106229.69569808038, ewa inertia: 107313.37347533923\n",
            "Minibatch step 192/15982: mean batch inertia: 106632.32438220565, ewa inertia: 107304.85092599543\n",
            "Minibatch step 193/15982: mean batch inertia: 106008.10733590293, ewa inertia: 107288.62366522341\n",
            "Minibatch step 194/15982: mean batch inertia: 106513.56574395506, ewa inertia: 107278.92470307088\n",
            "Minibatch step 195/15982: mean batch inertia: 106800.64043466742, ewa inertia: 107272.93952326677\n",
            "Minibatch step 196/15982: mean batch inertia: 106796.25894328553, ewa inertia: 107266.97441178643\n",
            "Minibatch step 197/15982: mean batch inertia: 108093.08448166752, ewa inertia: 107277.31223310498\n",
            "Minibatch step 198/15982: mean batch inertia: 107085.24621152907, ewa inertia: 107274.90874683262\n",
            "Minibatch step 199/15982: mean batch inertia: 107372.58459107701, ewa inertia: 107276.13104814784\n",
            "Minibatch step 200/15982: mean batch inertia: 107000.10465444828, ewa inertia: 107272.67689398449\n",
            "Minibatch step 201/15982: mean batch inertia: 106077.43440870683, ewa inertia: 107257.71980328238\n",
            "Minibatch step 202/15982: mean batch inertia: 106755.36944027185, ewa inertia: 107251.43346386896\n",
            "Minibatch step 203/15982: mean batch inertia: 106213.71622144325, ewa inertia: 107238.44762115563\n",
            "Minibatch step 204/15982: mean batch inertia: 107698.06072346914, ewa inertia: 107244.1991527016\n",
            "Minibatch step 205/15982: mean batch inertia: 107079.44478748589, ewa inertia: 107242.1374405265\n",
            "Minibatch step 206/15982: mean batch inertia: 107495.28620414813, ewa inertia: 107245.30530735289\n",
            "Minibatch step 207/15982: mean batch inertia: 106632.26014051732, ewa inertia: 107237.63374925668\n",
            "Minibatch step 208/15982: mean batch inertia: 107345.97697305225, ewa inertia: 107238.98954060883\n",
            "Minibatch step 209/15982: mean batch inertia: 106161.26984377493, ewa inertia: 107225.5031129964\n",
            "Minibatch step 210/15982: mean batch inertia: 107117.73167847404, ewa inertia: 107224.15447693208\n",
            "Minibatch step 211/15982: mean batch inertia: 107018.83490079199, ewa inertia: 107221.58513760463\n",
            "Minibatch step 212/15982: mean batch inertia: 106779.5346400158, ewa inertia: 107216.05338194099\n",
            "Minibatch step 213/15982: mean batch inertia: 106413.65110420906, ewa inertia: 107206.01223648687\n",
            "Minibatch step 214/15982: mean batch inertia: 107167.83160156773, ewa inertia: 107205.53444957202\n",
            "Minibatch step 215/15982: mean batch inertia: 106662.49813465354, ewa inertia: 107198.73897207117\n",
            "Minibatch step 216/15982: mean batch inertia: 106499.48660237377, ewa inertia: 107189.98862957074\n",
            "Minibatch step 217/15982: mean batch inertia: 105802.9140673662, ewa inertia: 107172.6309801456\n",
            "Minibatch step 218/15982: mean batch inertia: 107303.27583180234, ewa inertia: 107174.26585082669\n",
            "Minibatch step 219/15982: mean batch inertia: 106793.46251351429, ewa inertia: 107169.50053322293\n",
            "Minibatch step 220/15982: mean batch inertia: 106637.9026845065, ewa inertia: 107162.84819502526\n",
            "Minibatch step 221/15982: mean batch inertia: 106083.16572933136, ewa inertia: 107149.33720560865\n",
            "Minibatch step 222/15982: mean batch inertia: 107087.64680069439, ewa inertia: 107148.5652208498\n",
            "Minibatch step 223/15982: mean batch inertia: 107488.93863151647, ewa inertia: 107152.82460422901\n",
            "Minibatch step 224/15982: mean batch inertia: 106398.56905653323, ewa inertia: 107143.38595995522\n",
            "Minibatch step 225/15982: mean batch inertia: 106270.068665253, ewa inertia: 107132.45739428802\n",
            "Minibatch step 226/15982: mean batch inertia: 106791.62754245289, ewa inertia: 107128.19229907038\n",
            "Minibatch step 227/15982: mean batch inertia: 106620.48897050982, ewa inertia: 107121.83897342425\n",
            "Minibatch step 228/15982: mean batch inertia: 106955.37035546533, ewa inertia: 107119.75580933952\n",
            "Minibatch step 229/15982: mean batch inertia: 106538.92220256828, ewa inertia: 107112.4873420232\n",
            "Minibatch step 230/15982: mean batch inertia: 106504.32512329635, ewa inertia: 107104.87688842978\n",
            "Minibatch step 231/15982: mean batch inertia: 106395.8747612294, ewa inertia: 107096.00453888133\n",
            "Minibatch step 232/15982: mean batch inertia: 106760.68568810346, ewa inertia: 107091.80840752975\n",
            "Minibatch step 233/15982: mean batch inertia: 106045.90971704642, ewa inertia: 107078.72018336481\n",
            "Minibatch step 234/15982: mean batch inertia: 107011.49535700683, ewa inertia: 107077.87894166059\n",
            "Minibatch step 235/15982: mean batch inertia: 106356.80808349977, ewa inertia: 107068.8555657674\n",
            "Minibatch step 236/15982: mean batch inertia: 107291.13160885702, ewa inertia: 107071.63709585718\n",
            "Minibatch step 237/15982: mean batch inertia: 106423.45812267854, ewa inertia: 107063.52587841598\n",
            "Minibatch step 238/15982: mean batch inertia: 106778.0553784582, ewa inertia: 107059.95354207985\n",
            "Minibatch step 239/15982: mean batch inertia: 106151.32901471583, ewa inertia: 107048.58314683592\n",
            "Minibatch step 240/15982: mean batch inertia: 107384.37983739407, ewa inertia: 107052.78525780504\n",
            "Minibatch step 241/15982: mean batch inertia: 105932.43871938459, ewa inertia: 107038.76540409388\n",
            "Minibatch step 242/15982: mean batch inertia: 106499.5053312576, ewa inertia: 107032.01718193747\n",
            "Minibatch step 243/15982: mean batch inertia: 106483.44051135189, ewa inertia: 107025.1523732312\n",
            "Minibatch step 244/15982: mean batch inertia: 106651.87866948529, ewa inertia: 107020.48128036727\n",
            "Minibatch step 245/15982: mean batch inertia: 107098.0218313453, ewa inertia: 107021.45161154972\n",
            "Minibatch step 246/15982: mean batch inertia: 106776.21418701556, ewa inertia: 107018.38274607055\n",
            "Minibatch step 247/15982: mean batch inertia: 107549.12464784077, ewa inertia: 107025.02437307258\n",
            "Minibatch step 248/15982: mean batch inertia: 107330.55860505119, ewa inertia: 107028.84778403444\n",
            "Minibatch step 249/15982: mean batch inertia: 106945.77663319868, ewa inertia: 107027.80824372936\n",
            "Minibatch step 250/15982: mean batch inertia: 107262.61343953694, ewa inertia: 107030.74656181483\n",
            "Minibatch step 251/15982: mean batch inertia: 106803.87509176685, ewa inertia: 107027.90752522013\n",
            "Minibatch step 252/15982: mean batch inertia: 106956.68963668369, ewa inertia: 107027.0163149163\n",
            "Minibatch step 253/15982: mean batch inertia: 105756.7769959251, ewa inertia: 107011.12072473977\n",
            "Minibatch step 254/15982: mean batch inertia: 105997.68798415588, ewa inertia: 106998.43877475213\n",
            "Minibatch step 255/15982: mean batch inertia: 107127.00049940412, ewa inertia: 107000.04757748473\n",
            "Minibatch step 256/15982: mean batch inertia: 106388.25742546037, ewa inertia: 106992.39172446144\n",
            "Minibatch step 257/15982: mean batch inertia: 107036.77245740808, ewa inertia: 106992.94709850167\n",
            "Minibatch step 258/15982: mean batch inertia: 106018.44227533607, ewa inertia: 106980.75228681343\n",
            "Minibatch step 259/15982: mean batch inertia: 107182.31003653606, ewa inertia: 106983.27455119193\n",
            "Minibatch step 260/15982: mean batch inertia: 106256.94491754366, ewa inertia: 106974.1853677468\n",
            "Minibatch step 261/15982: mean batch inertia: 106561.81350520103, ewa inertia: 106969.02500620756\n",
            "Minibatch step 262/15982: mean batch inertia: 106428.16354136751, ewa inertia: 106962.25674446441\n",
            "Minibatch step 263/15982: mean batch inertia: 106495.06947356985, ewa inertia: 106956.41043087389\n",
            "Minibatch step 264/15982: mean batch inertia: 106332.58892556553, ewa inertia: 106948.60401924465\n",
            "Minibatch step 265/15982: mean batch inertia: 106203.32762513656, ewa inertia: 106939.27773879352\n",
            "Minibatch step 266/15982: mean batch inertia: 106233.59763393203, ewa inertia: 106930.4469605497\n",
            "Minibatch step 267/15982: mean batch inertia: 106255.14286729864, ewa inertia: 106921.99630329925\n",
            "Minibatch step 268/15982: mean batch inertia: 106871.75235569882, ewa inertia: 106921.3675578432\n",
            "Minibatch step 269/15982: mean batch inertia: 106926.72340714558, ewa inertia: 106921.43458016275\n",
            "Minibatch step 270/15982: mean batch inertia: 106530.5051836275, ewa inertia: 106916.54254652595\n",
            "Minibatch step 271/15982: mean batch inertia: 106687.40056514852, ewa inertia: 106913.67509708255\n",
            "Minibatch step 272/15982: mean batch inertia: 106190.02453248447, ewa inertia: 106904.61943911803\n",
            "Minibatch step 273/15982: mean batch inertia: 106150.16483667014, ewa inertia: 106895.17830390201\n",
            "Minibatch step 274/15982: mean batch inertia: 107617.14442700677, ewa inertia: 106904.21288301054\n",
            "Minibatch step 275/15982: mean batch inertia: 106103.52028339465, ewa inertia: 106894.19313221982\n",
            "Minibatch step 276/15982: mean batch inertia: 105519.62696611782, ewa inertia: 106876.9920110451\n",
            "Minibatch step 277/15982: mean batch inertia: 106149.96143047472, ewa inertia: 106867.89405605209\n",
            "Minibatch step 278/15982: mean batch inertia: 106713.93562306806, ewa inertia: 106865.96744260346\n",
            "Minibatch step 279/15982: mean batch inertia: 105406.44992439217, ewa inertia: 106847.70325255826\n",
            "Minibatch step 280/15982: mean batch inertia: 105382.00502399619, ewa inertia: 106829.36171800226\n",
            "Minibatch step 281/15982: mean batch inertia: 106062.52131697422, ewa inertia: 106819.76558870339\n",
            "Minibatch step 282/15982: mean batch inertia: 106171.38499725402, ewa inertia: 106811.65184824046\n",
            "Minibatch step 283/15982: mean batch inertia: 105883.01308593697, ewa inertia: 106800.03099777008\n",
            "Minibatch step 284/15982: mean batch inertia: 106266.2105625396, ewa inertia: 106793.35084644788\n",
            "Minibatch step 285/15982: mean batch inertia: 106704.12529246905, ewa inertia: 106792.23429083657\n",
            "Minibatch step 286/15982: mean batch inertia: 107103.71894107385, ewa inertia: 106796.13216446748\n",
            "Minibatch step 287/15982: mean batch inertia: 106852.75617524447, ewa inertia: 106796.8407491066\n",
            "Minibatch step 288/15982: mean batch inertia: 106101.07280683087, ewa inertia: 106788.13401022438\n",
            "Minibatch step 289/15982: mean batch inertia: 105950.20116510286, ewa inertia: 106777.6482404152\n",
            "Minibatch step 290/15982: mean batch inertia: 106931.48365137914, ewa inertia: 106779.57331438415\n",
            "Minibatch step 291/15982: mean batch inertia: 105997.64723200937, ewa inertia: 106769.788405062\n",
            "Minibatch step 292/15982: mean batch inertia: 107410.52229342093, ewa inertia: 106777.80645579408\n",
            "Minibatch step 293/15982: mean batch inertia: 105843.39942047068, ewa inertia: 106766.11342199368\n",
            "Minibatch step 294/15982: mean batch inertia: 106435.45442606714, ewa inertia: 106761.97560338827\n",
            "Minibatch step 295/15982: mean batch inertia: 106705.47226358083, ewa inertia: 106761.26852880811\n",
            "Minibatch step 296/15982: mean batch inertia: 107339.78273770625, ewa inertia: 106768.50797151662\n",
            "Minibatch step 297/15982: mean batch inertia: 106349.39882590786, ewa inertia: 106763.26330059656\n",
            "Minibatch step 298/15982: mean batch inertia: 106061.23696230404, ewa inertia: 106754.47824505641\n",
            "Minibatch step 299/15982: mean batch inertia: 106438.31613963268, ewa inertia: 106750.52183843128\n",
            "Minibatch step 300/15982: mean batch inertia: 106696.7824703709, ewa inertia: 106749.84935179174\n",
            "Minibatch step 301/15982: mean batch inertia: 106217.48340615719, ewa inertia: 106743.18740174088\n",
            "Minibatch step 302/15982: mean batch inertia: 106560.55212503538, ewa inertia: 106740.90193043883\n",
            "Minibatch step 303/15982: mean batch inertia: 106500.1737981223, ewa inertia: 106737.88949358693\n",
            "Minibatch step 304/15982: mean batch inertia: 106207.92501957863, ewa inertia: 106731.2575952029\n",
            "Minibatch step 305/15982: mean batch inertia: 106299.27075135108, ewa inertia: 106725.85177463913\n",
            "Minibatch step 306/15982: mean batch inertia: 106696.23839436941, ewa inertia: 106725.48119710348\n",
            "Minibatch step 307/15982: mean batch inertia: 106462.57863066797, ewa inertia: 106722.19127260662\n",
            "Minibatch step 308/15982: mean batch inertia: 106226.8719894877, ewa inertia: 106715.99291910481\n",
            "Minibatch step 309/15982: mean batch inertia: 106701.03177176771, ewa inertia: 106715.80569748202\n",
            "Minibatch step 310/15982: mean batch inertia: 106491.21543795147, ewa inertia: 106712.9952076241\n",
            "Minibatch step 311/15982: mean batch inertia: 107038.03868487048, ewa inertia: 106717.06275444508\n",
            "Minibatch step 312/15982: mean batch inertia: 105989.54715788421, ewa inertia: 106707.95873003246\n",
            "Minibatch step 313/15982: mean batch inertia: 106975.96826170204, ewa inertia: 106711.31256234982\n",
            "Minibatch step 314/15982: mean batch inertia: 106967.73458109424, ewa inertia: 106714.52139021497\n",
            "Minibatch step 315/15982: mean batch inertia: 105625.8090266176, ewa inertia: 106700.89740196873\n",
            "Minibatch step 316/15982: mean batch inertia: 106243.2536046084, ewa inertia: 106695.17051401862\n",
            "Minibatch step 317/15982: mean batch inertia: 106312.30582753083, ewa inertia: 106690.37940099095\n",
            "Minibatch step 318/15982: mean batch inertia: 107455.91349232182, ewa inertia: 106699.95918332017\n",
            "Minibatch step 319/15982: mean batch inertia: 107283.17531874364, ewa inertia: 106707.25746525367\n",
            "Minibatch step 320/15982: mean batch inertia: 107030.0487444594, ewa inertia: 106711.29682839579\n",
            "Minibatch step 321/15982: mean batch inertia: 106957.29002440482, ewa inertia: 106714.37515148932\n",
            "Minibatch step 322/15982: mean batch inertia: 106475.20462576133, ewa inertia: 106711.38220629982\n",
            "Minibatch step 323/15982: mean batch inertia: 105915.62730478772, ewa inertia: 106701.42424514536\n",
            "Minibatch step 324/15982: mean batch inertia: 107174.88852842514, ewa inertia: 106707.34910835633\n",
            "Minibatch step 325/15982: mean batch inertia: 107686.26684715846, ewa inertia: 106719.5991426293\n",
            "Minibatch step 326/15982: mean batch inertia: 106951.792440773, ewa inertia: 106722.50477580712\n",
            "Minibatch step 327/15982: mean batch inertia: 106277.34176493781, ewa inertia: 106716.93407060477\n",
            "Converged (lack of improvement in inertia) at step 327/15982\n"
          ]
        }
      ]
    },
    {
      "cell_type": "code",
      "metadata": {
        "id": "EaguVVCGmsyZ"
      },
      "source": [
        "kmeans.verbose = False\n",
        "histo_list = []\n",
        "\n",
        "for leaf in train.image:\n",
        "    img = cv.imread(img_path +'/'+ str(leaf) )\n",
        "    kp, des = orb.detectAndCompute(img, None)\n",
        "\n",
        "    histo = np.zeros(k)\n",
        "    nkp = np.size(kp)\n",
        "\n",
        "    for d in des:\n",
        "        idx = kmeans.predict([d])\n",
        "        histo[idx] += 1/nkp # Because we need normalized histograms, I prefere to add 1/nkp directly\n",
        "\n",
        "    histo_list.append(histo)"
      ],
      "execution_count": 407,
      "outputs": []
    },
    {
      "cell_type": "code",
      "metadata": {
        "colab": {
          "base_uri": "https://localhost:8080/"
        },
        "id": "CEN-RdQClKIS",
        "outputId": "02a8c71d-d4b7-4489-8007-a4eee4fe6824"
      },
      "source": [
        "from sklearn.feature_extraction.text import CountVectorizer\n",
        "\n",
        "count_vectorizer = CountVectorizer(analyzer='word', token_pattern=r'\\w+',stop_words=stopword_list)\n",
        "\n",
        "bow = dict()\n",
        "bow[\"train\"] = (count_vectorizer.fit_transform(X_train), y_train)\n",
        "#bow[\"test\"]  = (count_vectorizer.transform(X_test), y_test)\n",
        "print(bow[\"train\"][0].shape)\n",
        "#print(bow[\"test\"][0].shape)"
      ],
      "execution_count": 408,
      "outputs": [
        {
          "output_type": "stream",
          "name": "stdout",
          "text": [
            "(1048, 4202)\n"
          ]
        }
      ]
    },
    {
      "cell_type": "code",
      "metadata": {
        "id": "VIF_E3Cryphn"
      },
      "source": [
        "X_train_word =count_vectorizer.fit_transform(X_train)"
      ],
      "execution_count": 409,
      "outputs": []
    },
    {
      "cell_type": "code",
      "metadata": {
        "id": "O2SB-DlemK0w"
      },
      "source": [
        ""
      ],
      "execution_count": 409,
      "outputs": []
    },
    {
      "cell_type": "code",
      "metadata": {
        "id": "jrJnUZZulpsc"
      },
      "source": [
        ""
      ],
      "execution_count": 409,
      "outputs": []
    },
    {
      "cell_type": "code",
      "metadata": {
        "id": "bSfGAYT81dp7",
        "colab": {
          "base_uri": "https://localhost:8080/"
        },
        "outputId": "9ced85ec-2fa5-44e4-bf5f-ed09919d142d"
      },
      "source": [
        "np.shape(X_train_word)"
      ],
      "execution_count": 410,
      "outputs": [
        {
          "output_type": "execute_result",
          "data": {
            "text/plain": [
              "(1048, 4202)"
            ]
          },
          "metadata": {},
          "execution_count": 410
        }
      ]
    },
    {
      "cell_type": "code",
      "metadata": {
        "id": "cLjY3NrGywYp"
      },
      "source": [
        "\n",
        "X_train_word_df = pd.DataFrame.sparse.from_spmatrix(X_train_word)\n",
        "X_train_image = pd.DataFrame(histo_list)\n",
        "X = pd.concat([X_train_word_df,X_train_image],axis=1)"
      ],
      "execution_count": 411,
      "outputs": []
    },
    {
      "cell_type": "code",
      "metadata": {
        "id": "3LesmiQXNwUD"
      },
      "source": [
        "def plot_top_words(model, feature_names, n_top_words, title):\n",
        "    fig, axes = plt.subplots(2, 5, figsize=(30, 15), sharex=True)\n",
        "    axes = axes.flatten()\n",
        "    for topic_idx, topic in enumerate(model.components_):\n",
        "        top_features_ind = topic.argsort()[: -n_top_words - 1 : -1]\n",
        "        top_features = [feature_names[i] for i in top_features_ind]\n",
        "        weights = topic[top_features_ind]\n",
        "\n",
        "        ax = axes[topic_idx]\n",
        "        ax.barh(top_features, weights, height=0.7)\n",
        "        ax.set_title(f\"Topic {topic_idx +1}\", fontdict={\"fontsize\": 30})\n",
        "        ax.invert_yaxis()\n",
        "        ax.tick_params(axis=\"both\", which=\"major\", labelsize=20)\n",
        "        for i in \"top right left\".split():\n",
        "            ax.spines[i].set_visible(False)\n",
        "        fig.suptitle(title, fontsize=40)\n",
        "\n",
        "    plt.subplots_adjust(top=0.90, bottom=0.05, wspace=0.90, hspace=0.3)\n",
        "    plt.show()"
      ],
      "execution_count": 412,
      "outputs": []
    },
    {
      "cell_type": "code",
      "metadata": {
        "colab": {
          "base_uri": "https://localhost:8080/",
          "height": 956
        },
        "id": "wIiZ4u9SNxdj",
        "outputId": "757e5a54-d8b6-45c8-8f05-3d56398a7861"
      },
      "source": [
        "from sklearn.decomposition import NMF, LatentDirichletAllocation\n",
        "#n_samples = 2000\n",
        "#n_features = 1000\n",
        "n_components = 7\n",
        "n_top_words = 20\n",
        "nmf = NMF(n_components=n_components, random_state=1, alpha=0.1, l1_ratio=0.5).fit(X_train_word)\n",
        "tfidf_feature_names = count_vectorizer.get_feature_names_out()\n",
        "plot_top_words(\n",
        "    nmf, tfidf_feature_names, n_top_words, \"Topics in NMF model (Frobenius norm)\"\n",
        ")"
      ],
      "execution_count": 413,
      "outputs": [
        {
          "output_type": "stream",
          "name": "stderr",
          "text": [
            "/usr/local/lib/python3.7/dist-packages/sklearn/decomposition/_nmf.py:1425: FutureWarning: `alpha` was deprecated in version 1.0 and will be removed in 1.2. Use `alpha_W` and `alpha_H` instead\n",
            "  FutureWarning,\n",
            "/usr/local/lib/python3.7/dist-packages/sklearn/decomposition/_nmf.py:294: FutureWarning: The 'init' value, when 'init=None' and n_components is less than n_samples and n_features, will be changed from 'nndsvd' to 'nndsvda' in 1.1 (renaming of 0.26).\n",
            "  FutureWarning,\n",
            "/usr/local/lib/python3.7/dist-packages/sklearn/decomposition/_nmf.py:1641: ConvergenceWarning: Maximum number of iterations 200 reached. Increase it to improve convergence.\n",
            "  ConvergenceWarning,\n"
          ]
        },
        {
          "output_type": "display_data",
          "data": {
            "image/png": "[encoded data removed]",
            "text/plain": [
              "<Figure size 2160x1080 with 10 Axes>"
            ]
          },
          "metadata": {
            "needs_background": "light"
          }
        }
      ]
    },
    {
      "cell_type": "code",
      "metadata": {
        "id": "tddbUnMwkpNh"
      },
      "source": [
        ""
      ],
      "execution_count": 413,
      "outputs": []
    },
    {
      "cell_type": "code",
      "metadata": {
        "colab": {
          "base_uri": "https://localhost:8080/",
          "height": 386
        },
        "id": "A_iBw8eGtbE4",
        "outputId": "33c4d531-01a5-4638-a5bd-7956a3510281"
      },
      "source": [
        "from sklearn.manifold import TSNE\n",
        "tsne_2d = TSNE(n_components=2, perplexity=50)\n",
        "X_tsne = tsne_2d.fit_transform(X)\n",
        "plt.scatter(X_tsne[:, 0], X_tsne[:, 1])"
      ],
      "execution_count": 414,
      "outputs": [
        {
          "output_type": "stream",
          "name": "stderr",
          "text": [
            "/usr/local/lib/python3.7/dist-packages/sklearn/manifold/_t_sne.py:783: FutureWarning: The default initialization in TSNE will change from 'random' to 'pca' in 1.2.\n",
            "  FutureWarning,\n",
            "/usr/local/lib/python3.7/dist-packages/sklearn/manifold/_t_sne.py:793: FutureWarning: The default learning rate in TSNE will change from 200.0 to 'auto' in 1.2.\n",
            "  FutureWarning,\n",
            "/usr/local/lib/python3.7/dist-packages/sklearn/utils/validation.py:617: UserWarning: pandas.DataFrame with sparse columns found.It will be converted to a dense numpy array.\n",
            "  \"pandas.DataFrame with sparse columns found.\"\n"
          ]
        },
        {
          "output_type": "execute_result",
          "data": {
            "text/plain": [
              "<matplotlib.collections.PathCollection at 0x7f06418b4c50>"
            ]
          },
          "metadata": {},
          "execution_count": 414
        },
        {
          "output_type": "display_data",
          "data": {
            "image/png": "[encoded data removed]",
            "text/plain": [
              "<Figure size 432x288 with 1 Axes>"
            ]
          },
          "metadata": {
            "needs_background": "light"
          }
        }
      ]
    },
    {
      "cell_type": "code",
      "metadata": {
        "id": "BqtkPN-PmswE",
        "colab": {
          "base_uri": "https://localhost:8080/"
        },
        "outputId": "bf1c3351-bb6b-4a39-98a2-8e3334e03f23"
      },
      "source": [
        "np.shape(X_tsne)"
      ],
      "execution_count": 415,
      "outputs": [
        {
          "output_type": "execute_result",
          "data": {
            "text/plain": [
              "(1048, 2)"
            ]
          },
          "metadata": {},
          "execution_count": 415
        }
      ]
    },
    {
      "cell_type": "code",
      "metadata": {
        "id": "femwVVTvmstr"
      },
      "source": [
        ""
      ],
      "execution_count": 415,
      "outputs": []
    },
    {
      "cell_type": "code",
      "metadata": {
        "id": "16k79GriuN67",
        "colab": {
          "base_uri": "https://localhost:8080/"
        },
        "outputId": "4c7ab342-c4cf-4f18-afda-f8a8322c1249"
      },
      "source": [
        "from sklearn.naive_bayes import MultinomialNB\n",
        "from sklearn.naive_bayes import GaussianNB\n",
        "gb= GaussianNB()\n",
        "nb = MultinomialNB()\n",
        "from sklearn.model_selection import cross_val_score\n",
        "cross_val_score(gb, X_tsne,y_train, cv=5, scoring='accuracy',error_score = 'raise')\n",
        "\n"
      ],
      "execution_count": 416,
      "outputs": [
        {
          "output_type": "execute_result",
          "data": {
            "text/plain": [
              "array([0.56666667, 0.6952381 , 0.66190476, 0.54066986, 0.55023923])"
            ]
          },
          "metadata": {},
          "execution_count": 416
        }
      ]
    },
    {
      "cell_type": "code",
      "metadata": {
        "id": "K9cBwMxNx5hc"
      },
      "source": [
        "labels_=gb.fit(X_tsne,y_train).predict(X_tsne)\n",
        "gb_labels = pd.Series(labels_)"
      ],
      "execution_count": 417,
      "outputs": []
    },
    {
      "cell_type": "code",
      "metadata": {
        "colab": {
          "base_uri": "https://localhost:8080/"
        },
        "id": "Kx_M5qhsyDyO",
        "outputId": "71f76d66-d4d4-4729-a21b-46c675488fed"
      },
      "source": [
        "df1_test.categories.nunique()"
      ],
      "execution_count": 418,
      "outputs": [
        {
          "output_type": "execute_result",
          "data": {
            "text/plain": [
              "7"
            ]
          },
          "metadata": {},
          "execution_count": 418
        }
      ]
    },
    {
      "cell_type": "code",
      "metadata": {
        "colab": {
          "base_uri": "https://localhost:8080/",
          "height": 282
        },
        "id": "BKHWdgokw9kl",
        "outputId": "8093f7b1-1e18-406a-c05b-febd250bc5c4"
      },
      "source": [
        "results = np.c_[X_tsne,labels_]\n",
        "pd_result = pd.DataFrame(results)\n",
        "plt.scatter(pd_result[0], pd_result[1], c=pd_result[2], cmap='Set1')"
      ],
      "execution_count": 419,
      "outputs": [
        {
          "output_type": "execute_result",
          "data": {
            "text/plain": [
              "<matplotlib.collections.PathCollection at 0x7f06418cdcd0>"
            ]
          },
          "metadata": {},
          "execution_count": 419
        },
        {
          "output_type": "display_data",
          "data": {
            "image/png": "[encoded data removed]",
            "text/plain": [
              "<Figure size 432x288 with 1 Axes>"
            ]
          },
          "metadata": {
            "needs_background": "light"
          }
        }
      ]
    },
    {
      "cell_type": "code",
      "metadata": {
        "colab": {
          "base_uri": "https://localhost:8080/",
          "height": 300
        },
        "id": "le8GYes3exiZ",
        "outputId": "0c0c1142-18ed-4412-e008-839cdb014dd1"
      },
      "source": [
        "pd.crosstab(y_train,gb_labels)"
      ],
      "execution_count": 420,
      "outputs": [
        {
          "output_type": "execute_result",
          "data": {
            "text/html": [
              "<div>\n",
              "<style scoped>\n",
              "    .dataframe tbody tr th:only-of-type {\n",
              "        vertical-align: middle;\n",
              "    }\n",
              "\n",
              "    .dataframe tbody tr th {\n",
              "        vertical-align: top;\n",
              "    }\n",
              "\n",
              "    .dataframe thead th {\n",
              "        text-align: right;\n",
              "    }\n",
              "</style>\n",
              "<table border=\"1\" class=\"dataframe\">\n",
              "  <thead>\n",
              "    <tr style=\"text-align: right;\">\n",
              "      <th>col_0</th>\n",
              "      <th>0</th>\n",
              "      <th>1</th>\n",
              "      <th>2</th>\n",
              "      <th>3</th>\n",
              "      <th>4</th>\n",
              "      <th>5</th>\n",
              "      <th>6</th>\n",
              "    </tr>\n",
              "    <tr>\n",
              "      <th>class_labels</th>\n",
              "      <th></th>\n",
              "      <th></th>\n",
              "      <th></th>\n",
              "      <th></th>\n",
              "      <th></th>\n",
              "      <th></th>\n",
              "      <th></th>\n",
              "    </tr>\n",
              "  </thead>\n",
              "  <tbody>\n",
              "    <tr>\n",
              "      <th>0</th>\n",
              "      <td>94</td>\n",
              "      <td>19</td>\n",
              "      <td>6</td>\n",
              "      <td>4</td>\n",
              "      <td>27</td>\n",
              "      <td>0</td>\n",
              "      <td>0</td>\n",
              "    </tr>\n",
              "    <tr>\n",
              "      <th>1</th>\n",
              "      <td>13</td>\n",
              "      <td>80</td>\n",
              "      <td>14</td>\n",
              "      <td>28</td>\n",
              "      <td>15</td>\n",
              "      <td>0</td>\n",
              "      <td>0</td>\n",
              "    </tr>\n",
              "    <tr>\n",
              "      <th>2</th>\n",
              "      <td>5</td>\n",
              "      <td>48</td>\n",
              "      <td>45</td>\n",
              "      <td>22</td>\n",
              "      <td>26</td>\n",
              "      <td>3</td>\n",
              "      <td>0</td>\n",
              "    </tr>\n",
              "    <tr>\n",
              "      <th>3</th>\n",
              "      <td>3</td>\n",
              "      <td>11</td>\n",
              "      <td>15</td>\n",
              "      <td>110</td>\n",
              "      <td>8</td>\n",
              "      <td>2</td>\n",
              "      <td>0</td>\n",
              "    </tr>\n",
              "    <tr>\n",
              "      <th>4</th>\n",
              "      <td>30</td>\n",
              "      <td>8</td>\n",
              "      <td>6</td>\n",
              "      <td>0</td>\n",
              "      <td>98</td>\n",
              "      <td>8</td>\n",
              "      <td>0</td>\n",
              "    </tr>\n",
              "    <tr>\n",
              "      <th>5</th>\n",
              "      <td>5</td>\n",
              "      <td>12</td>\n",
              "      <td>19</td>\n",
              "      <td>16</td>\n",
              "      <td>8</td>\n",
              "      <td>90</td>\n",
              "      <td>0</td>\n",
              "    </tr>\n",
              "    <tr>\n",
              "      <th>6</th>\n",
              "      <td>0</td>\n",
              "      <td>2</td>\n",
              "      <td>1</td>\n",
              "      <td>0</td>\n",
              "      <td>0</td>\n",
              "      <td>0</td>\n",
              "      <td>147</td>\n",
              "    </tr>\n",
              "  </tbody>\n",
              "</table>\n",
              "</div>"
            ],
            "text/plain": [
              "col_0          0   1   2    3   4   5    6\n",
              "class_labels                              \n",
              "0             94  19   6    4  27   0    0\n",
              "1             13  80  14   28  15   0    0\n",
              "2              5  48  45   22  26   3    0\n",
              "3              3  11  15  110   8   2    0\n",
              "4             30   8   6    0  98   8    0\n",
              "5              5  12  19   16   8  90    0\n",
              "6              0   2   1    0   0   0  147"
            ]
          },
          "metadata": {},
          "execution_count": 420
        }
      ]
    },
    {
      "cell_type": "code",
      "metadata": {
        "id": "eNPhzLlJlm-Z"
      },
      "source": [
        "from sklearn.feature_extraction.text import TfidfVectorizer\n",
        "\n",
        "tfidf_vectorizer = TfidfVectorizer(analyzer='word', token_pattern=r'\\w+',stop_words=stopword_list)\n",
        "\n",
        "tfidf = dict()\n",
        "tfidf[\"train\"] = (tfidf_vectorizer.fit_transform(X_train), y_train)\n",
        "#tfidf[\"test\"]  = (tfidf_vectorizer.transform(X_test), y_test)"
      ],
      "execution_count": 421,
      "outputs": []
    },
    {
      "cell_type": "code",
      "metadata": {
        "id": "Ctmojs2irIaD"
      },
      "source": [
        "from sklearn.naive_bayes import MultinomialNB\n",
        "nb_classifier = MultinomialNB()"
      ],
      "execution_count": 422,
      "outputs": []
    },
    {
      "cell_type": "code",
      "metadata": {
        "id": "9y8DovnvrhFy",
        "colab": {
          "base_uri": "https://localhost:8080/"
        },
        "outputId": "4070afff-5598-488e-b1b6-6c1f73cec049"
      },
      "source": [
        "nb_classifier.fit(*bow[\"train\"])"
      ],
      "execution_count": 423,
      "outputs": [
        {
          "output_type": "execute_result",
          "data": {
            "text/plain": [
              "MultinomialNB()"
            ]
          },
          "metadata": {},
          "execution_count": 423
        }
      ]
    },
    {
      "cell_type": "code",
      "metadata": {
        "id": "Lf_tL5NHrmJH",
        "colab": {
          "base_uri": "https://localhost:8080/"
        },
        "outputId": "ea95fdd3-bcf4-499d-930b-e113ff2ae03f"
      },
      "source": [
        "from sklearn.model_selection import cross_val_score\n",
        "cross_val_score(nb_classifier, *bow[\"train\"], cv=5, scoring='accuracy')"
      ],
      "execution_count": 424,
      "outputs": [
        {
          "output_type": "execute_result",
          "data": {
            "text/plain": [
              "array([0.87619048, 0.95714286, 0.90952381, 0.74162679, 0.77511962])"
            ]
          },
          "metadata": {},
          "execution_count": 424
        }
      ]
    },
    {
      "cell_type": "code",
      "metadata": {
        "id": "bkCW9QHABuPG",
        "colab": {
          "base_uri": "https://localhost:8080/"
        },
        "outputId": "1968c4fb-6578-4a6e-bfcb-2adfdc9b3d53"
      },
      "source": [
        "nb_classifier_tfidf = MultinomialNB()\n",
        "nb_classifier_tfidf.fit(*tfidf[\"train\"])\n",
        "cross_val_score(nb_classifier_tfidf, *tfidf[\"train\"], cv=5, scoring='accuracy')"
      ],
      "execution_count": 425,
      "outputs": [
        {
          "output_type": "execute_result",
          "data": {
            "text/plain": [
              "array([0.92857143, 0.97142857, 0.91428571, 0.72727273, 0.80382775])"
            ]
          },
          "metadata": {},
          "execution_count": 425
        }
      ]
    },
    {
      "cell_type": "code",
      "metadata": {
        "id": "E4QoOOsgsQmy"
      },
      "source": [
        "#concat tfidf et vector_count\n",
        "#kmeans pour retrouver les cat\n",
        "#tsne pour reduc_dimension\n",
        "#commencer le traitement d'image"
      ],
      "execution_count": 426,
      "outputs": []
    },
    {
      "cell_type": "markdown",
      "metadata": {
        "id": "A0VP1KeRUH-z"
      },
      "source": [
        "Implémentation Kmeans\n"
      ]
    },
    {
      "cell_type": "code",
      "metadata": {
        "id": "g6f6Bh-7UHU2"
      },
      "source": [
        "from sklearn.cluster import KMeans\n",
        "kmeans = KMeans()"
      ],
      "execution_count": 427,
      "outputs": []
    },
    {
      "cell_type": "code",
      "metadata": {
        "id": "1onJfVSbULuN"
      },
      "source": [
        "kmeans= KMeans(n_clusters=df1_test.categories.nunique()).fit(X_tsne)"
      ],
      "execution_count": 428,
      "outputs": []
    },
    {
      "cell_type": "code",
      "metadata": {
        "id": "OJkApp1zUn50",
        "colab": {
          "base_uri": "https://localhost:8080/",
          "height": 300
        },
        "outputId": "b3be0e4f-1a2f-44c4-8fc9-82acce40aab4"
      },
      "source": [
        "pd.crosstab(index=y_train, columns=kmeans.labels_)"
      ],
      "execution_count": 429,
      "outputs": [
        {
          "output_type": "execute_result",
          "data": {
            "text/html": [
              "<div>\n",
              "<style scoped>\n",
              "    .dataframe tbody tr th:only-of-type {\n",
              "        vertical-align: middle;\n",
              "    }\n",
              "\n",
              "    .dataframe tbody tr th {\n",
              "        vertical-align: top;\n",
              "    }\n",
              "\n",
              "    .dataframe thead th {\n",
              "        text-align: right;\n",
              "    }\n",
              "</style>\n",
              "<table border=\"1\" class=\"dataframe\">\n",
              "  <thead>\n",
              "    <tr style=\"text-align: right;\">\n",
              "      <th>col_0</th>\n",
              "      <th>0</th>\n",
              "      <th>1</th>\n",
              "      <th>2</th>\n",
              "      <th>3</th>\n",
              "      <th>4</th>\n",
              "      <th>5</th>\n",
              "      <th>6</th>\n",
              "    </tr>\n",
              "    <tr>\n",
              "      <th>class_labels</th>\n",
              "      <th></th>\n",
              "      <th></th>\n",
              "      <th></th>\n",
              "      <th></th>\n",
              "      <th></th>\n",
              "      <th></th>\n",
              "      <th></th>\n",
              "    </tr>\n",
              "  </thead>\n",
              "  <tbody>\n",
              "    <tr>\n",
              "      <th>0</th>\n",
              "      <td>0</td>\n",
              "      <td>3</td>\n",
              "      <td>2</td>\n",
              "      <td>89</td>\n",
              "      <td>41</td>\n",
              "      <td>4</td>\n",
              "      <td>11</td>\n",
              "    </tr>\n",
              "    <tr>\n",
              "      <th>1</th>\n",
              "      <td>0</td>\n",
              "      <td>32</td>\n",
              "      <td>8</td>\n",
              "      <td>5</td>\n",
              "      <td>71</td>\n",
              "      <td>20</td>\n",
              "      <td>14</td>\n",
              "    </tr>\n",
              "    <tr>\n",
              "      <th>2</th>\n",
              "      <td>0</td>\n",
              "      <td>14</td>\n",
              "      <td>10</td>\n",
              "      <td>0</td>\n",
              "      <td>76</td>\n",
              "      <td>4</td>\n",
              "      <td>45</td>\n",
              "    </tr>\n",
              "    <tr>\n",
              "      <th>3</th>\n",
              "      <td>0</td>\n",
              "      <td>96</td>\n",
              "      <td>17</td>\n",
              "      <td>3</td>\n",
              "      <td>13</td>\n",
              "      <td>3</td>\n",
              "      <td>17</td>\n",
              "    </tr>\n",
              "    <tr>\n",
              "      <th>4</th>\n",
              "      <td>0</td>\n",
              "      <td>0</td>\n",
              "      <td>29</td>\n",
              "      <td>15</td>\n",
              "      <td>63</td>\n",
              "      <td>33</td>\n",
              "      <td>10</td>\n",
              "    </tr>\n",
              "    <tr>\n",
              "      <th>5</th>\n",
              "      <td>0</td>\n",
              "      <td>12</td>\n",
              "      <td>57</td>\n",
              "      <td>11</td>\n",
              "      <td>9</td>\n",
              "      <td>38</td>\n",
              "      <td>23</td>\n",
              "    </tr>\n",
              "    <tr>\n",
              "      <th>6</th>\n",
              "      <td>139</td>\n",
              "      <td>0</td>\n",
              "      <td>0</td>\n",
              "      <td>0</td>\n",
              "      <td>2</td>\n",
              "      <td>0</td>\n",
              "      <td>9</td>\n",
              "    </tr>\n",
              "  </tbody>\n",
              "</table>\n",
              "</div>"
            ],
            "text/plain": [
              "col_0           0   1   2   3   4   5   6\n",
              "class_labels                             \n",
              "0               0   3   2  89  41   4  11\n",
              "1               0  32   8   5  71  20  14\n",
              "2               0  14  10   0  76   4  45\n",
              "3               0  96  17   3  13   3  17\n",
              "4               0   0  29  15  63  33  10\n",
              "5               0  12  57  11   9  38  23\n",
              "6             139   0   0   0   2   0   9"
            ]
          },
          "metadata": {},
          "execution_count": 429
        }
      ]
    },
    {
      "cell_type": "code",
      "metadata": {
        "id": "Yv4dhD5kVjx_"
      },
      "source": [
        ""
      ],
      "execution_count": 429,
      "outputs": []
    }
  ]
}