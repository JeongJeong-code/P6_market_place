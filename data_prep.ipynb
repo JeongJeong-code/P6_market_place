{
  "nbformat": 4,
  "nbformat_minor": 0,
  "metadata": {
    "colab": {
      "name": "data_prep.ipynb",
      "provenance": [],
      "collapsed_sections": [],
      "authorship_tag": "ABX9TyP8iEM9tfofDWI2Hk5Y76Db",
      "include_colab_link": true
    },
    "kernelspec": {
      "name": "python3",
      "display_name": "Python 3"
    },
    "language_info": {
      "name": "python"
    }
  },
  "cells": [
    {
      "cell_type": "markdown",
      "metadata": {
        "id": "view-in-github",
        "colab_type": "text"
      },
      "source": [
        "<a href=\"https://colab.research.google.com/github/JeongJeong-code/P6_market_place/blob/main/data_prep.ipynb\" target=\"_parent\"><img src=\"https://colab.research.google.com/assets/colab-badge.svg\" alt=\"Open In Colab\"/></a>"
      ]
    },
    {
      "cell_type": "code",
      "metadata": {
        "colab": {
          "base_uri": "https://localhost:8080/"
        },
        "id": "am7GynraKyXU",
        "outputId": "afdc9760-5dd1-4b28-8e08-925256aa6463"
      },
      "source": [
        "import sys\n",
        "import numpy as np\n",
        "import matplotlib.pyplot as plt\n",
        "from enum import Enum\n",
        "from google.colab import files\n",
        "import pandas as pd\n",
        "import seaborn as sns\n",
        "import os.path\n",
        "import missingno as mi\n",
        "import re\n",
        "import sklearn as sk\n",
        "from mpl_toolkits.mplot3d import Axes3D\n",
        "from sklearn.preprocessing import StandardScaler\n",
        "from sklearn.decomposition import PCA\n",
        "from sklearn.metrics.cluster import adjusted_rand_score\n",
        "import statsmodels.api as sm\n",
        "from statsmodels.formula.api import ols\n",
        "from sklearn.preprocessing import StandardScaler\n",
        "from sklearn.preprocessing import OneHotEncoder\n",
        "from sklearn.compose import make_column_transformer\n",
        "from sklearn.manifold import TSNE\n",
        "from sklearn.metrics.cluster import homogeneity_score\n",
        "from sklearn.decomposition import KernelPCA\n",
        "from sklearn.cluster import (AgglomerativeClustering,\n",
        "                             KMeans, DBSCAN, SpectralClustering)\n",
        "from sklearn.metrics import davies_bouldin_score, silhouette_score\n",
        "! {sys.executable} -m pip install ipynb\n",
        "\n",
        "import cv2\n",
        "from tqdm import tqdm"
      ],
      "execution_count": 28,
      "outputs": [
        {
          "output_type": "stream",
          "name": "stdout",
          "text": [
            "Requirement already satisfied: ipynb in /usr/local/lib/python3.7/dist-packages (0.5.1)\n"
          ]
        }
      ]
    },
    {
      "cell_type": "code",
      "metadata": {
        "id": "lRsskNBsK0Yw"
      },
      "source": [
        "url = 'https://raw.githubusercontent.com/JeongJeong-code/P6_market_place/main/flipkart_com-ecommerce_sample_1050.csv'\n",
        "df_raw= pd.read_csv(url)"
      ],
      "execution_count": 29,
      "outputs": []
    },
    {
      "cell_type": "code",
      "metadata": {
        "id": "kS3z5DIWK2xR"
      },
      "source": [
        "df_cat = df_raw.product_category_tree.copy()"
      ],
      "execution_count": 30,
      "outputs": []
    },
    {
      "cell_type": "code",
      "metadata": {
        "colab": {
          "base_uri": "https://localhost:8080/"
        },
        "id": "oJjk3e2-LYz4",
        "outputId": "82b7cb33-948b-4297-b338-15bf4c76f0d0"
      },
      "source": [
        "df_cat"
      ],
      "execution_count": 31,
      "outputs": [
        {
          "output_type": "execute_result",
          "data": {
            "text/plain": [
              "0       [\"Home Furnishing >> Curtains & Accessories >>...\n",
              "1       [\"Baby Care >> Baby Bath & Skin >> Baby Bath T...\n",
              "2       [\"Baby Care >> Baby Bath & Skin >> Baby Bath T...\n",
              "3       [\"Home Furnishing >> Bed Linen >> Bedsheets >>...\n",
              "4       [\"Home Furnishing >> Bed Linen >> Bedsheets >>...\n",
              "                              ...                        \n",
              "1045    [\"Baby Care >> Baby & Kids Gifts >> Stickers >...\n",
              "1046    [\"Baby Care >> Baby & Kids Gifts >> Stickers >...\n",
              "1047    [\"Baby Care >> Baby & Kids Gifts >> Stickers >...\n",
              "1048    [\"Baby Care >> Baby & Kids Gifts >> Stickers >...\n",
              "1049    [\"Baby Care >> Baby & Kids Gifts >> Stickers >...\n",
              "Name: product_category_tree, Length: 1050, dtype: object"
            ]
          },
          "metadata": {},
          "execution_count": 31
        }
      ]
    },
    {
      "cell_type": "code",
      "metadata": {
        "colab": {
          "base_uri": "https://localhost:8080/"
        },
        "id": "Yl_9is-nK8H1",
        "outputId": "518f0666-b1cf-4b20-ea42-a333836e20c2"
      },
      "source": [
        "#str.strip\n",
        "cat_test_prime = df_cat.str.split('>>').str[0]\n",
        "\n",
        "for i in range(len(cat_test)):\n",
        "  cat_test_prime[i] = re.sub(r'[^\\w]', ' ',cat_test_prime[i])\n",
        "  cat_test_prime[i] = re.sub(r'  ', ' ',cat_test_prime[i])\n",
        "  cat_test_prime[i] = str.lower(cat_test_prime[i])\n",
        "  cat_test_prime[i] = cat_test_prime[i].strip()\n",
        "pd.Series(cat_test_prime).value_counts()"
      ],
      "execution_count": 32,
      "outputs": [
        {
          "output_type": "execute_result",
          "data": {
            "text/plain": [
              "home decor  festive needs    150\n",
              "home furnishing              150\n",
              "watches                      150\n",
              "baby care                    150\n",
              "kitchen  dining              150\n",
              "computers                    150\n",
              "beauty and personal care     150\n",
              "Name: product_category_tree, dtype: int64"
            ]
          },
          "metadata": {},
          "execution_count": 32
        }
      ]
    },
    {
      "cell_type": "code",
      "metadata": {
        "id": "fr0-mJT2M7Gb"
      },
      "source": [
        ""
      ],
      "execution_count": 32,
      "outputs": []
    },
    {
      "cell_type": "code",
      "metadata": {
        "id": "2YZOJss0N65r"
      },
      "source": [
        "ct=pd.DataFrame(cat_test_prime)\n",
        "ct.rename(columns ={'product_category_tree':'categories'},inplace=True)\n",
        "df_cat_split= pd.concat([df_raw,ct],axis=1)\n",
        "df_cat_split = df_cat_split[['product_name','image','description','product_specifications','categories']]\n",
        "df_cat_split.dropna(inplace = True)\n",
        "df_cat_split.reset_index(inplace = True,drop = True)"
      ],
      "execution_count": 33,
      "outputs": []
    },
    {
      "cell_type": "code",
      "metadata": {
        "id": "QyruJMHBOJ2S"
      },
      "source": [
        "df_cat_split.to_csv('df_cat_prime.csv')"
      ],
      "execution_count": 34,
      "outputs": []
    },
    {
      "cell_type": "code",
      "metadata": {
        "colab": {
          "base_uri": "https://localhost:8080/"
        },
        "id": "Po7C85hlLDoj",
        "outputId": "80ae57ce-4ce5-4c7d-a816-effc6c321602"
      },
      "source": [
        "cat_test_second = df_cat.str.split('>>').str[1]\n",
        "\n",
        "for i in range(len(cat_test)):\n",
        "  cat_test_second[i] = re.sub(r'[^\\w]', ' ',cat_test_second[i])\n",
        "  cat_test_second[i] = re.sub(r'  ', ' ',cat_test_second[i])\n",
        "  cat_test_second[i] = str.lower(cat_test_second[i])\n",
        "  cat_test_second[i] = cat_test_second[i].strip()\n",
        "pd.Series(cat_test_second).value_counts()"
      ],
      "execution_count": 35,
      "outputs": [
        {
          "output_type": "execute_result",
          "data": {
            "text/plain": [
              "wrist watches              149\n",
              "laptop accessories          87\n",
              "infant wear                 84\n",
              "coffee mugs                 74\n",
              "showpieces                  71\n",
              "                          ... \n",
              "housekeeping  laundry        1\n",
              "tidy home furnishing         1\n",
              "kripa s home furnishing      1\n",
              "software                     1\n",
              "jmd home furnishing          1\n",
              "Name: product_category_tree, Length: 62, dtype: int64"
            ]
          },
          "metadata": {},
          "execution_count": 35
        }
      ]
    },
    {
      "cell_type": "code",
      "metadata": {
        "colab": {
          "base_uri": "https://localhost:8080/"
        },
        "id": "tkrYfGPmLFTM",
        "outputId": "5fc27b04-8324-46e1-850a-812c9cf643e6"
      },
      "source": [
        "ct=pd.DataFrame(cat_test_second)\n",
        "ct.rename(columns ={'product_category_tree':'categories'},inplace=True)\n",
        "df_cat_split= pd.concat([df_raw,ct],axis=1)\n",
        "df_cat_split = df_cat_split[['product_name','image','description','product_specifications','categories']]\n",
        "df_cat_split.dropna(inplace = True)\n",
        "df_cat_split.reset_index(inplace = True,drop = True)\n",
        "cat_list = list(cat_test_second.value_counts().loc[lambda x: x>10].index)\n",
        "#df_cat_split.info()\n",
        "len(cat_list)\n",
        "cat_mask = df_cat_split['categories'].isin(cat_list)\n",
        "df1_test = df_cat_split.loc[cat_mask]\n",
        "df1_test.categories.value_counts()"
      ],
      "execution_count": 42,
      "outputs": [
        {
          "output_type": "execute_result",
          "data": {
            "text/plain": [
              "wrist watches                 149\n",
              "laptop accessories             87\n",
              "infant wear                    84\n",
              "coffee mugs                    74\n",
              "showpieces                     71\n",
              "fragrances                     65\n",
              "bed linen                      65\n",
              "network components             49\n",
              "cookware                       27\n",
              "table decor  handicrafts       27\n",
              "combos and kits                24\n",
              "wall decor  clocks             22\n",
              "bath linen                     21\n",
              "curtains  accessories          19\n",
              "makeup                         18\n",
              "baby  kids gifts               15\n",
              "body and skin care             15\n",
              "baby bedding                   15\n",
              "kitchen tools                  14\n",
              "baby bath  skin                14\n",
              "kitchen  dining linen          14\n",
              "containers  bottles            13\n",
              "decorative lighting  lamps     13\n",
              "cushions pillows  covers       13\n",
              "Name: categories, dtype: int64"
            ]
          },
          "metadata": {},
          "execution_count": 42
        }
      ]
    },
    {
      "cell_type": "code",
      "metadata": {
        "id": "pGdL9-i3LxIO"
      },
      "source": [
        "df1_test.to_csv('df_cat_second.csv')"
      ],
      "execution_count": 45,
      "outputs": []
    },
    {
      "cell_type": "code",
      "metadata": {
        "id": "MixGFSOJPhO7"
      },
      "source": [
        ""
      ],
      "execution_count": null,
      "outputs": []
    }
  ]
}